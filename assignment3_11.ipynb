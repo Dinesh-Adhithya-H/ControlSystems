{
 "cells": [
  {
   "cell_type": "markdown",
   "metadata": {},
   "source": [
    "# Control Systems : Assignment 3"
   ]
  },
  {
   "cell_type": "markdown",
   "metadata": {},
   "source": [
    "# Import numpy as np"
   ]
  },
  {
   "cell_type": "code",
   "execution_count": 4,
   "metadata": {},
   "outputs": [],
   "source": [
    "import numpy as np\n",
    "from numpy.linalg import inv\n",
    "import matplotlib.pyplot as plt\n",
    "import numpy.linalg as ln"
   ]
  },
  {
   "cell_type": "markdown",
   "metadata": {},
   "source": [
    "# The external force function , can be modellled as per your requirement"
   ]
  },
  {
   "cell_type": "code",
   "execution_count": 75,
   "metadata": {},
   "outputs": [],
   "source": [
    "def f1(t):\n",
    "    return(1)"
   ]
  },
  {
   "cell_type": "markdown",
   "metadata": {},
   "source": [
    "# PD control implemented below"
   ]
  },
  {
   "cell_type": "code",
   "execution_count": 111,
   "metadata": {},
   "outputs": [
    {
     "name": "stdout",
     "output_type": "stream",
     "text": [
      "controllable\n"
     ]
    }
   ],
   "source": [
    "m = 4.333\n",
    "k = 2.551\n",
    "b =0.442\n",
    "h=0.1\n",
    "sigma=0.05 # dirty derivative gain\n",
    "beta=(2*sigma-h)/(2*sigma+h)\n",
    "A=np.array([[0,1],[k/m,-b/m]])\n",
    "B=np.array([[0],[1/m]])\n",
    "C=np.array([1,0])\n",
    "D=np.array([[0],[0]])\n",
    "C_AB=np.array([[0,1/m],[1/m,-b/(m**2)]]) # controllability matrix\n",
    "if ln.det(C_AB)!=0:\n",
    "    print(\"controllable\")\n",
    "else:\n",
    "    print(\"not controllable\")\n",
    "aA=np.array([b/m,-k/m**2])\n",
    "AA=np.array([[1,b/m],[0,1]])\n",
    "alpha=(1.54,1.2)#to be found from polynomial for desired roots.\n",
    "K=(alpha-aA)@ln.inv(AA)@ln.inv(C_AB)\n",
    "K=np.array([K])\n",
    "Kr=C@ln.inv(A-B@K)@B\n",
    "Kr=-1/Kr[0]"
   ]
  },
  {
   "cell_type": "code",
   "execution_count": 91,
   "metadata": {},
   "outputs": [
    {
     "data": {
      "text/plain": [
       "(array([-0.77+0.78555713j, -0.77-0.78555713j]), [1, 1.54, 1.2100000000000002])"
      ]
     },
     "execution_count": 91,
     "metadata": {},
     "output_type": "execute_result"
    }
   ],
   "source": [
    "tr=2\n",
    "zeta=0.7\n",
    "wn = 2.2/tr # natural frequency\n",
    "des_char_poly = [1, 2*zeta*wn, wn**2]\n",
    "des_poles = np.roots(des_char_poly)\n",
    "des_poles,des_char_poly"
   ]
  },
  {
   "cell_type": "code",
   "execution_count": 92,
   "metadata": {},
   "outputs": [],
   "source": [
    "global K,Kr"
   ]
  },
  {
   "cell_type": "code",
   "execution_count": 100,
   "metadata": {},
   "outputs": [
    {
     "data": {
      "text/plain": [
       "array([[5.7883376, 6.23082  ]])"
      ]
     },
     "execution_count": 100,
     "metadata": {},
     "output_type": "execute_result"
    }
   ],
   "source": [
    "K"
   ]
  },
  {
   "cell_type": "code",
   "execution_count": 117,
   "metadata": {},
   "outputs": [
    {
     "data": {
      "text/plain": [
       "array([[ 0.        ,  1.        ],\n",
       "       [ 0.5887376 , -0.10200785]])"
      ]
     },
     "execution_count": 117,
     "metadata": {},
     "output_type": "execute_result"
    }
   ],
   "source": [
    "A"
   ]
  },
  {
   "cell_type": "code",
   "execution_count": 112,
   "metadata": {},
   "outputs": [],
   "source": [
    "def F(y,t):\n",
    "    m = 4.333\n",
    "    k = 2.551\n",
    "    b =0.442\n",
    "    K=np.array([5.7883376, 6.23082])# just an copy of K \n",
    "    pos=y[1]\n",
    "    vel=y[0]\n",
    "    force_limit=6 # force limit\n",
    "    #feedback linearized force\n",
    "    force_fb=f1(t)\n",
    "    # equlibrium force around pos=0\n",
    "    x_equi=0\n",
    "    K=np.array(K)\n",
    "    force_e=-K@np.array([pos,vel])+Kr*x_ref(t)\n",
    "    #total force \n",
    "    force=force_e+force_fb\n",
    "    #saturate force \n",
    "    if abs(force)>force_limit:\n",
    "        force=force_limit*np.sign(force)\n",
    "    return(np.array([force,0]))"
   ]
  },
  {
   "cell_type": "markdown",
   "metadata": {},
   "source": [
    "# Reference motion of mass"
   ]
  },
  {
   "cell_type": "code",
   "execution_count": 106,
   "metadata": {},
   "outputs": [],
   "source": [
    "def x_ref(t):\n",
    "    if (t%100<=49):\n",
    "        return(-1)\n",
    "    else:\n",
    "        return(1)"
   ]
  },
  {
   "cell_type": "code",
   "execution_count": 104,
   "metadata": {},
   "outputs": [
    {
     "data": {
      "text/plain": [
       "1"
      ]
     },
     "execution_count": 104,
     "metadata": {},
     "output_type": "execute_result"
    }
   ],
   "source": [
    "x_ref(4)"
   ]
  },
  {
   "cell_type": "markdown",
   "metadata": {},
   "source": [
    "# Solving for X''"
   ]
  },
  {
   "cell_type": "code",
   "execution_count": 61,
   "metadata": {},
   "outputs": [],
   "source": [
    "def f(y,t):\n",
    "    # physical constants of the system\n",
    "    m = 4.333\n",
    "    k = 2.551\n",
    "    b =0.442\n",
    "    A=np.array([[m,0],[0,1]])\n",
    "    B=np.array([[b,k],[-1,0]])\n",
    "    return(np.dot(inv(A),F(y,t)-np.dot(B,y)))"
   ]
  },
  {
   "cell_type": "markdown",
   "metadata": {},
   "source": [
    "# Function for rk4 implementation"
   ]
  },
  {
   "cell_type": "code",
   "execution_count": 54,
   "metadata": {},
   "outputs": [],
   "source": [
    "def rk4(y,t,dt):\n",
    "    k1=f(y,t)\n",
    "    k2=f(y*k1*0.5*dt,t+dt*0.5)\n",
    "    k3=f(y*k2*0.5*dt,t+dt*0.5)\n",
    "    k4=f(y+k3*dt,t+dt)\n",
    "    return(dt * (k1 + 2*k2 + 2*k3 + k4) /6)"
   ]
  },
  {
   "cell_type": "markdown",
   "metadata": {},
   "source": [
    "# Function to call state"
   ]
  },
  {
   "cell_type": "code",
   "execution_count": 101,
   "metadata": {},
   "outputs": [],
   "source": [
    "def call_state():   \n",
    "    # initializations matrices\n",
    "    v_data=[]\n",
    "    p_data=[]\n",
    "    y=np.array([0.1,0])\n",
    "    h=0.1  # dt used during simulation\n",
    "    time=np.arange(0,1000,h)\n",
    "    state=[]\n",
    "    for t in time:\n",
    "        y=y+rk4(y,t,h)\n",
    "        state.append(y)\n",
    "        v_data.append(y[0])\n",
    "        p_data.append(y[1])\n",
    "    return(p_data,v_data)"
   ]
  },
  {
   "cell_type": "markdown",
   "metadata": {},
   "source": [
    "#  Function for Animation"
   ]
  },
  {
   "cell_type": "code",
   "execution_count": 114,
   "metadata": {},
   "outputs": [
    {
     "data": {
      "image/png": "[encoded data removed]",
      "text/plain": [
       "<Figure size 432x288 with 1 Axes>"
      ]
     },
     "metadata": {
      "needs_background": "light"
     },
     "output_type": "display_data"
    }
   ],
   "source": [
    "# initialization of plot , line and point objects\n",
    "fig = plt.figure() \n",
    "ax = plt.axes(xlim=(-3, 3), ylim=(-1, 1)) \n",
    "point, = ax.plot(0, 0,marker=\"o\",color=\"green\",markersize=15) \n",
    "line, = ax.plot([],[],lw=2)\n",
    "wall, = ax.plot([],[],lw=2)\n",
    "def init():\n",
    "    line.set_data([], []) \n",
    "    point.set_data([],[])\n",
    "    wall.set_data([], []) \n",
    "    return point, line,wall\n",
    "# update the animation with each frame\n",
    "def animate(frame):\n",
    "    p,v=call_state()\n",
    "    point.set_data([p[frame]],[0])\n",
    "    line.set_data(np.linspace(-3,p[frame],100),np.zeros(100))\n",
    "    wall.set_data(-3*np.ones(100),np.linspace(-0.5,0.5,100))\n",
    "    return point,line,wall"
   ]
  },
  {
   "cell_type": "code",
   "execution_count": 115,
   "metadata": {},
   "outputs": [],
   "source": [
    "from matplotlib.animation import FuncAnimation\n",
    "anim = FuncAnimation(fig, animate,init_func=init,frames=300, interval=20, blit=False)"
   ]
  },
  {
   "cell_type": "code",
   "execution_count": 116,
   "metadata": {},
   "outputs": [
    {
     "data": {
      "text/html": [
       "<video width=\"432\" height=\"288\" controls autoplay loop>\n",
       "  <source type=\"video/mp4\" src=\"data:video/mp4;base64,AAAAIGZ0eXBNNFYgAAACAE00ViBpc29taXNvMmF2YzEAAAAIZnJlZQAANhRtZGF0AAACoAYF//+c\n",
       "3EXpvebZSLeWLNgg2SPu73gyNjQgLSBjb3JlIDE2MSAtIEguMjY0L01QRUctNCBBVkMgY29kZWMg\n",
       "LSBDb3B5bGVmdCAyMDAzLTIwMjAgLSBodHRwOi8vd3d3LnZpZGVvbGFuLm9yZy94MjY0Lmh0bWwg\n",
       "LSBvcHRpb25zOiBjYWJhYz0xIHJlZj0zIGRlYmxvY2s9MTowOjAgYW5hbHlzZT0weDM6MHgxMTMg\n",
       "bWU9aGV4IHN1Ym1lPTcgcHN5PTEgcHN5X3JkPTEuMDA6MC4wMCBtaXhlZF9yZWY9MSBtZV9yYW5n\n",
       "ZT0xNiBjaHJvbWFfbWU9MSB0cmVsbGlzPTEgOHg4ZGN0PTEgY3FtPTAgZGVhZHpvbmU9MjEsMTEg\n",
       "ZmFzdF9wc2tpcD0xIGNocm9tYV9xcF9vZmZzZXQ9LTIgdGhyZWFkcz05IGxvb2thaGVhZF90aHJl\n",
       "YWRzPTEgc2xpY2VkX3RocmVhZHM9MCBucj0wIGRlY2ltYXRlPTEgaW50ZXJsYWNlZD0wIGJsdXJh\n",
       "eV9jb21wYXQ9MCBjb25zdHJhaW5lZF9pbnRyYT0wIGJmcmFtZXM9MyBiX3B5cmFtaWQ9MiBiX2Fk\n",
       "YXB0PTEgYl9iaWFzPTAgZGlyZWN0PTEgd2VpZ2h0Yj0xIG9wZW5fZ29wPTAgd2VpZ2h0cD0yIGtl\n",
       "eWludD0yNTAga2V5aW50X21pbj0yNSBzY2VuZWN1dD00MCBpbnRyYV9yZWZyZXNoPTAgcmNfbG9v\n",
       "a2FoZWFkPTQwIHJjPWNyZiBtYnRyZWU9MSBjcmY9MjMuMCBxY29tcD0wLjYwIHFwbWluPTAgcXBt\n",
       "YXg9NjkgcXBzdGVwPTQgaXBfcmF0aW89MS40MCBhcT0xOjEuMDAAgAAACgtliIQAM//+9uy+BTX9\n",
       "n9CXESzF2kpwPiqkgIB3NMAAAAMAAHkV/BJk/UBjgE9PENePgpDNT839j310YcizNuh0in0i0Mbz\n",
       "OTWhWX3NbJXvepQaiKoE54k3yY4YcDEKCAl9h3WTnm7rHGJuxgAAAwBBFq/99Y7yky4nln9bI6J2\n",
       "7BUpiqQ2LxuhsN2X6YxsPuScW5fm3UmuM7HYV8wVT1y9BPE1GywiEtO1kq/m+ft+daVt/yEjyoqu\n",
       "C7ZlmK8HwuH6l5cUmwvGr1v/7J5SCTlrPMGlu5voch9GmiNQx34Yd7MT0ilroSZz/HX9OWW0ON6R\n",
       "bFJ5dVHfsFqthuMYiIW/lWW5iFRqJyjbA7YAAIihs5hOdUhTOXOd/kQ1cWK5geYr0fO5RUAE3kg6\n",
       "QyI1nzU7GR0int7VlWmSyYhcbC3sHiK77EDVuFkhjeaHj+Sz2p3IWmI0AU7fJmUvbnVQHH3IQfOo\n",
       "czQ3gPWRfLH3k8b7INeiSWYPh9M1NnlbfDiqgSwOX80UBXXpgSLI2pzKdbZx+QCRN0DHL3oJvfvf\n",
       "c2939Vb/SDH06IMaCAAk4wI13Iq9gJU+XjmoPUJbr1/ER95sahBwhB7Bdd2902VNaVwSzEx5fkBT\n",
       "L+IV/ide1XGxu4sR/qCoEfYfbvnQnAAPcNZ0D5dcV36NGDyilfKVGQhgeS+3a7CLIqZ++dKl+pey\n",
       "BBB38DBDHKHUyVbcPqIT2wTufaRLmM/ydFCAkXdvbvXciDUwlmqHRiaVm5mx/W45GKL1BkSohsTv\n",
       "GKw20831mRTDMvsI1Twh11pb43jLT6RIpnRNuros5iJGkQNTXRhnRX/zIOgkd3kJqin8LcnHyVwi\n",
       "sEJJ35iphH3HrZZEfICaOlyrrSoeO6Z0nQhCsNwIAhBPNreIaTgSEEAp48TJuDvV9eELW4Pm4dHC\n",
       "Qe1UgCQ6mMmzsP0wuJUMJLYN6d3h7NlLS4GkshPHWK9sKcJ3DuHMf4qDN9hMXCucblGAnxnIB2+N\n",
       "ox0h+YGvi00TX6m8tO7QKstYesvWHz3kgIGOBivdUWzIOG9dnfWPbiOLL/KwzUVP90+I+46VQQbJ\n",
       "Wz1H185W4RcLcBCh3Yf7cfDY3i65lOkGZj+w2eMyP19GxOJFdNlwkZIuI8Cs3WciCESB2pJ+psDP\n",
       "8uPrqu46dF1VSAVRrmb4xTR/tJjqGZBYEzX3Ize+yO17QhF14wguadyG7p2jyXqMqVZZCsFkiJy6\n",
       "YQ49uT5+TyvDTBJccf+f71gY7cn723sP6XXm+3pCGxu85ad4eT8KYLjIzKZmH4h6mDPhNl22bp+K\n",
       "fHM88x5OlrzOnzR4j/1aVDria6Q8Ccata254nWPQUOc4bvIin57P5q1lGna8cZmw9QCL7tKk7S+q\n",
       "nK3Y3UUSg6JYObZBeWyY6tmMmF0TlhL1JEBwasnRC1UZRFPfRIKwPvKKlFi1nz1baFCL6lXAQl89\n",
       "LCdrPYiO9faFrGlHr6D9HTXHb2pumUnKVGMNVJJXqro4cpNFvff35Pq+o27dsiCatQtrWt90dQzc\n",
       "F3jE4aCyl3i59npe9UB6gBbcVXS0nBQTXx3dLo0hY+yKjkqw9li79OfMkDIPy421rNRs9uuYju2x\n",
       "4VE9rEXoVeCLp5Uq5rR+c9wr8U6XNk8vqXyyhg72+bFdRTbqs2L/1b2MEng1UandGXToR6H903LZ\n",
       "5pQL9leO+9Pkvstmos3dqrf7ni3ssoMo/WmvnLb7ALVO0xN1ln8vy+EWV23Zi93LZAl3iyBZDKT/\n",
       "ZUvyxAVM/UA/xePczeCYzleRBKuBSSVw7skGIRC+K5L+CNU43Ge+MoQ3NIgChjV6HqFr9aJoSK3M\n",
       "y3EGjs3TH6BVdyZPSOVNywd04ZEX8OA7nNeKASboqEjbWdTcmC1Xfx7dOUpDGtUAj3+CeRXetGzL\n",
       "oOVSqWaR2mkcbmSqCKKaFA2mp+ue3nbFJxl4eqD6I3bjPVfT+bxixNF7N9hRucsfJqF8e96BGGmk\n",
       "lzv3GIP+nwK8+c9ngqd5G5g6cdyST1pCAnGeVcF9flHcNN3jopN5E3HbOicLD+Cbs5ghNgLPlg71\n",
       "SAjm174KRhPjyXGWPENbUX/euAx3Z7+uG4nD+Ho16welbvQOjmI9TdNjHIyPMS8whyok9luVef8f\n",
       "h4UlRuu4y2HXlJq83+4EBRuB1nMuKs0sP6gnjqgQI6E3fiMBD225PcUQUywCaaUW78t+utTGfylz\n",
       "63gMbhYFPYqCejr/AUlnsMEJE4/80VuFzZxG23E0xdbu0WXV8S93/0+yJmzbhemJGu1DCNixObvW\n",
       "OPnJ+bLtSa3VfMqJfCC9DX3PY2eVUEC3zR4WJ1tffsv0UaFt8vvfOUT/QcFQ/IfP0dSCKlOguwEc\n",
       "bPScGmP+sDFLIVr9MKMb7yfMIcgVuvn3lmjOcJNbK+UfAbR+9bOXQOJdIXcZHcu7b0d94kfsqPtf\n",
       "tonqPcv9QLjPZQA6Pk7Y/Qxx4jStpYDaUEhEkitTtUrxuPxv4drXS4wgUCFpOTIntqgUMRc+0wuA\n",
       "Z19pPuPo4jmUs+79t69OaVimRy5tOMXx+U/35eNMGDfosITJIbdynEZgc365WMoJDv0zxmJKm9J0\n",
       "cX55xSKF3sJAJd4ujmKPRdetSNA6ohJX4HVE4KLJNaXS5KQCmLh/bR0FmAH/xwUjc7Y0MsH2qosg\n",
       "ycPFUYoa6haGIAgxBJKpq2jzwnOtShoPu0xfDTwQAuDpjEn8CRZ5HnRggWg/HNggwA9sadhxzA1y\n",
       "Dygf6a3IimeQUS7sXb6dcce/PYunf+qf5lLix2sPYnmStgxzD4hnZIZuZ/juqflkBKrjVmYQEGR0\n",
       "KJydXmQkC8FdY0I7SB3GcYnMd76j0+bOA/vnccwjKNrAv2tu6UbzbjhufcysmytFtbJin36TSodF\n",
       "8T+tPQ5WM/qYL6RU2Llg6oTC0AWBoJ4Gi9XSqP8lcRNMYc7szVg7c5snvFyrj4IFoR1sBBBTCK8g\n",
       "cJ2YQdsYNd4B0DebhECAId1dFOGQszxN4ZXNwzHyk63jMs2J54XNRTQZeDi0JDv71vi9KYC7XSyE\n",
       "HCVOOqB2aZp3L/kLXMJ+k+neVVuBJjcfwSurwO2MDUsiuhO2QNJLlzmusGe0mGdqSuDxpWLjO/du\n",
       "BBjtJyaEy7oyaLvUI7Lid6SZYjhTT4Ad8+gnZ8aybHlhQ6LZDzh+CgsqHOPJ7XSj/gvOjfXCP057\n",
       "uyxFFf6KMwQfM+XYAMKJ3uv7ydfPkrIXj5wPcX2Ar+DcFp7PbSJOmwL3dupaqqrm815zfRfeQQ6E\n",
       "DX5HsL+Oy46ne9gnwSMOSPco3XEdLaJcLFaKMonQTOXwX0HcZz4JP2qXrzhiO3BvpbTdaYUTmTRg\n",
       "dcjVrQlvXzgB+biJ7z0SWPfQN3FToxgvxW8UgILSERZNf1lw7YExuRPAL2tYQaoFN1MAAADfQZok\n",
       "bEM//p4Qf+LEwaHIila6qGCtp+cmAAADALW4Fc0AmHOCp+OPpD6Iif+921TMBiOizsi30s7L/eyT\n",
       "2lFjc5W5Gkuj8rWdQfaKe1W1LsCO8L3dN1FOZb4A7P315FPmiQB5r3ryF+3xeYnQ7MJeneG5I7We\n",
       "fULjCeo9zisycin2gmH7lPp39yH71tzZ2IgocjMKur5Kf6nIVx9W4mR7M0tGHlTwsw5/YDijRHOH\n",
       "LJJPOoBAOFanLaYe4X3R9VSp0bDdKu7vZe3N5MCPJrfwoXwhkpi2IKVhPcDPDh9gRAAAADJBnkJ4\n",
       "hH8FM94lob2/F2GIxQAANxpI/taMseDJKDgDVmXkZ1YVW/CCkGec7BjpvuAktQAAACsBnmF0R/8H\n",
       "4n6wpmZ07cQAAAMAkImtSqFkgVa85o60Yvzb5r6e3R+H7MhIAAAAFAGeY2pH/wfqNLpgFu4OfrER\n",
       "txHBAAAAMEGaaEmoQWiZTAhn//6eEAAU+wFP71AT+4TodphqEXJtgAgF1n6dg3ShKyfKlKCxgwAA\n",
       "AB5BnoZFESwj/wKOFAPbj3CiRJTqHWkOgA9Db2KhmYEAAAAXAZ6ldEf/A/MU1YQurVFjeNkYu+K9\n",
       "niEAAAATAZ6nakf/A/UAEJszVjadrWYsCAAAACZBmqxJqEFsmUwIZ//+nhAAFPsBT/CSAZ0MneUR\n",
       "ZZdaNYpqvZX1ugAAABpBnspFFSwj/wKOFAPn1SVSwWLI6p3K5qKIhwAAABMBnul0R/8D8xTVhC6t\n",
       "UWN414PAAAAAFAGe62pH/wP1ABCbM1VXVh5cLW2nAAAAKkGa8EmoQWyZTAhn//6eEAAVo6xP77kH\n",
       "7gRFxDddXeCrNlWk5brCrEWCBwAAABxBnw5FFSwj/wKOFAPn1SYUekNKXEHTbShDl1xhAAAAFwGf\n",
       "LXRH/wPzFNWELqzqyh1tf5d+wkoVAAAAFAGfL2pH/wP1ABCbM2Al7ki0w7gcAAAAMEGbNEmoQWyZ\n",
       "TAhn//6eEAAWHvaNrnM+5uVXoJ6SU7Ep92zoqw0yTypH5yzsg+pwoAAAABlBn1JFFSwj/wKOFAPn\n",
       "1Sa2bTgvck/LhdJJAAAAFAGfcXRH/wPzFNWELr/PFsiZwZZuAAAAFQGfc2pH/wP1ABCbM2Al7ki1\n",
       "jIGzcAAAADFBm3hJqEFsmUwIZ//+nhAAFqr3Fu6/QcLvumTgiM1jyNVlKdkYJlsueoPTmqf/CTfB\n",
       "AAAAGEGflkUVLCP/Ao4UA+fVJhKfBeXEHTFK7gAAABYBn7V0R/8D8xTVhC6+z7rmEUJUwsrvAAAA\n",
       "FQGft2pH/wP1ABCbM2EVlohDw/LNwQAAAC1Bm7xJqEFsmUwIZ//+nhAAFYrV11R4ULHdzCb/1mix\n",
       "tLitxF9xMB7SkDZQBewAAAAZQZ/aRRUsI/8CjhQD59UmAcJb+0nHca5I4QAAABQBn/l0R/8D8xTV\n",
       "hC6/zxbImcGWbgAAABYBn/tqR/8D9QAQmzNgJe5ItMPCgm9xAAAAM0Gb4EmoQWyZTAhn//6eEAAW\n",
       "Gt4l2A2YAP2AC+sf6wrceVUaaelrtUJsFEs2nBQOI4JymwAAABtBnh5FFSwj/wKOFAPn1SbCnwXk\n",
       "aWPsCwZVlUAAAAAXAZ49dEf/A/MU1YQu1c8Wwd7t/cOZdHQAAAAVAZ4/akf/A/UAEJszbA43G3V0\n",
       "ft/xAAAAKUGaJEmoQWyZTAhn//6eEAAWGtXXVHj1Brry9Vv9LCVaioREX5MyDSm0AAAAF0GeQkUV\n",
       "LCP/Ao4UA+fVJrHC6PahlC2pAAAAFAGeYXRH/wPzFNWELtXPFsiZwZZeAAAAFAGeY2pH/wP1ABCb\n",
       "M2sl7ki0w7f9AAAAL0GaaEmoQWyZTAhn//6eEAAWGtXXVHj1BChb2tyYzJFG9JhuMjpCUZ2gixoM\n",
       "Xj7xAAAAF0GehkUVLCP/Ao4UA+fVJrHCW/tJx1l5AAAAFAGepXRH/wPzFNWELtXPFsiZwZZfAAAA\n",
       "FAGep2pH/wP1ABCbM2sl7ki0w7f8AAAAP0GarEmoQWyZTAhn//6eEAAWrF6Al/XgqoC7ayUX/9an\n",
       "bv34i3Mls4Pp7HHB+DuCGLUDEhX2hmIoN3LJzPnM8AAAABlBnspFFSwj/wKOFAPn1Se5xps5lSaY\n",
       "F4PBAAAAFAGe6XRH/wPzFNWELtXPFsiZwZZeAAAAFgGe62pH/wP1ABCbM3uv1+5YjF2ZfLAAAAAk\n",
       "QZrwSahBbJlMCGf//p4QABau7ltEDQBFQF1W2OkIx10w0Tv5AAAAGkGfDkUVLCP/Ao4UA+fVJ7gN\n",
       "bajeXYCd4pXBAAAAEwGfLXRH/wPzFNWELvS4mBVXfmEAAAAXAZ8vakf/A/UAEJsze4WaREKl1J3o\n",
       "l0AAAAAfQZs0SahBbJlMCGf//p4QABawVl698BjRFtrG4g3eKAAAABlBn1JFFSwj/wKOFAPn1Sej\n",
       "OIBWoZRO02dBAAAAFAGfcXRH/wPzFNWELvS4mBVYHCt9AAAAFAGfc2pH/wP1ABCbM3o57ki0w7fm\n",
       "AAAAH0GbeEmoQWyZTAhn//6eEAAWqwFP701EgWosyx1hXccAAAAYQZ+WRRUsI/8CjhQD59UnuA11\n",
       "v/r9otWAAAAAEwGftXRH/wPzFNWELviRY3jXfmEAAAATAZ+3akf/A/UAEJsze7BNrWYrKQAAACNB\n",
       "m7xJqEFsmUwIZ//+nhAAFqsB/qAIq1bgfF+FgY2VWoE0hgAAABdBn9pFFSwj/wKOFAPn1SekcF4D\n",
       "1TrJwQAAABMBn/l0R/8D8xTVhC74kWN4135gAAAAEwGf+2pH/wP1ABCbM3uwTa1mKykAAAAuQZvg\n",
       "SahBbJlMCGf//p4QABarNqD1zAIt6tL3J2gRrVmLrRrFNV6Fm3b0L2m0UwAAABZBnh5FFSwj/wKO\n",
       "FAPn1Se5zYtCesnAAAAADgGePXRH/wPzFNWEKuFbAAAAEwGeP2pH/wP1ABCbM3pzzDy2/MEAAAAc\n",
       "QZokSahBbJlMCGf//p4QABau+e4Gk6wi/84/wAAAABVBnkJFFSwj/wKOFAPn1SeoirmuLJ0AAAAT\n",
       "AZ5hdEf/A/MU1YQu+JFjeNd+YAAAAA8BnmNqR/8D9QAQmzFwrYEAAAApQZpoSahBbJlMCGf//p4Q\n",
       "ABarN/1AEOI9wyPvH+Cz09fYvH2hWUqFPJkAAAAWQZ6GRRUsI/8CjhQD59Unuc2LQnrJwQAAAA4B\n",
       "nqV0R/8D8xTVhCrhWwAAABMBnqdqR/8D9QAQmzN6c8w8tvzAAAAAHUGarEmoQWyZTAhn//6eEAAL\n",
       "r/cJ0O0w1CLk7ORcAAAAEUGeykUVLCP/Ao4UA+fVBwrZAAAADgGe6XRH/wPzFNWEKuFbAAAADwGe\n",
       "62pH/wP1ABCbMXCtgAAAABNBmvBJqEFsmUwIZ//+nhAAAAdNAAAAEUGfDkUVLCP/Ao4UA+fVBwrZ\n",
       "AAAADgGfLXRH/wPzFNWEKuFbAAAADwGfL2pH/wP1ABCbMXCtgAAAACNBmzRJqEFsmUwIZ//+nhAA\n",
       "F1339YLTrlQsjl4vsLRHH+lhWwAAABNBn1JFFSwj/wKOFAPn1Se6Ei0JAAAADgGfcXRH/wPzFNWE\n",
       "KuFbAAAAEAGfc2pH/wP1ABCbM3u2oVsAAAAxQZt4SahBbJlMCGf//p4QABavD00AChk3YdPCl0zQ\n",
       "TSkartdgihrh02YPkxaq9GS7oQAAABZBn5ZFFSwj/wKOFAPn1SfBxgZQvC1YAAAAEAGftXRH/wPz\n",
       "FNWELvTKQrcAAAATAZ+3akf/A/UAEJsze7BNrWYrKQAAABNBm7xJqEFsmUwIZ//+nhAAAAdMAAAA\n",
       "EUGf2kUVLCP/Ao4UA+fVBwrZAAAADgGf+XRH/wPzFNWEKuFbAAAADwGf+2pH/wP1ABCbMXCtgQAA\n",
       "ADBBm+BJqEFsmUwIZ//+nhAAFqtBvUAXJHzOk8NZmpSVBlJJJ98q5garS4OwgBHr8ccAAAAWQZ4e\n",
       "RRUsI/8CjhQD59Unuc2LQnrJwAAAAA4Bnj10R/8D8xTVhCrhWwAAABMBnj9qR/8D9QAQmzN7sE2t\n",
       "ZispAAAAFkGaJEmoQWyZTAhn//6eEAALoDzssVsAAAARQZ5CRRUsI/8CjhQD59UHCtkAAAAOAZ5h\n",
       "dEf/A/MU1YQq4VsAAAAPAZ5jakf/A/UAEJsxcK2BAAAAJ0GaaEmoQWyZTAhn//6eEAAWq0FrgDO4\n",
       "GNFwug8nV/COCDXVjZHIYQAAABVBnoZFFSwj/wKOFAPn1SeoirmuLJ0AAAATAZ6ldEf/A/MU1YQu\n",
       "+JFjeNd+YQAAAA8BnqdqR/8D9QAQmzFwrYAAAAAkQZqsSahBbJlMCGf//p4QABawWsYQdQBFdqZc\n",
       "/xJXzV7YlotoAAAAFkGeykUVLCP/Ao4UA+fVJ7nNi0J6ycEAAAAOAZ7pdEf/A/MU1YQq4VsAAAAT\n",
       "AZ7rakf/A/UAEJsze7BNrWYrKAAAABNBmvBJqEFsmUwIZ//+nhAAAAdNAAAAEUGfDkUVLCP/Ao4U\n",
       "A+fVBwrZAAAADgGfLXRH/wPzFNWEKuFbAAAADwGfL2pH/wP1ABCbMXCtgAAAAClBmzRJqEFsmUwI\n",
       "Z//+nhAAFqtBa4AzbmzZeC/jCqO+uZEWmsY6hTibowAAABVBn1JFFSwj/wKOFAPn1SeoirmuLJ0A\n",
       "AAATAZ9xdEf/A/MU1YQu+JFjeNd+YAAAAA8Bn3NqR/8D9QAQmzFwrYAAAAATQZt4SahBbJlMCGf/\n",
       "/p4QAAAHTQAAABFBn5ZFFSwj/wKOFAPn1QcK2AAAAA4Bn7V0R/8D8xTVhCrhWwAAAA8Bn7dqR/8D\n",
       "9QAQmzFwrYEAAAAoQZu8SahBbJlMCGf//p4QABarQGE5WgDATxSG12//Ztk/IkzPFQH7jAAAABVB\n",
       "n9pFFSwj/wKOFAPn1SeoirmuLJ0AAAATAZ/5dEf/A/MU1YQu9LiYFVd+YAAAAA8Bn/tqR/8D9QAQ\n",
       "mzFwrYEAAAATQZvgSahBbJlMCGf//p4QAAAHTQAAABFBnh5FFSwj/wKOFAPn1QcK2AAAAA4Bnj10\n",
       "R/8D8xTVhCrhWwAAAA8Bnj9qR/8D9QAQmzFwrYEAAAArQZokSahBbJlMCGf//p4QABarQWuAMrNV\n",
       "HfvaIZHbEhtaN2ivn4P3SykmTAAAABVBnkJFFSwj/wKOFAPn1SeoirmuLJ0AAAATAZ5hdEf/A/MU\n",
       "1YQu+JFjeNd+YAAAAA8BnmNqR/8D9QAQmzFwrYEAAAATQZpoSahBbJlMCGf//p4QAAAHTQAAABFB\n",
       "noZFFSwj/wKOFAPn1QcK2QAAAA4BnqV0R/8D8xTVhCrhWwAAAA8BnqdqR/8D9QAQmzFwrYAAAAAY\n",
       "QZqsSahBbJlMCGf//p4QAAueJ+jUQsyoAAAAEUGeykUVLCP/Ao4UA+fVBwrZAAAADgGe6XRH/wPz\n",
       "FNWEKuFbAAAADwGe62pH/wP1ABCbMXCtgAAAABNBmvBJqEFsmUwIZ//+nhAAAAdNAAAAEUGfDkUV\n",
       "LCP/Ao4UA+fVBwrZAAAADgGfLXRH/wPzFNWEKuFbAAAADwGfL2pH/wP1ABCbMXCtgAAAABNBmzRJ\n",
       "qEFsmUwIZ//+nhAAAAdMAAAAEUGfUkUVLCP/Ao4UA+fVBwrZAAAADgGfcXRH/wPzFNWEKuFbAAAA\n",
       "DwGfc2pH/wP1ABCbMXCtgAAAACtBm3hJqEFsmUwIZ//+nhAAFqtAYTbMATcoffn8er5CHI9jgzpq\n",
       "lxCcTdGBAAAAFUGflkUVLCP/Ao4UA+fVJ6iKua4snAAAABMBn7V0R/8D8xTVhC74kWN4135hAAAA\n",
       "DwGft2pH/wP1ABCbMXCtgQAAABNBm7xJqEFsmUwIZ//+nhAAAAdMAAAAEUGf2kUVLCP/Ao4UA+fV\n",
       "BwrZAAAADgGf+XRH/wPzFNWEKuFbAAAADwGf+2pH/wP1ABCbMXCtgQAAAB5Bm+BJqEFsmUwIZ//+\n",
       "nhAACtfyII4PfAX17WRYu4EAAAARQZ4eRRUsI/8CjhQD59UHCtgAAAAOAZ49dEf/A/MU1YQq4VsA\n",
       "AAAPAZ4/akf/A/UAEJsxcK2BAAAAKkGaJEmoQWyZTAhn//6eEAAWqzergDWCb+54iYkkmDe+2/o3\n",
       "I2VWoE0hgAAAABZBnkJFFSwj/wKOFAPn1Se5zYtCesnBAAAADgGeYXRH/wPzFNWEKuFbAAAAEwGe\n",
       "Y2pH/wP1ABCbM3pzzDy2/MEAAAATQZpoSahBbJlMCGf//p4QAAAHTQAAABFBnoZFFSwj/wKOFAPn\n",
       "1QcK2QAAAA4BnqV0R/8D8xTVhCrhWwAAAA8BnqdqR/8D9QAQmzFwrYAAAAATQZqsSahBbJlMCGf/\n",
       "/p4QAAAHTAAAABFBnspFFSwj/wKOFAPn1QcK2QAAAA4Bnul0R/8D8xTVhCrhWwAAAA8BnutqR/8D\n",
       "9QAQmzFwrYAAAAATQZrwSahBbJlMCGf//p4QAAAHTQAAABFBnw5FFSwj/wKOFAPn1QcK2QAAAA4B\n",
       "ny10R/8D8xTVhCrhWwAAAA8Bny9qR/8D9QAQmzFwrYAAAAATQZs0SahBbJlMCGf//p4QAAAHTAAA\n",
       "ABFBn1JFFSwj/wKOFAPn1QcK2QAAAA4Bn3F0R/8D8xTVhCrhWwAAAA8Bn3NqR/8D9QAQmzFwrYAA\n",
       "AAATQZt4SahBbJlMCGf//p4QAAAHTQAAABFBn5ZFFSwj/wKOFAPn1QcK2AAAAA4Bn7V0R/8D8xTV\n",
       "hCrhWwAAAA8Bn7dqR/8D9QAQmzFwrYEAAAATQZu8SahBbJlMCGf//p4QAAAHTAAAABFBn9pFFSwj\n",
       "/wKOFAPn1QcK2QAAAA4Bn/l0R/8D8xTVhCrhWwAAAA8Bn/tqR/8D9QAQmzFwrYEAAAATQZvgSahB\n",
       "bJlMCGf//p4QAAAHTQAAABFBnh5FFSwj/wKOFAPn1QcK2AAAAA4Bnj10R/8D8xTVhCrhWwAAAA8B\n",
       "nj9qR/8D9QAQmzFwrYEAAAATQZokSahBbJlMCGf//p4QAAAHTAAAABFBnkJFFSwj/wKOFAPn1QcK\n",
       "2QAAAA4BnmF0R/8D8xTVhCrhWwAAAA8BnmNqR/8D9QAQmzFwrYEAAAATQZpoSahBbJlMCGf//p4Q\n",
       "AAAHTQAAABFBnoZFFSwj/wKOFAPn1QcK2QAAAA4BnqV0R/8D8xTVhCrhWwAAAA8BnqdqR/8D9QAQ\n",
       "mzFwrYAAAAAXQZqsSahBbJlMCGf//p4QABWuZW2ZYXcAAAARQZ7KRRUsI/8CjhQD59UHCtkAAAAO\n",
       "AZ7pdEf/A/MU1YQq4VsAAAAPAZ7rakf/A/UAEJsxcK2AAAAAE0Ga8EmoQWyZTAhn//6eEAAAB00A\n",
       "AAARQZ8ORRUsI/8CjhQD59UHCtkAAAAOAZ8tdEf/A/MU1YQq4VsAAAAPAZ8vakf/A/UAEJsxcK2A\n",
       "AAAAKUGbNEmoQWyZTAhn//6eEAAWtlOptRIAb8QpRbpmXdn0igRe/Xu+qV5AAAAAFkGfUkUVLCP/\n",
       "Ao4UA+fVJ7nNi0J6ycEAAAAOAZ9xdEf/A/MU1YQq4VsAAAATAZ9zakf/A/UAEJsze7BNrWYrKAAA\n",
       "ABNBm3hJqEFsmUwIZ//+nhAAAAdNAAAAEUGflkUVLCP/Ao4UA+fVBwrYAAAADgGftXRH/wPzFNWE\n",
       "KuFbAAAADwGft2pH/wP1ABCbMXCtgQAAABNBm7xJqEFsmUwIZ//+nhAAAAdMAAAAEUGf2kUVLCP/\n",
       "Ao4UA+fVBwrZAAAADgGf+XRH/wPzFNWEKuFbAAAADwGf+2pH/wP1ABCbMXCtgQAAABNBm+BJqEFs\n",
       "mUwIZ//+nhAAAAdNAAAAEUGeHkUVLCP/Ao4UA+fVBwrYAAAADgGePXRH/wPzFNWEKuFbAAAADwGe\n",
       "P2pH/wP1ABCbMXCtgQAAABNBmiRJqEFsmUwIZ//+nhAAAAdMAAAAEUGeQkUVLCP/Ao4UA+fVBwrZ\n",
       "AAAADgGeYXRH/wPzFNWEKuFbAAAADwGeY2pH/wP1ABCbMXCtgQAAABNBmmhJqEFsmUwIZ//+nhAA\n",
       "AAdNAAAAEUGehkUVLCP/Ao4UA+fVBwrZAAAADgGepXRH/wPzFNWEKuFbAAAADwGep2pH/wP1ABCb\n",
       "MXCtgAAAABNBmqxJqEFsmUwIZ//+nhAAAAdMAAAAEUGeykUVLCP/Ao4UA+fVBwrZAAAADgGe6XRH\n",
       "/wPzFNWEKuFbAAAADwGe62pH/wP1ABCbMXCtgAAAABNBmvBJqEFsmUwIZ//+nhAAAAdNAAAAEUGf\n",
       "DkUVLCP/Ao4UA+fVBwrZAAAADgGfLXRH/wPzFNWEKuFbAAAADwGfL2pH/wP1ABCbMXCtgAAAABNB\n",
       "mzRJqEFsmUwIZ//+nhAAAAdMAAAAEUGfUkUVLCP/Ao4UA+fVBwrZAAAADgGfcXRH/wPzFNWEKuFb\n",
       "AAAADwGfc2pH/wP1ABCbMXCtgAAAABNBm3hJqEFsmUwIZ//+nhAAAAdNAAAAEUGflkUVLCP/Ao4U\n",
       "A+fVBwrYAAAADgGftXRH/wPzFNWEKuFbAAAADwGft2pH/wP1ABCbMXCtgQAAABJBm7lJqEFsmUwI\n",
       "//yEAAADAbMAAAsgZYiCAA///vdonwKbWkN6gOSVxSXbT4H/q2dwfI/pAwAAAwAAr9Z/CUmrMB5g\n",
       "jdGi62HfXCwx4eq62WXyeZoYL95kfM9vL685/zcOHkoPBeqDoJHfflOdGx/2RqAShVrvG1EglDVK\n",
       "i2bh4URat8KuxcmLOS8QAAADAqxzTnvCzTpgPNSpT1m8EEWME9QS+r+2RbZAqQQPAQh4wxL0b7ui\n",
       "nl/ddraQYcx18a91yZIczPEaT4eK53kgGT9R7wuzjaAy7IJBFmxjMZQVzYsKha+8MMNYx1q4AnBF\n",
       "UhmX3SW438eCCYZlQelidngaSk4Ty76AKnmayvT+u9gj4cSc/FMd4PaRnM3S4h8XDQsLZh2oBMaP\n",
       "rkwVsG3+su9uSn5o4a0EoeVzWIACEasRBajfTXlxaSfHlzCyVD2idXSzkeywwrEyZoDt6TZWk8OM\n",
       "Ch4cyMfGP2ySeYmEL5FZ9wKlros0gvmW4PU2MWkxTnvY2UnBbGlAEVM/Mg7AGevjZLqElxxXq6Z5\n",
       "6rKOKz+9SgN7r0BBOSVNisEiM5oUvfNRQGmiDMBNvyBgO/90S0dMAHG29arPjeIpGp8KJtaYhsT/\n",
       "Ow063CjwLRjxcqQ+a8Cy6WgAHNPD53J2y94lJEl/xHS1OP68gdinHS2o8Pc906tCW94AEO3HVc9i\n",
       "uxJH4KLllrISJd4KD1/Yd9RrOll83s/XQA5tI5/PAAAh5OH/f67F4Zlz8i41FPBd4BQw91uMx7XG\n",
       "DeOmdk7+aiM1/jX+GI6E7uu/IMvQKZbD1jBN7Mit2bhSJzFk9zLI3s9uJr8i+RnuYFJmSTZcvrUs\n",
       "JvCc/HBGKoW1EqA3PEHiuRPeWz60iFGQQ3Y89rQxKdmeozvPTyuN7AIEfZYR3iWPGt2jfAdxyUO3\n",
       "GWXwdORDmfVVKxSIqyCCY4+seYf+x6XHBtopihmgOjIo7AW2b+P/RNZywxF2EgU3O4lnE5kVjb9a\n",
       "LcS56FAAVlQYzHREUWfLYDaQvQYr1zzN8Whs3B9ENeSDKbpPNvBkheYfw3TuOey5Fik4kXSkGuM2\n",
       "tOfTjEtBlTBcXSH3xo4aHOIyiDPjJZcQ4cm6OHloMxxUnL6b2PN2AGddEY92VZFc88c8vgOSib9r\n",
       "v4Z4LSvfh4QRedii47sPdhnQkhpx0IayacPE1DnEzrE0OdEFrUzKtd3CN4s7q31JF+ccA5lJh4np\n",
       "4KmNQL8tuReaz3s+uYM5iLOj7sjxayHXn7xk269MyZi34SWs1mwywOsdpZZIAg56s+qLu8GOFOCi\n",
       "gXU1Pk2Y3m099u2/8slhoNiHBGC0n1hdi0+Ka6iK+i3M7JzPGHeYpgci9+4QDGGZt7Z5fHUwt7sr\n",
       "ieST0nNEvKM7zXU26Tn8nCdgPVtHY+0KLne0EIrJgdxufZpsHJY8ulrRFD08jXP507yfTvDi/Na3\n",
       "KBGKZQ3iEwxJPkhgDMN+7ftkKr4yD9sccKERfFAOra5XClWKfuI/vRmbSwd+J50szYyWaeWF09Xx\n",
       "pCCfOnd3xaS6HjhjZnWMbRNXSgcvPAYkoLNDB9DHrev6a/t1izzxrcSYlKTjbbwBOGJHNHzqB+Rb\n",
       "FV7DCIOVpQ4P67ioDfd2nZf1MYTxGmEL0nCU2nERi+NbDywvqkCUEFeTGewIXaBwCkSmJuddAvwE\n",
       "6t4CE6DyvFil8KPosNCBmDeplBMU+sVubwQVcpM6qRfJ070oospNQz9i+tLnFE5XVByWAKIsGmiG\n",
       "xBxGT5zY6Yme7mSmz1NZWD1D7Lp5Z/Z2a3yWGYct5GPNEgM3L4uW7wyyYpi17cyZ3e69rTubFelQ\n",
       "wu7t/45JlwxnfqZc9xSlUi418DIJWu2DyGDwc3xhUMs9Oeyyd066R3W71Q/KrMbJP9o61X+7G2bf\n",
       "7schcCOFawyITdFAVQT9nud6dPpCZkcXzFa34ilc/ijbhzXHeV7aU/lRC4mLMeoWTMVZ8FW4nkEB\n",
       "CdxLvmx7nCKO9riVn0RPWtQrZV2rTzoF3Bj6GvA/2OCsvI23ShyX7OO+Ih7v97BVYZYlOSidyMj/\n",
       "x+vERi3Zj1aluPdo0Y5JvoUHzq3xQZmekXqN2Y6el786jHKTMBVdD61n2YxfvmW2k6MtpYL4hNlG\n",
       "WMUwU5h7q+gQjJVkyB1jSpTOBsQnpAFGXAjZhsLLjDvV0IJtBy8rik2ZnsQVbhzmoTqFbDBpXnj/\n",
       "NhqMBIzYeTqSBXWkYxakgxFfINeMFXAbApB8msPpTbi8BSobzus2qMap/oJHUfV0u/1cvM1eZXEJ\n",
       "p0IQ84sAGPcCo2xScDTY0TDdRywLG1TkWO4impX/ZiK66eCt+z3DLyehiV7R6gIBTU9cg28Uerlq\n",
       "dqtVYMFK3nGS+7rnJZPBCy4TYG8jKFC5+MpMioqddpCWMhKnMxmGbA3eTWEtjsA0U/f1/nJwvz0w\n",
       "JyNSe81G5Bl+QT+PZpXiBUFAVB+44oMVtymagtzbgQqLPDeiXFbRKK5ooDZb53vaY37afquGKA9H\n",
       "PeCmSQKZtPsO2Adt59ReI2Pgs5foAvX1E0rA6mKNjZx+LzNkX/ZNbXz/Eyv/3qMy73NGFT6I5/9l\n",
       "b96qHMDM7n+gCQcGPGJkuwrC9Jgy4PjPeuPprtot6GPCMQXT+4nbHqYBLpd1eTK9rPnSCEbjexMy\n",
       "HJqccXq3SVNcHp2hL70DHQ5erIHWw5FCxX5nVa43qGnpHzeZhz7b9rcU2QqQl7ZUi/yyocyjjaIk\n",
       "ddNDhQZMFBeNbr7OiBy2VeFg/t8WtrrhpHbXSCX+PyD7M1E1ryiaASKescIG/SXAo/c/Rv+rJ8J+\n",
       "m8qoHpj+3Cm/8QT0/yT2LZV+b5P9x7NcEs/y41HiSO/vQyNTOxzh9N4aNs1v7HGCxJQ24k0P2EFG\n",
       "lJ3O4x3sO4fIS1O6txGFaPLIh8gbPMsKlr7V7pt5k3mfnOw4KR6Iwt8c9UVy8wUbzvzrMNUoNV9e\n",
       "fwmft4wlKDiuPgYz9aCDoxuC5KKSmmVO15sz7QoEiVGY5Q5aU/Ssoi4hBo7wjUmfINJoOkZuZzfY\n",
       "9Mc9oIQ69cfH9+aEo4ewN/W+zLU7qbZjMxOy7F4ZfDaLdiLwABtTfTODPybA39b7MwgEtS9V5X+4\n",
       "2KpXH2/u+8PeDURYMiIfd4QeS2mFHfaXw5mlTxNgCQjPjzgAnQcVKNuZ0Y/yXkhFf+N9yLN55KLM\n",
       "hpuu5M5RNZ97nBGW6txgJeKouNjUlMizpPmz0zqLd7jujWSNFyLij+LaixzcGwpul0h4EPrLBd1y\n",
       "D5n2oLNP2NAfq60MduzdxSvyk+2Z67Z/OgerDMy2PU+JzKXODEVz3MWI94iDWbtCAcmkQSHCrOXf\n",
       "gMd1UDSFdJusqv6L2qhNpE8G6X4p0tI+kdc6aAToFlEY1//7NSqf6eUqgje5UCJsoLGz6wAQEWv8\n",
       "Dthp+qFz+q86OMeiPCOKyKC55mAwX08cZXca8oU/btONrE+XfnPMRuF8oIQqv2YbxLg+ngdTmuSW\n",
       "Td+X9U9f/Y/aJZhogbqzMO1ibpNGVnYBWwgfKGUCdya0LkTu+13wfBsK1fog/grKnk9bOkkLAOr7\n",
       "d3m4qGY72QCsdorCsDsq7msgrgF9owGWFh9C8J/NFHELJnlERAxmzBacZbnE/Fu7vjl8wW3RbrYV\n",
       "biatbkD7gTTtjahtjZv9s08oncv79gkJYLZIf9pnwNAVzGIGUeJWb43J7C1cgKiERaU56x16ZRyC\n",
       "SCZZ4s1m1du2A3FbbSktvCARVLVeM9sG0k0eppX5g0XUHzzv22iG4lQUzr3KzT3EXfp6TGxdJavk\n",
       "1RGgMGBDAACegQAAALdBmiRsQz/+nhAHsrtkAJ3OAcbNR5N5YKKS4udh1hjoDjgnrGqKuhS5Abrs\n",
       "7/7NIpDRMlhpmH5zCgNzgrome0Q0ui1AAJoq/c6yyT+wxlKjVIQT+f4a/33DRT6u1l5R/0hMAPQR\n",
       "KRynmEQY96KidnojA35tk+Rse+Egjx0qsIXqHr8/ecF8Q01sGvTk4P4Le5hZ4oFnxOstw97lkyoI\n",
       "YmM1KOeQbQr4v7yc7BdFHx1REtYyMwiQumAAAAAqQZ5CeIR/AEdgQgT8MpZj54SL3FBCcL7in3CQ\n",
       "leP7OSi8lB4WmbJ3wPXxAAAAHwGeYXRH/wBxIo2g9hIgTVGzk1jpMfbAAAApRHmJJ+UAAAAbAZ5j\n",
       "akf/ADiwAKR4jMKt85+0aSdv9ql8I+lAAAAAJ0GaaEmoQWiZTAhn//6eEAALnif0QsW7SPqYkFNX\n",
       "Y9pZka2FjoybgAAAAB1BnoZFESwj/wAjxUAlJlDmmOid0w0/QNUVB12OgQAAABoBnqV0R/8AOJFM\n",
       "6CFeaDWvbt6nbzpmnDw9KAAAABABnqdqR/8AOLAApHiLIHpRAAAAE0GarEmoQWyZTAhn//6eEAAA\n",
       "B0wAAAATQZ7KRRUsI/8AI8VAJSZQxDmMiQAAABABnul0R/8AOJFM6CFcP21LAAAAEAGe62pH/wA4\n",
       "sACkeIsgelEAAAATQZrwSahBbJlMCGf//p4QAAAHTQAAABNBnw5FFSwj/wAjxUAlJlDEOYyIAAAA\n",
       "EAGfLXRH/wA4kUzoIVw/bUoAAAAQAZ8vakf/ADiwAKR4iyB6UQAAACVBmzRJqEFsmUwIZ//+nhAA\n",
       "FqtAYTbMATwY0co30RMXWjWKan+MAAAAF0GfUkUVLCP/ACPFQN2Awb6U6EPdy/hoAAAAFAGfcXRH\n",
       "/wA4kVAjdhMbF5K52sSnAAAAEAGfc2pH/wA4sACkeIsgelEAAAATQZt4SahBbJlMCGf//p4QAAAH\n",
       "TQAAABNBn5ZFFSwj/wAjxUAlJlDEOYyIAAAAEAGftXRH/wA4kUzoIVw/bUoAAAAQAZ+3akf/ADiw\n",
       "AKR4iyB6UQAAABNBm7xJqEFsmUwIZ//+nhAAAAdMAAAAE0Gf2kUVLCP/ACPFQCUmUMQ5jIgAAAAQ\n",
       "AZ/5dEf/ADiRTOghXD9tSwAAABABn/tqR/8AOLAApHiLIHpRAAAAE0Gb4EmoQWyZTAhf//6MsAAA\n",
       "B1UAAAATQZ4eRRUsI/8AI8VAJSZQxDmMiQAAABABnj10R/8AOJFM6CFcP21KAAAAEAGeP2pH/wA4\n",
       "sACkeIsgelEAAAATQZokSahBbJlMCF///oywAAAHVAAAABNBnkJFFSwj/wAjxUAlJlDEOYyJAAAA\n",
       "EAGeYXRH/wA4kUzoIVw/bUsAAAAQAZ5jakf/ADiwAKR4iyB6UQAAABNBmmhJqEFsmUwIX//+jLAA\n",
       "AAdUAAAAE0GehkUVLCP/ACPFQCUmUMQ5jIkAAAAQAZ6ldEf/ADiRTOghXD9tSgAAABABnqdqR/8A\n",
       "OLAApHiLIHpRAAAAE0GarEmoQWyZTAhX//44QAAAHHAAAAATQZ7KRRUsI/8AI8VAJSZQxDmMiQAA\n",
       "ABABnul0R/8AOJFM6CFcP21LAAAAEAGe62pH/wA4sACkeIsgelEAAAAUQZrwSahBbJlMCEf//eEA\n",
       "AAMAb0EAAAATQZ8ORRUsI/8AI8VAJSZQxDmMiAAAABABny10R/8AOJFM6CFcP21KAAAAEAGfL2pH\n",
       "/wA4sACkeIsgelEAAAASQZsxSahBbJlMCP/8hAAAAwGzAAARPm1vb3YAAABsbXZoZAAAAAAAAAAA\n",
       "AAAAAAAAA+gAABdwAAEAAAEAAAAAAAAAAAAAAAABAAAAAAAAAAAAAAAAAAAAAQAAAAAAAAAAAAAA\n",
       "AAAAQAAAAAAAAAAAAAAAAAAAAAAAAAAAAAAAAAAAAAAAAAIAABBodHJhawAAAFx0a2hkAAAAAwAA\n",
       "AAAAAAAAAAAAAQAAAAAAABdwAAAAAAAAAAAAAAAAAAAAAAABAAAAAAAAAAAAAAAAAAAAAQAAAAAA\n",
       "AAAAAAAAAAAAQAAAAAGwAAABIAAAAAAAJGVkdHMAAAAcZWxzdAAAAAAAAAABAAAXcAAAAgAAAQAA\n",
       "AAAP4G1kaWEAAAAgbWRoZAAAAAAAAAAAAAAAAAAAMgAAASwAVcQAAAAAAC1oZGxyAAAAAAAAAAB2\n",
       "aWRlAAAAAAAAAAAAAAAAVmlkZW9IYW5kbGVyAAAAD4ttaW5mAAAAFHZtaGQAAAABAAAAAAAAAAAA\n",
       "AAAkZGluZgAAABxkcmVmAAAAAAAAAAEAAAAMdXJsIAAAAAEAAA9Lc3RibAAAALdzdHNkAAAAAAAA\n",
       "AAEAAACnYXZjMQAAAAAAAAABAAAAAAAAAAAAAAAAAAAAAAGwASAASAAAAEgAAAAAAAAAAQAAAAAA\n",
       "AAAAAAAAAAAAAAAAAAAAAAAAAAAAAAAAAAAAABj//wAAADVhdmNDAWQAHv/hABhnZAAerNlBsJaE\n",
       "AAADAAQAAAMBkDxYtlgBAAZo6+PLIsD9+PgAAAAAHHV1aWRraEDyXyRPxbo5pRvPAyPzAAAAAAAA\n",
       "ABhzdHRzAAAAAAAAAAEAAAEsAAABAAAAABhzdHNzAAAAAAAAAAIAAAABAAAA+wAACWhjdHRzAAAA\n",
       "AAAAASsAAAABAAACAAAAAAEAAAUAAAAAAQAAAgAAAAABAAAAAAAAAAEAAAEAAAAAAQAABQAAAAAB\n",
       "AAACAAAAAAEAAAAAAAAAAQAAAQAAAAABAAAFAAAAAAEAAAIAAAAAAQAAAAAAAAABAAABAAAAAAEA\n",
       "AAUAAAAAAQAAAgAAAAABAAAAAAAAAAEAAAEAAAAAAQAABQAAAAABAAACAAAAAAEAAAAAAAAAAQAA\n",
       "AQAAAAABAAAFAAAAAAEAAAIAAAAAAQAAAAAAAAABAAABAAAAAAEAAAUAAAAAAQAAAgAAAAABAAAA\n",
       "AAAAAAEAAAEAAAAAAQAABQAAAAABAAACAAAAAAEAAAAAAAAAAQAAAQAAAAABAAAFAAAAAAEAAAIA\n",
       "AAAAAQAAAAAAAAABAAABAAAAAAEAAAUAAAAAAQAAAgAAAAABAAAAAAAAAAEAAAEAAAAAAQAABQAA\n",
       "AAABAAACAAAAAAEAAAAAAAAAAQAAAQAAAAABAAAFAAAAAAEAAAIAAAAAAQAAAAAAAAABAAABAAAA\n",
       "AAEAAAUAAAAAAQAAAgAAAAABAAAAAAAAAAEAAAEAAAAAAQAABQAAAAABAAACAAAAAAEAAAAAAAAA\n",
       "AQAAAQAAAAABAAAFAAAAAAEAAAIAAAAAAQAAAAAAAAABAAABAAAAAAEAAAUAAAAAAQAAAgAAAAAB\n",
       "AAAAAAAAAAEAAAEAAAAAAQAABQAAAAABAAACAAAAAAEAAAAAAAAAAQAAAQAAAAABAAAFAAAAAAEA\n",
       "AAIAAAAAAQAAAAAAAAABAAABAAAAAAEAAAUAAAAAAQAAAgAAAAABAAAAAAAAAAEAAAEAAAAAAQAA\n",
       "BQAAAAABAAACAAAAAAEAAAAAAAAAAQAAAQAAAAABAAAFAAAAAAEAAAIAAAAAAQAAAAAAAAABAAAB\n",
       "AAAAAAEAAAUAAAAAAQAAAgAAAAABAAAAAAAAAAEAAAEAAAAAAQAABQAAAAABAAACAAAAAAEAAAAA\n",
       "AAAAAQAAAQAAAAABAAAFAAAAAAEAAAIAAAAAAQAAAAAAAAABAAABAAAAAAEAAAUAAAAAAQAAAgAA\n",
       "AAABAAAAAAAAAAEAAAEAAAAAAQAABQAAAAABAAACAAAAAAEAAAAAAAAAAQAAAQAAAAABAAAFAAAA\n",
       "AAEAAAIAAAAAAQAAAAAAAAABAAABAAAAAAEAAAUAAAAAAQAAAgAAAAABAAAAAAAAAAEAAAEAAAAA\n",
       "AQAABQAAAAABAAACAAAAAAEAAAAAAAAAAQAAAQAAAAABAAAFAAAAAAEAAAIAAAAAAQAAAAAAAAAB\n",
       "AAABAAAAAAEAAAUAAAAAAQAAAgAAAAABAAAAAAAAAAEAAAEAAAAAAQAABQAAAAABAAACAAAAAAEA\n",
       "AAAAAAAAAQAAAQAAAAABAAAFAAAAAAEAAAIAAAAAAQAAAAAAAAABAAABAAAAAAEAAAUAAAAAAQAA\n",
       "AgAAAAABAAAAAAAAAAEAAAEAAAAAAQAABQAAAAABAAACAAAAAAEAAAAAAAAAAQAAAQAAAAABAAAF\n",
       "AAAAAAEAAAIAAAAAAQAAAAAAAAABAAABAAAAAAEAAAUAAAAAAQAAAgAAAAABAAAAAAAAAAEAAAEA\n",
       "AAAAAQAABQAAAAABAAACAAAAAAEAAAAAAAAAAQAAAQAAAAABAAAFAAAAAAEAAAIAAAAAAQAAAAAA\n",
       "AAABAAABAAAAAAEAAAUAAAAAAQAAAgAAAAABAAAAAAAAAAEAAAEAAAAAAQAABQAAAAABAAACAAAA\n",
       "AAEAAAAAAAAAAQAAAQAAAAABAAAFAAAAAAEAAAIAAAAAAQAAAAAAAAABAAABAAAAAAEAAAUAAAAA\n",
       "AQAAAgAAAAABAAAAAAAAAAEAAAEAAAAAAQAABQAAAAABAAACAAAAAAEAAAAAAAAAAQAAAQAAAAAB\n",
       "AAAFAAAAAAEAAAIAAAAAAQAAAAAAAAABAAABAAAAAAEAAAUAAAAAAQAAAgAAAAABAAAAAAAAAAEA\n",
       "AAEAAAAAAQAABQAAAAABAAACAAAAAAEAAAAAAAAAAQAAAQAAAAABAAAFAAAAAAEAAAIAAAAAAQAA\n",
       "AAAAAAABAAABAAAAAAEAAAUAAAAAAQAAAgAAAAABAAAAAAAAAAEAAAEAAAAAAQAABQAAAAABAAAC\n",
       "AAAAAAEAAAAAAAAAAQAAAQAAAAABAAAFAAAAAAEAAAIAAAAAAQAAAAAAAAABAAABAAAAAAEAAAUA\n",
       "AAAAAQAAAgAAAAABAAAAAAAAAAEAAAEAAAAAAQAABQAAAAABAAACAAAAAAEAAAAAAAAAAQAAAQAA\n",
       "AAABAAAFAAAAAAEAAAIAAAAAAQAAAAAAAAABAAABAAAAAAEAAAUAAAAAAQAAAgAAAAABAAAAAAAA\n",
       "AAEAAAEAAAAAAQAABQAAAAABAAACAAAAAAEAAAAAAAAAAQAAAQAAAAABAAAFAAAAAAEAAAIAAAAA\n",
       "AQAAAAAAAAABAAABAAAAAAEAAAUAAAAAAQAAAgAAAAABAAAAAAAAAAEAAAEAAAAAAQAABQAAAAAB\n",
       "AAACAAAAAAEAAAAAAAAAAQAAAQAAAAABAAAFAAAAAAEAAAIAAAAAAQAAAAAAAAABAAABAAAAAAEA\n",
       "AAUAAAAAAQAAAgAAAAABAAAAAAAAAAEAAAEAAAAAAQAABQAAAAABAAACAAAAAAEAAAAAAAAAAQAA\n",
       "AQAAAAACAAACAAAAAAEAAAUAAAAAAQAAAgAAAAABAAAAAAAAAAEAAAEAAAAAAQAABQAAAAABAAAC\n",
       "AAAAAAEAAAAAAAAAAQAAAQAAAAABAAAFAAAAAAEAAAIAAAAAAQAAAAAAAAABAAABAAAAAAEAAAUA\n",
       "AAAAAQAAAgAAAAABAAAAAAAAAAEAAAEAAAAAAQAABQAAAAABAAACAAAAAAEAAAAAAAAAAQAAAQAA\n",
       "AAABAAAFAAAAAAEAAAIAAAAAAQAAAAAAAAABAAABAAAAAAEAAAUAAAAAAQAAAgAAAAABAAAAAAAA\n",
       "AAEAAAEAAAAAAQAABQAAAAABAAACAAAAAAEAAAAAAAAAAQAAAQAAAAABAAAFAAAAAAEAAAIAAAAA\n",
       "AQAAAAAAAAABAAABAAAAAAEAAAUAAAAAAQAAAgAAAAABAAAAAAAAAAEAAAEAAAAAAQAABQAAAAAB\n",
       "AAACAAAAAAEAAAAAAAAAAQAAAQAAAAABAAAFAAAAAAEAAAIAAAAAAQAAAAAAAAABAAABAAAAAAEA\n",
       "AAIAAAAAHHN0c2MAAAAAAAAAAQAAAAEAAAEsAAAAAQAABMRzdHN6AAAAAAAAAAAAAAEsAAAMswAA\n",
       "AOMAAAA2AAAALwAAABgAAAA0AAAAIgAAABsAAAAXAAAAKgAAAB4AAAAXAAAAGAAAAC4AAAAgAAAA\n",
       "GwAAABgAAAA0AAAAHQAAABgAAAAZAAAANQAAABwAAAAaAAAAGQAAADEAAAAdAAAAGAAAABoAAAA3\n",
       "AAAAHwAAABsAAAAZAAAALQAAABsAAAAYAAAAGAAAADMAAAAbAAAAGAAAABgAAABDAAAAHQAAABgA\n",
       "AAAaAAAAKAAAAB4AAAAXAAAAGwAAACMAAAAdAAAAGAAAABgAAAAjAAAAHAAAABcAAAAXAAAAJwAA\n",
       "ABsAAAAXAAAAFwAAADIAAAAaAAAAEgAAABcAAAAgAAAAGQAAABcAAAATAAAALQAAABoAAAASAAAA\n",
       "FwAAACEAAAAVAAAAEgAAABMAAAAXAAAAFQAAABIAAAATAAAAJwAAABcAAAASAAAAFAAAADUAAAAa\n",
       "AAAAFAAAABcAAAAXAAAAFQAAABIAAAATAAAANAAAABoAAAASAAAAFwAAABoAAAAVAAAAEgAAABMA\n",
       "AAArAAAAGQAAABcAAAATAAAAKAAAABoAAAASAAAAFwAAABcAAAAVAAAAEgAAABMAAAAtAAAAGQAA\n",
       "ABcAAAATAAAAFwAAABUAAAASAAAAEwAAACwAAAAZAAAAFwAAABMAAAAXAAAAFQAAABIAAAATAAAA\n",
       "LwAAABkAAAAXAAAAEwAAABcAAAAVAAAAEgAAABMAAAAcAAAAFQAAABIAAAATAAAAFwAAABUAAAAS\n",
       "AAAAEwAAABcAAAAVAAAAEgAAABMAAAAvAAAAGQAAABcAAAATAAAAFwAAABUAAAASAAAAEwAAACIA\n",
       "AAAVAAAAEgAAABMAAAAuAAAAGgAAABIAAAAXAAAAFwAAABUAAAASAAAAEwAAABcAAAAVAAAAEgAA\n",
       "ABMAAAAXAAAAFQAAABIAAAATAAAAFwAAABUAAAASAAAAEwAAABcAAAAVAAAAEgAAABMAAAAXAAAA\n",
       "FQAAABIAAAATAAAAFwAAABUAAAASAAAAEwAAABcAAAAVAAAAEgAAABMAAAAXAAAAFQAAABIAAAAT\n",
       "AAAAGwAAABUAAAASAAAAEwAAABcAAAAVAAAAEgAAABMAAAAtAAAAGgAAABIAAAAXAAAAFwAAABUA\n",
       "AAASAAAAEwAAABcAAAAVAAAAEgAAABMAAAAXAAAAFQAAABIAAAATAAAAFwAAABUAAAASAAAAEwAA\n",
       "ABcAAAAVAAAAEgAAABMAAAAXAAAAFQAAABIAAAATAAAAFwAAABUAAAASAAAAEwAAABcAAAAVAAAA\n",
       "EgAAABMAAAAXAAAAFQAAABIAAAATAAAAFgAACyQAAAC7AAAALgAAACMAAAAfAAAAKwAAACEAAAAe\n",
       "AAAAFAAAABcAAAAXAAAAFAAAABQAAAAXAAAAFwAAABQAAAAUAAAAKQAAABsAAAAYAAAAFAAAABcA\n",
       "AAAXAAAAFAAAABQAAAAXAAAAFwAAABQAAAAUAAAAFwAAABcAAAAUAAAAFAAAABcAAAAXAAAAFAAA\n",
       "ABQAAAAXAAAAFwAAABQAAAAUAAAAFwAAABcAAAAUAAAAFAAAABgAAAAXAAAAFAAAABQAAAAWAAAA\n",
       "FHN0Y28AAAAAAAAAAQAAADAAAABidWR0YQAAAFptZXRhAAAAAAAAACFoZGxyAAAAAAAAAABtZGly\n",
       "YXBwbAAAAAAAAAAAAAAAAC1pbHN0AAAAJal0b28AAAAdZGF0YQAAAAEAAAAATGF2ZjU4LjQ1LjEw\n",
       "MA==\n",
       "\">\n",
       "  Your browser does not support the video tag.\n",
       "</video>"
      ],
      "text/plain": [
       "<IPython.core.display.HTML object>"
      ]
     },
     "metadata": {},
     "output_type": "display_data"
    }
   ],
   "source": [
    "from IPython import display\n",
    "video=anim.to_html5_video()\n",
    "html=display.HTML(video)\n",
    "display.display(html)\n",
    "plt.close()"
   ]
  },
  {
   "cell_type": "markdown",
   "metadata": {},
   "source": [
    "# Simulated vs reference behaviour"
   ]
  },
  {
   "cell_type": "code",
   "execution_count": 113,
   "metadata": {},
   "outputs": [
    {
     "data": {
      "image/png": "[encoded data removed]",
      "text/plain": [
       "<Figure size 576x504 with 1 Axes>"
      ]
     },
     "metadata": {
      "needs_background": "light"
     },
     "output_type": "display_data"
    }
   ],
   "source": [
    "p,v=call_state()\n",
    "x=np.arange(0,1000,0.1)\n",
    "y=[x_ref(i) for i in x ]\n",
    "plt.figure(figsize=(8,7))\n",
    "plt.plot(x,p,label=\"simulated behaviour of spring\")\n",
    "plt.plot(x,y,label=\"reference behaviour for spring\")\n",
    "plt.xlabel(\"time\")\n",
    "plt.ylabel(\"amplitude\")\n",
    "plt.legend() \n",
    "plt.show()"
   ]
  },
  {
   "cell_type": "code",
   "execution_count": null,
   "metadata": {},
   "outputs": [],
   "source": []
  }
 ],
 "metadata": {
  "kernelspec": {
   "display_name": "Python 3",
   "language": "python",
   "name": "python3"
  },
  "language_info": {
   "codemirror_mode": {
    "name": "ipython",
    "version": 3
   },
   "file_extension": ".py",
   "mimetype": "text/x-python",
   "name": "python",
   "nbconvert_exporter": "python",
   "pygments_lexer": "ipython3",
   "version": "3.7.6"
  }
 },
 "nbformat": 4,
 "nbformat_minor": 4
}
