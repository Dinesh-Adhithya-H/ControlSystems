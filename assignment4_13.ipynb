{
  "nbformat": 4,
  "nbformat_minor": 0,
  "metadata": {
    "kernelspec": {
      "display_name": "Python 3",
      "language": "python",
      "name": "python3"
    },
    "language_info": {
      "codemirror_mode": {
        "name": "ipython",
        "version": 3
      },
      "file_extension": ".py",
      "mimetype": "text/x-python",
      "name": "python",
      "nbconvert_exporter": "python",
      "pygments_lexer": "ipython3",
      "version": "3.7.6"
    },
    "colab": {
      "name": "assignment4_13.ipynb",
      "provenance": [],
      "collapsed_sections": []
    }
  },
  "cells": [
    {
      "cell_type": "markdown",
      "metadata": {
        "id": "HA5PCGc33B98"
      },
      "source": [
        "# Control Systems : Assignment 4 question 13"
      ]
    },
    {
      "cell_type": "markdown",
      "metadata": {
        "id": "HQVNR2uL3B98"
      },
      "source": [
        "# Import numpy as np"
      ]
    },
    {
      "cell_type": "code",
      "metadata": {
        "id": "dxl8Mu1x3B98"
      },
      "source": [
        "import numpy as np\n",
        "from numpy.linalg import inv\n",
        "import matplotlib.pyplot as plt\n",
        "import numpy.linalg as ln"
      ],
      "execution_count": null,
      "outputs": []
    },
    {
      "cell_type": "markdown",
      "metadata": {
        "id": "bTCPP3mV3B99"
      },
      "source": [
        "# The external force function , can be modellled as per your requirement"
      ]
    },
    {
      "cell_type": "code",
      "metadata": {
        "id": "kmFszDsR3B99"
      },
      "source": [
        "def f1(t):\n",
        "    return(1)"
      ],
      "execution_count": null,
      "outputs": []
    },
    {
      "cell_type": "markdown",
      "metadata": {
        "id": "vepTaf8M3B99"
      },
      "source": [
        "# PID control implemented below"
      ]
    },
    {
      "cell_type": "code",
      "metadata": {
        "id": "sRPyl9313B99"
      },
      "source": [
        "m = 4.333\n",
        "k = 2.551\n",
        "b =0.442\n",
        "h=0.1\n",
        "sigma=0.05 # dirty derivative gain\n",
        "beta=(2*sigma-h)/(2*sigma+h)\n",
        "A=np.array([[0,1,0],[0.58,-0.102,0],[-1,0,0]])\n",
        "B=np.array([[0],[1/m],[0]])"
      ],
      "execution_count": null,
      "outputs": []
    },
    {
      "cell_type": "code",
      "metadata": {
        "colab": {
          "base_uri": "https://localhost:8080/"
        },
        "id": "xAXDTnZt3B99",
        "outputId": "a3aa1efc-2b76-4e52-f2d4-897d7fc7f3c7"
      },
      "source": [
        "np.array([B,A@B,A@A@B])"
      ],
      "execution_count": null,
      "outputs": [
        {
          "output_type": "execute_result",
          "data": {
            "text/plain": [
              "array([[[ 0.        ],\n",
              "        [ 0.23078698],\n",
              "        [ 0.        ]],\n",
              "\n",
              "       [[ 0.23078698],\n",
              "        [-0.02354027],\n",
              "        [ 0.        ]],\n",
              "\n",
              "       [[-0.02354027],\n",
              "        [ 0.13625756],\n",
              "        [-0.23078698]]])"
            ]
          },
          "metadata": {
            "tags": []
          },
          "execution_count": 161
        }
      ]
    },
    {
      "cell_type": "code",
      "metadata": {
        "id": "rKjhSovO3B99"
      },
      "source": [
        "C_AB=np.array([[0.0,0.23,-0.023],[0.23,-0.023,0.13],[0.0,0.0,-0.23]]) # copied from above\n",
        "aA=np.array([0.253,-0.047,-0.012])\n",
        "AA=np.array([[1,0.0253,-0.047],[0,1,0.0253],[0,0,1]])"
      ],
      "execution_count": null,
      "outputs": []
    },
    {
      "cell_type": "code",
      "metadata": {
        "colab": {
          "base_uri": "https://localhost:8080/"
        },
        "id": "TjBQmLH43B9-",
        "outputId": "24f20ed6-9a28-4af7-96c9-4bb4dcf37d13"
      },
      "source": [
        "if ln.det(C_AB)!=0:\n",
        "    print(\"controllable\")\n",
        "else:\n",
        "    print(\"non controllable\")"
      ],
      "execution_count": null,
      "outputs": [
        {
          "output_type": "stream",
          "text": [
            "controllable\n"
          ],
          "name": "stdout"
        }
      ]
    },
    {
      "cell_type": "code",
      "metadata": {
        "id": "3KshdryA3B9-"
      },
      "source": [
        "alpha=np.array([1.44,0.439,-0.059])#to be found from polynomial for desired roots."
      ],
      "execution_count": null,
      "outputs": []
    },
    {
      "cell_type": "code",
      "metadata": {
        "id": "9QYHVxku3B9-"
      },
      "source": [
        "K=(alpha-aA)@ln.inv(AA)@ln.inv(C_AB)\n",
        "KI=K[2]\n",
        "K=K[:2]"
      ],
      "execution_count": null,
      "outputs": []
    },
    {
      "cell_type": "code",
      "metadata": {
        "colab": {
          "base_uri": "https://localhost:8080/"
        },
        "id": "KtK4ZO3f3B9-",
        "outputId": "39745fe4-6f82-4c36-b860-4d766f5f90bb"
      },
      "source": [
        "K,KI"
      ],
      "execution_count": null,
      "outputs": [
        {
          "output_type": "execute_result",
          "data": {
            "text/plain": [
              "(array([2.49856043, 5.16086957]), 2.6791007245576552)"
            ]
          },
          "metadata": {
            "tags": []
          },
          "execution_count": 166
        }
      ]
    },
    {
      "cell_type": "code",
      "metadata": {
        "id": "5zKAlOSp3B9-"
      },
      "source": [
        "global ie,e_dot,x_hat\n",
        "ie=0.0\n",
        "e_dot=0\n",
        "x_hat=np.array([[0.0],[0.0]])\n",
        "import random as rn\n",
        "def F(y,t):\n",
        "    global ie\n",
        "    global e_dot\n",
        "    global x_hat\n",
        "    ie_new =0\n",
        "    KI=2\n",
        "    m =5.3331 #*(rn.random()*(0.4)+0.8)\n",
        "    k =2.5511 #*(rn.random()*(0.4)+0.8)\n",
        "    b =0.4421 #*(rn.random()*(0.4)+0.8)\n",
        "    K=np.array([2.49856043, 5.16086957]) # just an copy of K \n",
        "    x_hat=update_observe(x_hat,y)\n",
        "    pos=x_hat[1][0] #+disturbance(t)\n",
        "    vel=x_hat[0][0] #+disturbance(t)\n",
        "    # force limit\n",
        "    force_limit=6 \n",
        "    #feedback linearized force\n",
        "    force_fb=f1(t)\n",
        "    # equlibrium force around pos=0\n",
        "    x_equi=0\n",
        "    error=(x_ref(t)-pos)\n",
        "    if t>0.1:\n",
        "        ie_new=ie+error*h*0.5\n",
        "    e_dot=(1-beta)*(ie_new-ie)/h+e_dot*beta\n",
        "    K=np.array(K)\n",
        "    force_e=-K@np.array([pos,vel])+KI*error\n",
        "    #total force \n",
        "    force=force_e+force_fb\n",
        "    #saturate force \n",
        "    if abs(force)>force_limit:\n",
        "        force=force_limit*np.sign(force)\n",
        "        # integrator anti-windup\n",
        "        ie=ie+(force_limit-force)/KI\n",
        "    return(np.array([force,0]))"
      ],
      "execution_count": null,
      "outputs": []
    },
    {
      "cell_type": "markdown",
      "metadata": {
        "id": "BawbUPBs3B9-"
      },
      "source": [
        "# Reference motion of mass"
      ]
    },
    {
      "cell_type": "code",
      "metadata": {
        "id": "hD97hZRP3B9-"
      },
      "source": [
        "def x_ref(t):\n",
        "    if (t%100<=49):\n",
        "        return(-1)\n",
        "    else:\n",
        "        return(1)"
      ],
      "execution_count": null,
      "outputs": []
    },
    {
      "cell_type": "markdown",
      "metadata": {
        "id": "XreT7AlHTsKC"
      },
      "source": [
        "# Observer  based control"
      ]
    },
    {
      "cell_type": "code",
      "metadata": {
        "id": "wU-ivbhg3B9-"
      },
      "source": [
        "def update_observe(x_hat,y_m):\n",
        "    Ts=0.1\n",
        "    # update the observer using RK4 integration\n",
        "    F1 = observer_f(x_hat, y_m)\n",
        "    F2 = observer_f(x_hat + Ts / 2 * F1, y_m)\n",
        "    F3 = observer_f(x_hat + Ts / 2 * F2, y_m)\n",
        "    F4 = observer_f(x_hat + Ts * F3, y_m)\n",
        "    #print(F1+2*F2+2*F3+F4)\n",
        "    x_hat = x_hat + (0.0166)*(F1+2*F2+2*F3+F4)\n",
        "    return x_hat"
      ],
      "execution_count": null,
      "outputs": []
    },
    {
      "cell_type": "code",
      "metadata": {
        "id": "x8dJwN863B9-"
      },
      "source": [
        "def observer_f( x_hat, y_m):\n",
        "    A=np.array([[0,1],[0.59,-0.1]])\n",
        "    B=np.array([[0],[0.23]])\n",
        "    C=np.array([1.0,0.0])\n",
        "    L=np.array([[1.44],[1.646]])\n",
        "    # compute feedback linearizing torque tau_fl\n",
        "    #print(x_hat.shape)\n",
        "    tau_fl = np.array([[0],[1]])\n",
        "    # xhatdot = A*xhat + B*(u-ue) + L(y-C*xhat)\n",
        "    xhat_dot = A @ x_hat + B*(tau_fl) +L*(y_m - (C @ x_hat))\n",
        "    #print(xhat_dot)\n",
        "    return xhat_dot"
      ],
      "execution_count": null,
      "outputs": []
    },
    {
      "cell_type": "code",
      "metadata": {
        "id": "0ZZaMKa2D2cN"
      },
      "source": [
        "import random\n",
        "def noise(t):\n",
        "  return(random.uniform(-0.1, 0.1))"
      ],
      "execution_count": null,
      "outputs": []
    },
    {
      "cell_type": "code",
      "metadata": {
        "id": "2LdM4eb_aIF4"
      },
      "source": [
        "def disturbance(t):\n",
        "    if t>0:\n",
        "      return(0.2)\n",
        "    else:\n",
        "      return(0)"
      ],
      "execution_count": null,
      "outputs": []
    },
    {
      "cell_type": "markdown",
      "metadata": {
        "id": "_rREBuv73B9-"
      },
      "source": [
        "# Solving for X''"
      ]
    },
    {
      "cell_type": "code",
      "metadata": {
        "id": "JYvWpr9C3B9_"
      },
      "source": [
        "def f(y,t):\n",
        "    # physical constants of the system\n",
        "    m = 4.333\n",
        "    k = 2.551\n",
        "    b =0.442\n",
        "    A=np.array([[m,0],[0,1]])\n",
        "    B=np.array([[b,k],[-1,0]])\n",
        "    return(np.dot(inv(A),F(y,t)-np.dot(B,y)))"
      ],
      "execution_count": null,
      "outputs": []
    },
    {
      "cell_type": "markdown",
      "metadata": {
        "id": "OOW2YCvs3B9_"
      },
      "source": [
        "# Function for rk4 implementation"
      ]
    },
    {
      "cell_type": "code",
      "metadata": {
        "id": "RlbD_YVc3B9_"
      },
      "source": [
        "def rk4(y_hat,t,dt):\n",
        "    k1=f(y_hat,t)\n",
        "    k2=f(y_hat*k1*0.5*dt,t+dt*0.5)\n",
        "    k3=f(y_hat*k2*0.5*dt,t+dt*0.5)\n",
        "    k4=f(y_hat+k3*dt,t+dt)\n",
        "    return(dt * (k1 + 2*k2 + 2*k3 + k4) /6)"
      ],
      "execution_count": null,
      "outputs": []
    },
    {
      "cell_type": "markdown",
      "metadata": {
        "id": "OT7sNd2K3B9_"
      },
      "source": [
        "# Function to call state"
      ]
    },
    {
      "cell_type": "code",
      "metadata": {
        "id": "hemOYmM43B9_"
      },
      "source": [
        "def call_state():   \n",
        "    # initializations matrices\n",
        "    v_data=[]\n",
        "    p_data=[]\n",
        "    y=np.array([0.1,0])\n",
        "    h=0.1  # dt used during simulation\n",
        "    time=np.arange(0,1000,h)\n",
        "    state=[]\n",
        "    for t in time:\n",
        "        y=y+rk4(y,t,h)\n",
        "        state.append(y)\n",
        "        v_data.append(y[0])\n",
        "        p_data.append(y[1])\n",
        "    return(p_data,v_data)"
      ],
      "execution_count": null,
      "outputs": []
    },
    {
      "cell_type": "markdown",
      "metadata": {
        "id": "1fSoHZYa3B9_"
      },
      "source": [
        "#  Function for Animation"
      ]
    },
    {
      "cell_type": "code",
      "metadata": {
        "colab": {
          "base_uri": "https://localhost:8080/",
          "height": 269
        },
        "id": "GbsyQ6Bk3B9_",
        "outputId": "8f3936ff-f817-4991-d921-809609956530"
      },
      "source": [
        "# initialization of plot , line and point objects\n",
        "fig = plt.figure() \n",
        "ax = plt.axes(xlim=(-3, 3), ylim=(-1, 1)) \n",
        "point, = ax.plot(0, 0,marker=\"o\",color=\"green\",markersize=15) \n",
        "line, = ax.plot([],[],lw=2)\n",
        "wall, = ax.plot([],[],lw=2)\n",
        "def init():\n",
        "    line.set_data([], []) \n",
        "    point.set_data([],[])\n",
        "    wall.set_data([], []) \n",
        "    return point, line,wall\n",
        "# update the animation with each frame\n",
        "def animate(frame):\n",
        "    p,v=call_state()\n",
        "    point.set_data([p[frame]],[0])\n",
        "    line.set_data(np.linspace(-3,p[frame],100),np.zeros(100))\n",
        "    wall.set_data(-3*np.ones(100),np.linspace(-0.5,0.5,100))\n",
        "    return point,line,wall"
      ],
      "execution_count": null,
      "outputs": [
        {
          "output_type": "display_data",
          "data": {
            "image/png": "[encoded data removed]",
            "text/plain": [
              "<Figure size 432x288 with 1 Axes>"
            ]
          },
          "metadata": {
            "tags": [],
            "needs_background": "light"
          }
        }
      ]
    },
    {
      "cell_type": "code",
      "metadata": {
        "id": "JqkUKAu-3B9_"
      },
      "source": [
        "from matplotlib.animation import FuncAnimation\n",
        "anim = FuncAnimation(fig, animate,init_func=init,frames=300, interval=20, blit=False)"
      ],
      "execution_count": null,
      "outputs": []
    },
    {
      "cell_type": "code",
      "metadata": {
        "id": "qMT6jl5e3B9_"
      },
      "source": [
        "from IPython import display\n",
        "video=anim.to_html5_video()\n",
        "html=display.HTML(video)\n",
        "display.display(html)\n",
        "plt.close()"
      ],
      "execution_count": 213,
      "outputs": []
    },
    {
      "cell_type": "markdown",
      "metadata": {
        "id": "weJPyOyt3B9_"
      },
      "source": [
        "# Simulated vs reference behaviour"
      ]
    },
    {
      "cell_type": "code",
      "metadata": {
        "colab": {
          "base_uri": "https://localhost:8080/",
          "height": 442
        },
        "id": "ffq_iOIF3B9_",
        "outputId": "afcb3d6b-eb96-42d9-8a9e-19bc3be908de"
      },
      "source": [
        "p,v=call_state()\n",
        "x=np.arange(0,1000,0.1)\n",
        "y=[x_ref(i) for i in x ]\n",
        "plt.figure(figsize=(8,7))\n",
        "plt.plot(x,p,label=\"simulated behaviour of spring\")\n",
        "plt.plot(x,y,label=\"reference behaviour for spring\")\n",
        "plt.xlabel(\"time\")\n",
        "plt.ylabel(\"amplitude\")\n",
        "plt.legend() \n",
        "plt.show()"
      ],
      "execution_count": null,
      "outputs": [
        {
          "output_type": "display_data",
          "data": {
            "image/png": "[encoded data removed]",
            "text/plain": [
              "<Figure size 576x504 with 1 Axes>"
            ]
          },
          "metadata": {
            "tags": [],
            "needs_background": "light"
          }
        }
      ]
    }
  ]
}