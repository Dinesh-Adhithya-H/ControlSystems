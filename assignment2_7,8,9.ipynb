{
 "cells": [
  {
   "cell_type": "markdown",
   "metadata": {},
   "source": [
    "# Control Systems : Assignment 2"
   ]
  },
  {
   "cell_type": "markdown",
   "metadata": {},
   "source": [
    "# Import numpy as np"
   ]
  },
  {
   "cell_type": "code",
   "execution_count": 2,
   "metadata": {},
   "outputs": [],
   "source": [
    "import numpy as np\n",
    "from numpy.linalg import inv\n",
    "import matplotlib.pyplot as plt"
   ]
  },
  {
   "cell_type": "markdown",
   "metadata": {},
   "source": [
    "# The external force function , can be modellled as per your requirement"
   ]
  },
  {
   "cell_type": "code",
   "execution_count": 1,
   "metadata": {},
   "outputs": [],
   "source": [
    "def f1(t):\n",
    "    return(1)"
   ]
  },
  {
   "cell_type": "markdown",
   "metadata": {},
   "source": [
    "# PD control implemented below"
   ]
  },
  {
   "cell_type": "code",
   "execution_count": 37,
   "metadata": {},
   "outputs": [],
   "source": [
    "def F(y,t):\n",
    "    m = 4.333\n",
    "    k = 2.551\n",
    "    b =0.442\n",
    "    #kd=6.314 #10.388\n",
    "    #kp=-2.551 # 3.944\n",
    "    kd=10.388\n",
    "    kp=3.944\n",
    "    pos=y[1]\n",
    "    vel=y[0]\n",
    "    force_limit=6 # force limit\n",
    "    #feedback linearized force\n",
    "    force_fb=f1(t)\n",
    "    # equlibrium force around pos=0\n",
    "    x_equi=0\n",
    "    force_e=kp*(x_ref(t)-pos)-kd*vel\n",
    "    #total force \n",
    "    force=force_e+force_fb\n",
    "    #saturate force \n",
    "    if abs(force)>force_limit:\n",
    "        force=force_limit*np.sign(force)\n",
    "    return(np.array([force,0]))"
   ]
  },
  {
   "cell_type": "markdown",
   "metadata": {},
   "source": [
    "# Reference motion of mass"
   ]
  },
  {
   "cell_type": "code",
   "execution_count": 35,
   "metadata": {},
   "outputs": [],
   "source": [
    "def x_ref(t):\n",
    "    w=0.02*np.pi\n",
    "    F=2*np.sin(w*t)\n",
    "    return F"
   ]
  },
  {
   "cell_type": "markdown",
   "metadata": {},
   "source": [
    "# Solving for X''"
   ]
  },
  {
   "cell_type": "code",
   "execution_count": 6,
   "metadata": {},
   "outputs": [],
   "source": [
    "def f(y,t):\n",
    "    # physical constants of the system\n",
    "    m = 4.333\n",
    "    k = 2.551\n",
    "    b =0.442\n",
    "    A=np.array([[m,0],[0,1]])\n",
    "    B=np.array([[b,k],[-1,0]])\n",
    "    return(np.dot(inv(A),F(y,t)-np.dot(B,y)))"
   ]
  },
  {
   "cell_type": "markdown",
   "metadata": {},
   "source": [
    "# Function for rk4 implementation"
   ]
  },
  {
   "cell_type": "code",
   "execution_count": 7,
   "metadata": {},
   "outputs": [],
   "source": [
    "def rk4(y,t,dt):\n",
    "    k1=f(y,t)\n",
    "    k2=f(y*k1*0.5*dt,t+dt*0.5)\n",
    "    k3=f(y*k2*0.5*dt,t+dt*0.5)\n",
    "    k4=f(y+k3*dt,t+dt)\n",
    "    return(dt * (k1 + 2*k2 + 2*k3 + k4) /6)"
   ]
  },
  {
   "cell_type": "markdown",
   "metadata": {},
   "source": [
    "# Function to call state"
   ]
  },
  {
   "cell_type": "code",
   "execution_count": 8,
   "metadata": {},
   "outputs": [],
   "source": [
    "def call_state():   \n",
    "    # initializations matrices\n",
    "    v_data=[]\n",
    "    p_data=[]\n",
    "    y=np.array([1,1])\n",
    "    h=0.3  # dt used during simulation\n",
    "    time=np.arange(0,1000,h)\n",
    "    state=[]\n",
    "    for t in time:\n",
    "        y=y+rk4(y,t,h)\n",
    "        state.append(y)\n",
    "        v_data.append(y[0])\n",
    "        p_data.append(y[1])\n",
    "    return(p_data,v_data)"
   ]
  },
  {
   "cell_type": "markdown",
   "metadata": {},
   "source": [
    "#  Function for Animation"
   ]
  },
  {
   "cell_type": "code",
   "execution_count": 40,
   "metadata": {},
   "outputs": [
    {
     "data": {
      "image/png": "[encoded data removed]",
      "text/plain": [
       "<Figure size 432x288 with 1 Axes>"
      ]
     },
     "metadata": {
      "needs_background": "light"
     },
     "output_type": "display_data"
    }
   ],
   "source": [
    "# initialization of plot , line and point objects\n",
    "fig = plt.figure() \n",
    "ax = plt.axes(xlim=(-3, 3), ylim=(-1, 1)) \n",
    "point, = ax.plot(0, 0,marker=\"o\",color=\"green\",markersize=15) \n",
    "line, = ax.plot([],[],lw=2)\n",
    "wall, = ax.plot([],[],lw=2)\n",
    "def init():\n",
    "    line.set_data([], []) \n",
    "    point.set_data([],[])\n",
    "    wall.set_data([], []) \n",
    "    return point, line,wall\n",
    "# update the animation with each frame\n",
    "def animate(frame):\n",
    "    p,v=call_state()\n",
    "    point.set_data([p[frame]],[0])\n",
    "    line.set_data(np.linspace(-3,p[frame],100),np.zeros(100))\n",
    "    wall.set_data(-3*np.ones(100),np.linspace(-0.5,0.5,100))\n",
    "    return point,line,wall"
   ]
  },
  {
   "cell_type": "code",
   "execution_count": 41,
   "metadata": {},
   "outputs": [],
   "source": [
    "from matplotlib.animation import FuncAnimation\n",
    "anim = FuncAnimation(fig, animate,init_func=init,frames=300, interval=20, blit=False)"
   ]
  },
  {
   "cell_type": "code",
   "execution_count": 42,
   "metadata": {},
   "outputs": [
    {
     "data": {
      "text/html": [
       "<video width=\"432\" height=\"288\" controls autoplay loop>\n",
       "  <source type=\"video/mp4\" src=\"data:video/mp4;base64,AAAAIGZ0eXBNNFYgAAACAE00ViBpc29taXNvMmF2YzEAAAAIZnJlZQAAPxhtZGF0AAACoAYF//+c\n",
       "3EXpvebZSLeWLNgg2SPu73gyNjQgLSBjb3JlIDE2MSAtIEguMjY0L01QRUctNCBBVkMgY29kZWMg\n",
       "LSBDb3B5bGVmdCAyMDAzLTIwMjAgLSBodHRwOi8vd3d3LnZpZGVvbGFuLm9yZy94MjY0Lmh0bWwg\n",
       "LSBvcHRpb25zOiBjYWJhYz0xIHJlZj0zIGRlYmxvY2s9MTowOjAgYW5hbHlzZT0weDM6MHgxMTMg\n",
       "bWU9aGV4IHN1Ym1lPTcgcHN5PTEgcHN5X3JkPTEuMDA6MC4wMCBtaXhlZF9yZWY9MSBtZV9yYW5n\n",
       "ZT0xNiBjaHJvbWFfbWU9MSB0cmVsbGlzPTEgOHg4ZGN0PTEgY3FtPTAgZGVhZHpvbmU9MjEsMTEg\n",
       "ZmFzdF9wc2tpcD0xIGNocm9tYV9xcF9vZmZzZXQ9LTIgdGhyZWFkcz05IGxvb2thaGVhZF90aHJl\n",
       "YWRzPTEgc2xpY2VkX3RocmVhZHM9MCBucj0wIGRlY2ltYXRlPTEgaW50ZXJsYWNlZD0wIGJsdXJh\n",
       "eV9jb21wYXQ9MCBjb25zdHJhaW5lZF9pbnRyYT0wIGJmcmFtZXM9MyBiX3B5cmFtaWQ9MiBiX2Fk\n",
       "YXB0PTEgYl9iaWFzPTAgZGlyZWN0PTEgd2VpZ2h0Yj0xIG9wZW5fZ29wPTAgd2VpZ2h0cD0yIGtl\n",
       "eWludD0yNTAga2V5aW50X21pbj0yNSBzY2VuZWN1dD00MCBpbnRyYV9yZWZyZXNoPTAgcmNfbG9v\n",
       "a2FoZWFkPTQwIHJjPWNyZiBtYnRyZWU9MSBjcmY9MjMuMCBxY29tcD0wLjYwIHFwbWluPTAgcXBt\n",
       "YXg9NjkgcXBzdGVwPTQgaXBfcmF0aW89MS40MCBhcT0xOjEuMDAAgAAACjpliIQAM//+9uy+BTX9\n",
       "n9CXESzF2kpwPiqkgIB3NMAAAAMAAHkV/BJk/UBjgE9PENePgpDNT839j310YcizNuh0in0i0Mbz\n",
       "OTWhWX3NbJXvepQaiKoE54k3yY4YcDEKCAl9h3WTnm7rHGJuxgAAAwBBFq/99Y7yky4nln9bI6J2\n",
       "7BUpiqQ2LxuhsN2X6YxsPuScW5fm3UmuM7HYV8wVT1y9BPE1GywiEtO1kq/m+ft+daVt/yEjyoqu\n",
       "C7ZlmK8HwuH6l5cUmwvGr1v/7J5SCTlrPMGlu5voch9GmiNQx34Yd7MT0ilroSZz/HX9OWW0ON6R\n",
       "bFJ5dVHfsFqthuMYiIW/lWW5iFRqJyjbA7YAAIihs5hOdUhTOXOd/kQ1cWK5geYr0fO5RUAE3kg6\n",
       "QyI1nzU7GR0int7VlWmSyYhcbC3sHiK77EDVuFkhjeaHj+Sz2p3IWmI0AU7fJmUvbnVQHH3IQfOo\n",
       "czQ3gPWRfLH3k8b7INeiSWYPh9M1NnlbfDiqgSwOX80UBXXpgSLI2pzKdbZx+QCRN0DHL3oJvfvf\n",
       "c2939Vb/SDH06IMaCAAk4wI13Iq9gJU+XjmoPUJbr1/ER95sahBwhB7Bdd2902VNaVwSzEx5fkBT\n",
       "L+IV/ide1XGxu4sR/qCoEfYfbvnQnAAPcNZ0D5dcV36NGDyilfKVGQhgeS+3a7CLIqZ++dKl+pey\n",
       "BBB38DBDHKHUyVbcPqIT2wTufaRLmM/ydFCAkXdvbvXciDUwlmqHRiaVm5mx/W45GKL1BkSohsTv\n",
       "GKw20831mRTDMvsI1Twh11pb43jLT6RIpnRNuros5iJGkQNTXRhnRX/zIOgkd3kJqin8LcnHyVwi\n",
       "sEJJ35iphH3HrZZEfICaOlyrrSoeO6Z0nQhCsNwIAhBPNreIaTgSEEAp48TJuDvV9eELW4Pm4dHC\n",
       "Qe1UgCQ6mMmzsP0wuJUMJLYN6d3h7NlLS4GkshPHWK9sKcJ3DuHMf4qDN9hMXCucblGAnxnIB2+N\n",
       "ox0h+YGvi00TX6m8tO7QKstYesvWHz3kgIGOBivdUWzIOG9dnfWPbiOLL/KwzUVP90+I+46VQQbJ\n",
       "Wz1H185W4RcLcBCh3Yf7cfDY3i65lOkGZj+w2eMyP19GxOJFdNlwkZIuI8Cs3WciCESB2pJ+psDP\n",
       "8uPrqu46dF1VSAVRrmb4xTR/tJjqGZBYEzX3Ize+yO17QhF14wguadyG7p2jyXqMqVZZCsFkiJy6\n",
       "YQ49uT5+TyvDTBJccf+f71gY7cn723sP6XXm+3pCGxu85ad4aWGVXttv2EvEHUmVkVyI1TdPxhVa\n",
       "VyVZXLG0acKC1TME6WvjCn6+vBcc4HFuFKhOKsID3tWZ1iQGO1bNfN4CU4gObd0A7XjJwCY0aei1\n",
       "3A+dCPvGvsetCVUyJIa43bp/p7S2Et82CaGiYU6lXmo1Ex6K4+JlYfocIxyV8YsvpoqhX+WlIgyw\n",
       "+PsM0Vok5zX0Akg3qF6SE7WexEjoOqnNnmMKh/EK1sAJ5/3EM5SoxhqpJKwnD5RKQe3lsq8vxNgd\n",
       "RUKxA4eiOYgs/N/DSudFEp4NS4N/FqBnhS9Ebd+AATxDY9iIZMFa7/VVTxUExRlriJyFSRB6BtYG\n",
       "x0K3I/0Dl2VBrNRss2QbJ/WgtW0XA4YY4yBD1RGf7gzyJzo6Pa8yzAD81+yWT5tK80v07OV8qDLC\n",
       "wxc4SuR5DC9fcKe7WlFiUFHWCKSRW3jcdiw9MDpmpyi2wvyga+vrb1YPyKf7TjFWIQCl0Jhtqi+j\n",
       "EU8WMXdszoVUin6kpx/IqBOKLU7YJPk060nqYHr6ylkdA/xeNYwv/dcCKD6qSjlDGmmp87pe3ga5\n",
       "L+CNU43Fz31/fn11Jwk1p0N+kieDGUSK3My3EHqCqgV/fX5kyektuz1gIVlD8ntqwC/nKUAk3RUJ\n",
       "IgMHm5MFqu/j3Nyaa15ZUgp3+CeRXetGzLn4FQ5ITs2NagNzJVBFFMk8ZYU/XPbztik44qz+HMQ1\n",
       "qU9O3SlYQABUngAS8TZTG/Zip7qCcnWutTKdXrVCkLZlrNJuphyUvdAzobSbWGPaR8FEuB1XqfdL\n",
       "3Ap1iLC2CfY7qj/TRoYIFdKEvTLqfmFRxPEpvo4t+Qd4IIGBJrBWgge1R9iA1f2iXJseFyyzHLLK\n",
       "ZmThh+R1XzeDwHYt9Qo2Y765CHgUFID5F8dmGso5gpXtba+/u4FqLM43bA8eFgkkkvIieJWfJoGS\n",
       "3mmsFFmxyk53adlC408S42eI0QvZr5QacntSGSoG3UINzxgqYd+/ZmAAqRY2pU1ejcANZYYDVR61\n",
       "hlH2eGIN8kxiMcVo8/f/smJ44GlrE412oYQ61C4azTH4mUDV9q3Ysfuj9L4QXoa/BLmKmPgAqLj6\n",
       "fpETKSKtad/i/rgvy+98+IAPis8TI3pW92ZOOb9n8sbmyh/mshYXo22Xqwhll3z8XwL+9zPlNAtz\n",
       "07lqB/oUV31qoolQW2Uq63EukLqtod0M29HggCYI1XcMKo6fx1SXbUknj3GPQoVnmBu5aiA+oio8\n",
       "poE/AaVoDePgeVA7TQXDGU8D9kAAgP7YJnQdeBIsytADV5afLJWMJYKtBLSWtSzu8+aOAi+tyaVm\n",
       "FTSKjIRC3YRlsmVDx2ZyHXJHeBTiMwOb9crGUEh36Z4zElTek6OL884pFC72EgEu8XRzFHouvWpG\n",
       "gdUQkr8DqicFFkmtLpclIBTFw/to6CzAD/44Rtn1A92hb/aTlTEBiWqKg2pA5mbIY8ox8STfYkAv\n",
       "nXV5k6EGA7raPDJqY7dCnlemIo4jHXu6RXsXeqpBkOase1UtplJdai1QUJgkT789i6d/6p/oxxvp\n",
       "lmwrwfgczP5VWI5EuAglODXFssPzEcrJRAe2Cpn+JKO3HiNQBm9CAIMjXFb99myALGTR027bGKm+\n",
       "CLdkjbjlL/pKgc9Wd0xtzTgyktvusBcTejj6Ax/LcVBu2oZXYqiYLE1nkW6U0C8P17B/zOu6M7Lk\n",
       "nLTK3ZmP4z2BirOZZLdzCoT/5i7YVo4uYzT1rkSrj46RLe/BxolqfCYD4Z2YQdsYNWzSfEoMwiBA\n",
       "EO6N0+lKkX0PP8NHuxfPRmnqmP/O+eFy4LDLGSbaEh3961gblisPxaPT9GrwRPrnlZ5sY/oPYQS8\n",
       "2eCWubny9UNP8eL0rJQGeTqZONh9rR3rkQhFFg8niGdqSuDxp8II/Y3lsTo9acHziUzfAMRSTQEy\n",
       "OeyYv7G64iIyFMlvAY1B9LMn3vyLTm+W+CghjhyOdA7RsgbPBrHYY3ERFcnpz625f8YZdjwA+/43\n",
       "ifYVGF4e1bBejvIHjGDmUGQOHFRWQEDQMpaKU8YaUCw351N/OCC46JXO24LIr3oXMjUwjhlx1O97\n",
       "BLWWjq3uNUaDI6W0S4V8l+MALnzeA2+g7jMgv0txn/DmxJvr/6CL2WtO2O25jofcjV9SqctTgB+b\n",
       "iJ9dWGtLT+AdxU6MXHQKSFlA7Tze0Ilh98jwhIvMEAAO2cOQACKuKQAAALlBmiRsQz/+nhB/4sTB\n",
       "ociKVrqoYK2n5yYAAAMAtbgVzQCYc4Kn44+kPoiJ/73bVMwGI6LOyLfSzsv97JPaUWNzlbkaS6Py\n",
       "tZ1B9op7VbUuwHx/t8QffCoBWQn7Blahsq9+tKnIeEMCrUTp7sY+LkluxHpReIiMU/XvgTJzQN7j\n",
       "IAGFe4HJjPCVHYJS7Jr7VvdzebXeLX+p+TlsJPJeGh2b+UQRBZOc091Kc9KeCPK2SetM3esreRFm\n",
       "wAAAADZBnkJ4hH8FM94lob2/F2GIxQAANxpI/taMseDJJ5vSbFspOPBHtdSRbHNVy9jpAruy0bWK\n",
       "esEAAAAtAZ5hdEf/B+J+sKZmdO3EAAADAJCJrUqhZIFWHb62yP0kulCKWXB+XIzik0csAAAAGwGe\n",
       "Y2pH/wfqNLpgFvNkR0q0VQm2NKeOGtuyXwAAAENBmmhJqEFomUwIZ//+nhAAEtD1WFrxit6AG6Ub\n",
       "ouChwO803YbeLTNpItgVLzEXJdjwAeE6nc/XI6GEp28skNKhYGnbAAAAIkGehkURLCP/Ao4UA9uP\n",
       "cFsTaF1t7wI0n616HPU6NHUC20sAAAAcAZ6ldEf/A/MU1YQuUs3PtCLV8R1cMRPysLeHDQAAABgB\n",
       "nqdqR/8D9QAQmzMfpVYef9OEyZbO2cAAAAAfQZqsSahBbJlMCGf//p4QAA0rp6g7s4GDqhO/24YT\n",
       "8AAAAB1BnspFFSwj/wKOFAPn1SH2IhbI6rMdXVhJt9Y1TQAAABcBnul0R/8D8xTVhC4+w7gVe6pB\n",
       "geNv3gAAABgBnutqR/8D9QAQmzMfpVYef9OEyZbO2cAAAAAZQZrwSahBbJlMCGf//p4QAAAvtK1u\n",
       "899skQAAABdBnw5FFSwj/wKOFAPn1QwfmDx9se0s4QAAABQBny10R/8D8xTVhCuDbVZ79EFPwQAA\n",
       "ABIBny9qR/8D9QAQmzHB66ZrRaIAAAAfQZs0SahBbJlMCGf//p4QABJRGoiXUm4bBQ4ocS4rYAAA\n",
       "ABxBn1JFFSwj/wKOFAPn1SH1+xK46rMdXVfH4XvBAAAAFgGfcXRH/wPzFNWELkF8g3j7qT/GbjgA\n",
       "AAAWAZ9zakf/A/UAEJszH6VWHn/TgL3FiAAAACVBm3hJqEFsmUwIZ//+nhAAElD6j40hD+nY/Fx2\n",
       "KsMClYQqhX39AAAAG0GflkUVLCP/Ao4UA+fVIgKnBgrET538beSAggAAABgBn7V0R/8D8xTVhC4+\n",
       "hxrXYLpwgeXbUYEAAAAYAZ+3akf/A/UAEJszIE7jHyV0h+4C8fgvAAAAI0GbvEmoQWyZTAhf//6M\n",
       "sAASn5qJ/6MwKM+pXCkMgOYIuzSAAAAAHkGf2kUVLCP/Ao4UA+fVIfShyrRQoJSBEvXVXENkwQAA\n",
       "ABgBn/l0R/8D8xTVhC4+hxrXYLpwgeXbUYAAAAAZAZ/7akf/A/UAEJszH6emS8HKUFvd9RwJwwAA\n",
       "ACBBm+BJqEFsmUwIX//+jLAAEgBpGtdjuwsLbRzcsVOOuQAAABtBnh5FFSwj/wKOFAPn1SFiVSRx\n",
       "r/a4vkvyTF0AAAAYAZ49dEf/A/MU1YQuKnhKxdnzJYSfh1aAAAAAGAGeP2pH/wP1ABCbMxVp1IQ/\n",
       "3Dzrg/db+QAAAC1BmiNJqEFsmUwIX//+jLAAEh+agLKgHrgAzfstqi5vF8kvLvPcpqKBtUAvMWkA\n",
       "AAAgQZ5BRRUsI/8CjhQD59UhYqbcU5b52teQT3orj2c7PNsAAAAZAZ5iakf/A/UAEJszFad38G+n\n",
       "FC4APFhu5wAAACRBmmdJqEFsmUwIX//+jLAAEYBrmtezuwsHoH71+vzS/TsXoWEAAAAcQZ6FRRUs\n",
       "I/8CjhQD59UgtNA64t5VCbTXOd678QAAABgBnqR0R/8D8xTVhC4WeErF2fMthJ+HVoEAAAAYAZ6m\n",
       "akf/A/UAEJszC1ti/tr3D8rg/db/AAAAJ0GaqUmoQWyZTBRML//+jLAAEZ+agJqgG9XpUxeWLcfH\n",
       "+mrowi+gsAAAABsBnshqR/8D9d7oT9TC6d34KR7Ak8bZwrO9qSAAAAAmQZrNSeEKUmUwIX/+jLAA\n",
       "EQBrmte0WCAEvpaw5ud/oXU6K5Ry+HEAAAAgQZ7rRTRMI/8CjdTh0hhQCmg5e+KFBKQMi9qlV88k\n",
       "QnAAAAAYAZ8KdEf/A/MU1YQuBSCZbFsq76I34cJgAAAAGwGfDGpH/wP1ABCbMwFbYv6wrWRKSPvu\n",
       "efhCZQAAADZBmw9JqEFomUwU8L/+jLAAER+agI6dX/AHmS7nvdrOYho3jgRmqeyjtBkYGofvCscP\n",
       "0RiO43cAAAAeAZ8uakf/A/Xe6E/UwGpa8NF9lfkC+utUAezzzXnBAAAAHEGbM0nhClJlMCF//oyw\n",
       "ABCAaRsF6u7IAldILFgAAAAcQZ9RRTRMI/8CjdTh0hhPulDlW39VqyXcPj7nagAAABgBn3B0R/8D\n",
       "8xTVhC3xIJlsWyryQcWhwmEAAAAYAZ9yakf/A/UAEJsy92nUhD/cQ6uD91v4AAAASEGbdUmoQWiZ\n",
       "TBTwv/6MsAAQn5qAjqoFPG6MVAAAlkiI+R311ycshb2xtKI+tRhjRpAmiMVJuP2sdmZUvViH4Bzn\n",
       "VC6EW5rsEwAAABwBn5RqR/8D9d7oT9S91tl3vNLpwrH0x6Awcxv5AAAATkGbmUnhClJlMCF//oyw\n",
       "ABAAYm/e35eTEgA/dVZNV43QWB5F5w141QFQ8RnEo19D/6A47Q1F5RNpEOckSZyxzW3iYK8hTiv9\n",
       "cnOpqYr1gAAAADtBn7dFNEwj/wKN1OHSGE9xGR0Zhhz+cgAPv3R/cqnRJn7RsjGK7sdGJkccZapC\n",
       "gaiERgYlT0lw1F3VDQAAACkBn9Z0R/8D8xTVhC3aeGN9Y4NwQACZ5rzlb14FRmk0DtO+mskA95nC\n",
       "EQAAACIBn9hqR/8D9QAQmzLuTuHYTiAAhAzVh4pLGt2arECXWdVoAAAAUkGb3EmoQWiZTAhf//6M\n",
       "sAAfXkVAfz2eJXPC36x2hnYujWPDa5KWQ2HlapQ6u4HtblkFkPZVJQaSjt2MFVDrI8jSI24SwJvG\n",
       "AetkGb2BUN0MK9cAAAAaQZ/6RREsI/8CjhQD59Ue4xQl16WZTImvGjAAAAAVAZ4bakf/A/UAEJsy\n",
       "7k7p/Vg5329BAAAAXUGaH0moQWyZTAhf//6MsAAQH5rAsESSTdADbxze+bD63n4sU8zlut7SuND7\n",
       "KKftBPMuIEgi9alZxDHq+FqYtyXy+rBS5sHIe1qsoUj9f8UPc3ztjQC1VB2b98AKYQAAACpBnj1F\n",
       "FSwj/wKOFAPn1R7VPVschIADVGGwWYjym1t4Cvw9Z9frwamjpcAAAAAZAZ5eakf/A/UAEJsy7lcN\n",
       "otC4vNjgLxv9dwAAAEpBmkJJqEFsmUwIZ//+nhAAD4FI0AWAI1QSYHGX5N+x/ZoY7ri3oPs/JB4W\n",
       "r/vBPiCYn5XIokMVtCB4NWs5JnbV9ZN8c3Vu/yRxwQAAAC1BnmBFFSwj/wKOFAPn1R5czCAEp8Ev\n",
       "C04SebpPADc80UOfghV4cV/mDTE1O1MAAAAjAZ6Bakf/A/UAEJsy5c+YAD5z0qLc4paCFiDEn3WW\n",
       "i6QAl8kAAABAQZqGSahBbJlMCGf//p4QAA+WmOfkFrVwCa+Sy5pYjHyUHUB1NBtGM3lvbRvocukl\n",
       "6DGoP9VR+kP/Dtx3WFzHkAAAABRBnqRFFSwj/wKOFAPn1R5ASsnMoQAAABEBnsN0R/8D8xTVhCxV\n",
       "NDdaKwAAAA8BnsVqR/8D9QAQmzFwrYEAAAATQZrKSahBbJlMCGf//p4QAAAHTQAAABFBnuhFFSwj\n",
       "/wKOFAPn1QcK2AAAAA4Bnwd0R/8D8xTVhCrhWwAAAA8BnwlqR/8D9QAQmzFwrYEAAAATQZsOSahB\n",
       "bJlMCGf//p4QAAAHTAAAABFBnyxFFSwj/wKOFAPn1QcK2AAAAA4Bn0t0R/8D8xTVhCrhWwAAAA8B\n",
       "n01qR/8D9QAQmzFwrYEAAAATQZtSSahBbJlMCGf//p4QAAAHTQAAABFBn3BFFSwj/wKOFAPn1QcK\n",
       "2AAAAA4Bn490R/8D8xTVhCrhWwAAAA8Bn5FqR/8D9QAQmzFwrYEAAAATQZuWSahBbJlMCGf//p4Q\n",
       "AAAHTAAAABFBn7RFFSwj/wKOFAPn1QcK2AAAAA4Bn9N0R/8D8xTVhCrhWwAAAA8Bn9VqR/8D9QAQ\n",
       "mzFwrYAAAAATQZvaSahBbJlMCGf//p4QAAAHTQAAABFBn/hFFSwj/wKOFAPn1QcK2QAAAA4Bnhd0\n",
       "R/8D8xTVhCrhWwAAAA8BnhlqR/8D9QAQmzFwrYEAAAATQZoeSahBbJlMCGf//p4QAAAHTAAAABFB\n",
       "njxFFSwj/wKOFAPn1QcK2QAAAA4Bnlt0R/8D8xTVhCrhWwAAAA8Bnl1qR/8D9QAQmzFwrYAAAAAT\n",
       "QZpCSahBbJlMCGf//p4QAAAHTAAAABFBnmBFFSwj/wKOFAPn1QcK2QAAAA4Bnp90R/8D8xTVhCrh\n",
       "WwAAAA8BnoFqR/8D9QAQmzFwrYEAAAATQZqGSahBbJlMCGf//p4QAAAHTAAAABFBnqRFFSwj/wKO\n",
       "FAPn1QcK2QAAAA4BnsN0R/8D8xTVhCrhWwAAAA8BnsVqR/8D9QAQmzFwrYEAAAATQZrKSahBbJlM\n",
       "CGf//p4QAAAHTQAAABFBnuhFFSwj/wKOFAPn1QcK2AAAAA4Bnwd0R/8D8xTVhCrhWwAAAA8Bnwlq\n",
       "R/8D9QAQmzFwrYEAAAATQZsOSahBbJlMCGf//p4QAAAHTAAAABFBnyxFFSwj/wKOFAPn1QcK2AAA\n",
       "AA4Bn0t0R/8D8xTVhCrhWwAAAA8Bn01qR/8D9QAQmzFwrYEAAAATQZtSSahBbJlMCGf//p4QAAAH\n",
       "TQAAABFBn3BFFSwj/wKOFAPn1QcK2AAAAA4Bn490R/8D8xTVhCrhWwAAAA8Bn5FqR/8D9QAQmzFw\n",
       "rYEAAAATQZuWSahBbJlMCGf//p4QAAAHTAAAABFBn7RFFSwj/wKOFAPn1QcK2AAAAA4Bn9N0R/8D\n",
       "8xTVhCrhWwAAAA8Bn9VqR/8D9QAQmzFwrYAAAAATQZvaSahBbJlMCGf//p4QAAAHTQAAABFBn/hF\n",
       "FSwj/wKOFAPn1QcK2QAAAA4Bnhd0R/8D8xTVhCrhWwAAAA8BnhlqR/8D9QAQmzFwrYEAAAATQZoe\n",
       "SahBbJlMCF///oywAAAHVAAAABFBnjxFFSwj/wKOFAPn1QcK2QAAAA4Bnlt0R/8D8xTVhCrhWwAA\n",
       "AA8Bnl1qR/8D9QAQmzFwrYAAAAATQZpCSahBbJlMCF///oywAAAHVAAAABFBnmBFFSwj/wKOFAPn\n",
       "1QcK2QAAAA4Bnp90R/8D8xTVhCrhWwAAAA8BnoFqR/8D9QAQmzFwrYEAAABjQZqGSahBbJlMCF//\n",
       "/oywAA+uk+ZY4oeeAIR0TCLoQFC1xJXGR8NVNgEZWV56iq96oJEeHrK+w+KYv2xTmjqbFIuXcX7z\n",
       "EuBvyeKzy9jbc1XcwInpasgt902D2DgvTKTDQIGAAAAAJkGepEUVLCP/Ao4UA+fVHjRT6qQABdAJ\n",
       "C37OQajMlCjpakljLXpBAAAADgGew3RH/wPzFNWEKuFbAAAAHwGexWpH/wP1ABCbMuXPmAA+ds1r\n",
       "dSVWx3sj0ga2zKEAAABIQZrHSahBbJlMCF///oywAA+oAOvbAEIkXSf6F4l8XOUUVJXyaLE/ZFRj\n",
       "4c2+39hWLmGlTRo2y2qwT5/SHclXXc66G1buq/XrAAAAcEGa60nhClJlMCF//oywABAAV+sjACqv\n",
       "N9Ge380Vrgx04F9UbtE9WsqrwjvnxXYSsngqMG1EFiuq6aRs2Q5Ju4cya50a8vZuDERPcXexHH9f\n",
       "cPsIOt1rNk8s1Yn942P27wQCk1VvDR0c/McfAzR2pZUAAAAqQZ8JRTRMI/8CjdTh0hhPajLl1sAC\n",
       "ZxnC1sh8UlXPtA9uV4IG9jdgjbmUAAAAGQGfKHRH/wPzFNWELdqJ4eTnGjVVPhgbmUEAAAAUAZ8q\n",
       "akf/A/UAEJsy7Xfbi8rPQ7AAAABHQZsuSahBaJlMCFf//jhAAD34vFZQA4pHOcNljNHUdill35KB\n",
       "ms0AmsRe2bKCNvgaEi2p0Bw3GueDzkHg+JV6exon1jpq9YAAAAAcQZ9MRREsI/8CjhQD59U2nL5H\n",
       "t7Rc1YCSqm9ZgQAAABoBn21qR/8D9QAQmzRpXJb2lKPF85r7Go9ZgQAAAEtBm29JqEFsmUwIX//+\n",
       "jLAAEBS/wMiABEgMs6DVVgEfR7gmGspxc258FGtwPpOK0/GsueclOxLj0KESefsrpL+8LpwTydXf\n",
       "SSBBZUEAAAA1QZuRSeEKUmUwUVLC//6MsAAQhH9OE46lB/yWjOka8Y8im+pM27DugLjkqeVCKisa\n",
       "ibx3wMAAAAAnAZ+wakf/AAhvvN/X4gABL5fJVXgjQre2LB7pqSR2989WwezLJI5eAAAAKkGbs0nh\n",
       "DomUwUTC//6MsAAQgE8tBlc4EIcPAAOLo5WHP9Rp1EE8cz78kQAAABQBn9JqR/8ACGtW8OJnlRgq\n",
       "fA7swAAAACRBm9VJ4Q8mUwU8L//+jLAAEIBXy0WNc5XKEe5f04oglYkCK4AAAAATAZ/0akf/AAhr\n",
       "VvDiZ5UYKZ9chQAAAClBm/hJ4Q8mUwIX//6MsAARAGbLTJ8yAGrHC3DA+i2om4BzNZJ8swSvPAAA\n",
       "ABtBnhZFETwj/wAKgrKd7ai0rBoql07G1GrVLKEAAAAVAZ43akf/AAivvN+3dg7m3ZSKEYYhAAAA\n",
       "PUGaPEmoQWiZTAhf//6MsAARAGy4kQBCyYlpCuYJMJqrks0nvfwb1/yVIg4al1lO/UH29S9QGk8o\n",
       "cPwp2qAAAAAcQZ5aRREsI/8ABYrQBkzrJq2q4ofKJFXQhnwDgQAAABQBnnl0R/8ACKojmXOjt3VP\n",
       "QAA/EAAAABQBnntqR/8ACKsCY30z898VbMqZQQAAACxBmn9JqEFsmUwIX//+jLAAEYBo82SDApsA\n",
       "IFJSAQY+W5eg6ESwTE8F8zoXUQAAABpBnp1FFSwj/wAFrJSDWWV4h66ectO8UvBjgAAAABMBnr5q\n",
       "R/8ACOsCe4C3S87hUQvAAAAAK0GaokmoQWyZTAhf//6MsAASAe5AGb6eKt9hBWO07RhzGeHMOBkj\n",
       "UiwJ9NEAAAAXQZ7ARRUsI/8ABdMQs2oQqXvv8+pJHwgAAAATAZ7hakf/AAkvvN+1tzsvAIOLgQAA\n",
       "ADNBmuZJqEFsmUwIX//+jLAAEgQsyzoWvgs2IhBv3/cTmS5DZyKAaiDjAXpkvC2nZZK9g6IAAAAa\n",
       "QZ8ERRUsI/8ABdCXmVzVO9524S0QNBoOwPkAAAASAZ8jdEf/AAkv1cwEM5mfgZ4tAAAAEwGfJWpH\n",
       "/wAJKwJjfTP1HBo9IcEAAAAtQZspSahBbJlMCF///oywABKAa3LXrrhbuho7g40YAzNZAcPZqfFH\n",
       "MVELwb9zAAAAHEGfR0UVLCP/AAX6HRsH52YcBZVsQGoRL8A490AAAAAUAZ9oakf/AAlrG7BXEWmT\n",
       "CrQlKmAAAAAsQZtrSahBbJlMFEwv//6MsAATAGbLTJ8yAKMxRUJfN1006QR4Zw3fNgX/P+kAAAAX\n",
       "AZ+Kakf/AAmvvPFltzsu+FCxZ2k2ViIAAAA4QZuOSeEKUmUwIZ/+nhAAEtUpmwggBAq5vczYiKua\n",
       "TI3n4aXoQ0w2DFSOr6GBDvsfCyCfGxOm77UAAAAWQZ+sRTRMI/8ABh/qr2Bel/JBxaeN4QAAABEB\n",
       "n81qR/8ACasbo30z9Rtq4QAAADNBm9JJqEFomUwIZ//+nhAAE1EOO8laFssZiLg9BOg58qS5gVmm\n",
       "LTrKTJNsHUF+7yv6iWEAAAAYQZ/wRREsI/8ABkoiLk42GNRx8YnyJo+EAAAAEwGeD3RH/wAJ77/d\n",
       "XySp3pA+1YAAAAARAZ4Rakf/AAnww4f9M/UbaaEAAAAyQZoWSahBbJlMCGf//p4QABPa9xV8x7WL\n",
       "GYi4PQToOfKku0Y9pi06ykyTbB1BegxKXDAAAAAZQZ40RRUsI/8ABm/qr2BZeIew4OYPDPuVoAAA\n",
       "ABMBnlN0R/8ACje/3V8kqd6QPtCBAAAAEQGeVWpH/wAKOMOH/TP1G2igAAAAM0GaWkmoQWyZTAhn\n",
       "//6eEAAUavcVfMe1ixm72D0E75I0Y8WAAZ9vLMoCPWsvHHjnkmY83QAAABtBnnhFFSwj/wAGl+qv\n",
       "YFl4h7DgZg+o3sd+rEEAAAATAZ6XdEf/AAp/v91fJKnekD7LgAAAABMBnplqR/8ACoDDh/0z9Rwa\n",
       "PRphAAAAN0GankmoQWyZTAhn//6eEAAU+vcVfMe1ixmp+ZvTd9bYu1nXxnihg+/oNRdffRVoadTZ\n",
       "Yd+MgsAAAAAZQZ68RRUsI/8ABr/qr2BZeIew3+YPDPuVoQAAABMBntt0R/8ACse/3V8kqd6QPsaB\n",
       "AAAAEQGe3WpH/wAKyMOH/TP1G2ZgAAAAL0GawkmoQWyZTAhf//6MsAAVuqWjk5iHt4eEpmqUS8Zb\n",
       "NvdOeO4CEf9TecZvCAnCAAAAGUGe4EUVLCP/AAbn6q9gWXiHsN+D6D+7laEAAAATAZ8fdEf/AAsP\n",
       "v91fJKnekD7BgAAAABEBnwFqR/8ACxDDh/0z9RtlYQAAACtBmwZJqEFsmUwIX//+jLAAFkqlo5OY\n",
       "hSeTrgdbs/BUVg5xKgr8KK7fYJd+AAAAGUGfJEUVLCP/AAcTLpqwWXiHsN8r6D+7laEAAAATAZ9D\n",
       "dEf/AAtXv91fJKnekD68gQAAABEBn0VqR/8AC1jDh/0z9RtkYQAAAENBm0pJqEFsmUwIX//+jLAA\n",
       "F43x9YLjoIatbAmNNYtiXjJeyKzGIejdApH8ZSZBeBDYYmYTq87lu0u1pP7ehFQcIHSRAAAAGEGf\n",
       "aEUVLCP/AAdBxSbsYUeCoZJaMYYvQAAAABMBn4d0R/8AC5+/3V8kqd6QPriAAAAAEQGfiWpH/wAL\n",
       "pbA6+Zh9L2xtAAAAOUGbjUmoQWyZTAhX//44QABdd2+WDii+qUVBIxYxu6y9xmF3REYqQJaL8W2Q\n",
       "ijOIi11vXRAbaHD5gAAAABlBn6tFFSwj/wAHay6asFl4h7Dee+g/u5WgAAAAEQGfzGpH/wAL7ee+\n",
       "vxLMi2JhAAAAMUGbz0moQWyZTBRMK//+OEAAXONctmV3wx2tv3wOxY2+q8+BtBx88kWw1TFQVQxP\n",
       "RSUAAAAXAZ/uakf/AAxEjvuab8xeAWy5b7gKdIEAAAAxQZvwSeEKUmUwIX/+jLAAGKpC3DQOdqPB\n",
       "gBA3YKLDU/Zn50vh04g7xNWtHsxFDzSpKQAAADJBmhJJ4Q6JlMFNEwv//oywABlFphlxdDByAANf\n",
       "ur+74/viLMcr+QNQ/H6hWDBpUTFqzwAAABEBnjFqR/8ADD3nrb2sz6mqYQAAACNBmjVJ4Q8mUwIX\n",
       "//6MsAAZ5ahxcYjNptP+4nHhkfbrXF8ZeAAAABZBnlNFETwj/wAHwy/G+ClxFfQxl42fAAAAEQGe\n",
       "dGpH/wAMk8oLPhk83o1JAAAAK0GaeEmoQWiZTAhf//6MsAAahahZcXRP0uMlAnPKnowopiv27Oz3\n",
       "pkvqmaAAAAAWQZ6WRREsI/8AB/IetN8XrEsioir1NQAAABIBnrdqR/8ADN3nvr4RLLMibekAAAAo\n",
       "QZq7SahBbJlMCF///oywABnlniOSiKUmZC/NmU3im0wHHjZ1gbL8cAAAABVBntlFFSwj/wAILyFm\n",
       "1CFS99/nbiEAAAATAZ76akf/AA00lEQEPJ4ZiJ24gAAAAB1Bmv1JqEFsmUwUTC///oywABnqQdMP\n",
       "FCNvl6k+YQAAABEBnxxqR/8ADS3F/g6SzIte0QAAACdBmwBJ4QpSZTAhf/6MsAAahZyjklJFJ5Nj\n",
       "ytGIfTzXeSIKA2uOIQwAAAAVQZ8+RTRMI/8ACG8hZtSnrDXaZ2zgAAAAEwGfX2pH/wANfcX+DZD8\n",
       "qgHoGpEAAAAqQZtESahBaJlMCF///oywABqFn6OSvwvIH6IQD2kHNRC16TzEZJ7jbvSeAAAAFkGf\n",
       "YkURLCP/AAhq/KOLW59nAUuy2MEAAAARAZ+BdEf/AA1847Gkx1Iha8YAAAATAZ+Dakf/AA19xe29\n",
       "rM+qhenBYQAAACNBm4hJqEFsmUwIX//+jLAAGzFBsqvf+L8m31EbwCze/xzAawAAABhBn6ZFFSwj\n",
       "/wAIjlB6DNL/jgg3MsbnBYEAAAAWAZ/FdEf/AA3J7YJKtQnFCF+ZYyYeQQAAABIBn8dqR/8ADalG\n",
       "6jD3soGla64AAAA+QZvKSahBbJlMFEwv//6MsAAbM6iMFRAC1xUGxGH2eiScFgu7LK/wkGKJScsN\n",
       "13v5SNqQPPJJPL0nfV7Iq+AAAAAcAZ/pakf/AA26UZyEIAIbvZaWdZ8/oAKQVD7XXQAAADdBm+1J\n",
       "4QpSZTAhf/6MsAAbMTwecAAF0wvMH+E/cJLd/sGlvW5ZfeX0wFJRR0jZ+fGRfKgPigvYAAAAEUGe\n",
       "C0U0TCP/AAhq4WH480zcAAAAHgGeLGpH/wANpa2vaGPQACAGjp3BiKV55kqWGVrrgQAAACRBmi9J\n",
       "qEFomUwU8M/+nhAAGwErv1T/1N2KxADZzSYrmS+q2hcAAAAPAZ5Oakf/AA3PtpH5gNJxAAAAJ0Ga\n",
       "U0nhClJlMCGf/p4QABrxabMO+8ADgIaRc56xhMpjUR6TGDo9IAAAABBBnnFFNEwj/wAIrAsLZtGA\n",
       "AAAAEAGekHRH/wANye/AYA5tmjEAAAALAZ6Sakf/AAADA7oAAAATQZqXSahBaJlMCGf//p4QAAAH\n",
       "TAAAAA1BnrVFESwj/wAAAwJfAAAACwGe1HRH/wAAAwO6AAAACwGe1mpH/wAAAwO7AAAAFUGa2Umo\n",
       "QWyZTBRMI//94QAAAwBvQQAAAAsBnvhqR/8AAAMDugAACqVliIIAD//+92ifAptaQ3qA5JXFJdtP\n",
       "gf+rZ3B8j+kDAAADAACv1n8JSaswHmCN0aLrYd9cLDHh6rrZZfJ5mhgv3mR8z28vrzn/Nw4eSg8F\n",
       "6oOgkd9+U50bH/ZGoBKFWu8bUSCUNUqLZuHhRFq3wq7FyYs5LxAAAAMCrHNOe8LNOmA81KlPWbwQ\n",
       "RYwT1BL6v7ZFtkCpBA8BCHjDEvRvu6KeX912tpBhzHXxr3XJkhzM8RpPh4rneSAZP1HvC7ONoDLs\n",
       "gkEWbGMxlBXNiwqFr7www1jHWrgCcEVSGZfdJbjfx4IJhmVB6WJ2eBpKThPLvoAqeZrK9P672CPh\n",
       "xJz8Ux3g9pGczdLiHxcNCwtmHagExo+uTBWwbf6y725KfmjhrQSh5XNYgAIRqxEFqN9NeXFpJ8eX\n",
       "MLJUPaJ1dLOR7LDCsTJmgO3pNlaTw4wKHhzIx8Y/bJJ5iYQvkVn3AqWuizSC+Zbg9TYxaTFOe9jZ\n",
       "ScFsaUARUz8yDsAZ6+NkuoSXHFerpnnqso4rP71KA3uvQEE5JU2KwSIzmhS981FAaaIMwE2/IGA7\n",
       "/3RLR0wAcbb1qs+N4ikanwom1piGxP87DTrcKPAtGPFypD5rwLLpaAAc08PncnbL3iUkSX/EdLU4\n",
       "/ryB2KcdLajw9z3Tq0Jb3gAQ7cdVz2K7EkfgouWWshIl3goPX9h31Gs6WXzez9dADm0jn88AACHk\n",
       "4f9/rsXhmXPyLjUU8F3gFDD3W4zHtcYN46Z2Tv5qIzX+Nf4YjoTu678gy9AplsPWME3syK3ZuFIn\n",
       "MWT3Msjez24mvyL5Ge5gUmZJNly+tSwm8Jz8cEYqhbUSoDc8QeK5E95bPrSIUZBDdjz2tDEp2Z6j\n",
       "O89PK43sAgR9lhHeJY8a3aN8B3HJQ7cZZfB05EOZ9VUrFIirIIJjj6x5h/7HpccG2imKGaA6Mijs\n",
       "BbZv4/9E1nLDEXYSBTc7iWcTmRWNv1otxLnoUABWVBjMdERRZ8tgNpC9BivXPM3xaGzcH0Q15IMp\n",
       "uk828GSF5h/DdO457LkWKTiRdKQa4za059OMS0GVMFxdIffGjhoc4jKIM+MllxDhybo4eWgzHFSc\n",
       "vpvY83YAZ10Rj3ZVkVzzxzy+A5KJv2u/hngtK9+HhBF52KLjuw92GdCSGnHQhrJpw8TUOcTOsTQ5\n",
       "0QWtTMq13cI3izurfUkX5xwDmUmHiengqY1Avy25F5rPez65gzmIs6PuyPFrIdefvGTbr0zJmLfh\n",
       "JazWbDLA6x2llkgCDnqz6ou7wY4U4KKBdTU+TZjebT327b/yyWGg2IcEYLSfWF2LT4prqIr6Lczs\n",
       "nM8Yd5imByL37hAMYZm3tnl8dTC3uyuJ5JPSc0S8o3DTin6js+RbpvEbAEefabBODh5x2Ejrdrmm\n",
       "UY/HXUu4uqDx9YtBbbyyHiTZqxnME8CTlVpCKVvquJJi1ZJsmZYqF+U3OY2f4k8O8iAAADWDTYtQ\n",
       "C4mDmsihmFDVa14t7Ynp+wT4h9w6ZynByHWZPi3owsZwL8lJkzXi850MP0QkPgm/YP/2NvSNzVcO\n",
       "olvWyP0zUT+BB3t/NbhkC1kh+r+6/n09V3lqTYCn05FlL/+xCfPW0RwcpsBTh14fhtththcyHrRw\n",
       "AlycFKxXQVqWRMhISGECcsimqDVfAAIcm05Hr7fpBAnlrRBpPbpvlYgygtoWTCeyRPjrhMk6aZJK\n",
       "0CB4MgvFVnjXYM0Du7XN170jEIknQRURuJWSMYHjfJdGp855Zcx1yzs+bUE7i1hmBl+tVlzy9XzA\n",
       "UDpIH+glfKaDe4+tJFLSEFp+mtqRtulDkv2cd8RfqiE/jkmWJTkoncjGYcuOmDMc8Rj100nkJ4ZM\n",
       "/oTTGCJt/FDvqaS6GE/IAMRvzqMcpMwFV0OgnPsxi/fMur4l/YlZyGqIWGUSUB67F8/3dZFbuf/r\n",
       "/SN9L/u0Q8utLk1qeKMtUgJ728d0iYAAZmBu8lyhJAxZ+BYpaVtqEdPeHuLlMZVSwGfaPLDSuSQa\n",
       "1zmiFKs3IJBiKkrJ8YKuA2BSDyZYfSm3F4ClP3Ry71Sxqn+fmuRC0NEnBJ5jN/lcQmnQhDzlHjpm\n",
       "ff6sKSEnDmVuOIYVgWNqnJ5leYNSv+zEV108db9nuGXk9DEstVi7wKNXY1toOv+8UByRS2wYKVvO\n",
       "MjaYm23A0djW8DHOdSOH7mzIlI1EZzu3yuVqVOZjMM2Bu8kjkVCDoJm54lVsipKzl4lEy7+NKMRC\n",
       "HRtgjOGeteMiMmmmif4Rj1uUgEs187i0Y1nGURHTmYxH4tADMiIV2tMLucL8Y5QFUSslQTns0nNX\n",
       "xIxZOXAeQ6mupxRe+Y7SPav1wTsNDmkbCnXZwIJAAVfzz/Eyv/3qMy73NGMT6I5/9lb2ACx/3oH3\n",
       "o5tT/WpHWocvMdM4erx1WM1M00GRkjtxqSWy5rMJVrKOpPOJ7eWhLSyFmXuh0c/r1aO6LpgLACZS\n",
       "SBrG9yx6+uqaxs61fXC5UWsCPIL+puyuLdEED0vHY4+yXVPbBLQnF/PF8dl4V2DESSPMJMlzrjfi\n",
       "snAIsAyBSY6vicuF+LXhqfR6zBStzeDi1u9KVKjXmdArsQA0T0cHEeBPj8RIV4FiaRX5lamLivru\n",
       "tJrzvDGlb9t+EOMnxxHLTTaT6nXRFbU4ZvfHOpQm+Iajwye3kpEokUDp1fYNkEnBxaCTv5qR1fhV\n",
       "bAEmD50hFVFoKiptK0l+7iKZdU7RFkqFI9EYXEOhWxTY9Q1KexQ8qETnxu5dkbpIZS250bb2J6Ip\n",
       "WrW/aUUzlv/VTrz+ad/CofeVt0lnVOpwA6HEymj5YhJFRHC+0xZC/ivVBLZoPo3pCXrUfsYmut+q\n",
       "gupIA5F/eAbV2Mwi2vwCveNoBxu2Cg04m17z1uqDm0PcggA7UeyyY0d7YG/rfZmEAlsnyEEBAlTc\n",
       "WZkCFCz4PkCevgPJ2PLpBg1Qu2pwS4czSp4tfLYFgMjYeAGpX5xtzOjH+S8kItC3b4GjeeSiyz3j\n",
       "RuncSKP2pxyn1QvVOu0d/kRcbGpKHq7pPmz0zqLd7j9IGr/grCSiDLdKLHNwbC3Talv5asA8hIbI\n",
       "hWPtQWaft/X88F6CXSl3FK/KT7a3rvA8fFKsMzLY9X4WyiEmeExVNJwh770Vk1DtxIxH0BBOquu5\n",
       "fGaqekagvatopLl7gY1Lu8o+OPDqde26CxrWRQgh46nIQv//ZTJUKt0xFhE7X/HSlY9JK7gY+2Pf\n",
       "1b+lYep9v3U/f+o0OwtvzGDlg8AMF9PHGV3KbIOh1A17SLxeds2h4ldwPSGkkr9mG8S4Pp3+DUlh\n",
       "AI/2dH+tn/5P2bW1lYG6szDtYm6TRla7iO1TmlCZ7Vu3cBXC5E7wjlsnxaSoH8WNxRG+CBZZhBDM\n",
       "zGllORKKNCqa+6Y40SsimUa90DotadcjppChv6M+ACb9FBrCke3dSwv+DVwEvtgdZzfzFl8uFIPd\n",
       "YgDQbfgtzp9BHkAUYsryAR58UFCpNk7r89D+Wmn9oi4EsFv0yv6nM6FgNcYjZsmvFpKfNKWVJb85\n",
       "eI+cDPoEJiYSOuFurluJF8hhA5XLGiQs9Mqn5NTcWXotSGs9+LkVQ51vkBfN4/Zw6vW4NOf3YogL\n",
       "juZ2lYAWFSlf60w8HQDD+01hH3fKKA5ZAAAAkkGaJGxDP/6eEAeyu2QAnc4Bxs1Hk3lgopLi52HW\n",
       "GOgOOCesaoq6FLkBuuzv/s0ikNEyWMYU5XPTukNSW1WI4aWiFt/b6U2fvicJSYusyi/37UP+O9E/\n",
       "N2OE4k1jy6SPk8nzh43Kqk39c6PeIJKruzzV59Oss+lxuUAV3F4zNdbCBdy/6yS0Hqsn/YmPT3wQ\n",
       "F5MjAAAAJUGeQniEfwBHYEIFA4wR77Q34WQJpOjAZprwFVKHrLfw5OH3gocAAAAZAZ5hdEf/AHEi\n",
       "jaMh2rDrBzbkFfUmxB+9JQAAABgBnmNqR/8AOLAECfEPPjZVphVmuJ+HZjQAAABZQZpoSahBaJlM\n",
       "CF///oywABsgfuQ5IOUABxB5fMLUO9uBdrNlpqszudv4ndw0G8YhZXGvTaZyE+9vTO4l9yshDFQi\n",
       "JNA88jcdELcdpYK9RuajxTbNH3mUO4AAAAAmQZ6GRREsI/8AI8VBAeTfb/YbDbUAAmApb7Lx+EkX\n",
       "rj+e6RWOhs0AAAAbAZ6ldEf/ADiRUPD8wXqMqm3dkf3bI3WFYHRQAAAAGQGep2pH/wA4sAQhfC8D\n",
       "2qaodGiuDoKExGEAAABYQZqsSahBbJlMCF///oywABsyY7wXgAjAyLHamY6hSO7bsdOlyhzncsvz\n",
       "IiqW1uXhGiFBQv+kU0SBeokZD8et5RifOi1HrFytZB6PNVJLVfdgsiRxTeYdIAAAAB9BnspFFSwj\n",
       "/wAjxUD91aiTr/xty6UwNrMir/8kGcNnAAAAGAGe6XRH/wA4kVDw/LzuC5sf0rlX2WuQwQAAABkB\n",
       "nutqR/8AOLAEIXwvA8W0WHqhYbsoAAftAAAAWUGa8EmoQWyZTAhf//6MsAAbMVlCA4AiYDmkIN6I\n",
       "xq+945bzmXC88n5/DUjHPYnUg+7c2sIis0bBF/fkKJLki8/bfmaPlu/sYkR9Vox7ZIrCXU/u9Jj2\n",
       "0UdBAAAAHEGfDkUVLCP/ACPFQP3VqJOv/B2t4C/18xcsCigAAAAZAZ8tdEf/ADiRUPD8wXqHbLv5\n",
       "m9kuygBcQAAAABQBny9qR/8AOLAEIXwvA8T6LD01rwAAADJBmzNJqEFsmUwIV//+OEAAaYefQjQB\n",
       "Vq1GNstSE6ZnZwaNugQeaLdrpKEc6nwnuPU6GgAAABlBn1FFFSwj/wAjxUD+P7ps+ho6fNy4vwu4\n",
       "AAAAFQGfcmpH/wA4sAQhfC8DxTj0aZM3lQAAAEBBm3VJqEFsmUwUTCv//jhAAGmLw4djAFWrWtpv\n",
       "5KeQ5Wyv693q6pTWrfrAOIgva/ex+1I7thVJ8JPWjo09BQDBAAAAGQGflGpH/wA4vfAQvheB4xiA\n",
       "BYsrvR8NokkAAAAuQZuXSeEKUmUwUsK//jhAAGmHoDvZwBWgyDP19oCW/1qbcyFMhT/q3SAA3h7S\n",
       "oAAAABQBn7ZqR/8ADc+2kfl+laMc+QzVYAAAACZBm7hJ4Q6JlMCFf/44QABph51lgCHNACjJOH6Y\n",
       "Ez6tdY1pkxaD6QAAACdBm9pJ4Q8mUwUVPCv//jhAAGk5+7c6I3d+AIkxdvJvgZrUCKmg7oAAAAAP\n",
       "AZ/5akf/AA3PtpH5gNJwAAAAJkGb+0nhDyZTAhX//jhAAGk542VQUAR5SI7n1iAtkV5KpRwrBayp\n",
       "AAAAJkGaHEnhDyZTAhX//jhAAGk5q2orAEOZ9PBtnWmU+gD4zhgQTyTgAAAAJEGaPUnhDyZTAhf/\n",
       "/oywABsgattkAAVO5cVTaiE8Stca5pqVgQAAAC5Bml5J4Q8mUwIZ//6eEAAa8V8yjEAHF4+3Mg0S\n",
       "a8HoPXPulPH2qBrYClr3PnGzAAAANkGaYknhDyZTAhf//oywABsgatuYhAF66+CGtkuxmMk6b49b\n",
       "7kDeeuiNsWrZG0jWM1PJ+1bhYAAAABZBnoBFETwj/wAIq/jW237thbv1wjPbAAAAEwGev3RH/wAN\n",
       "zf+gSo3ApFypzf4AAAASAZ6hakf/AA2EFHLVPYPZO14xAAAAIEGapkmoQWiZTAhf//6MsAAahY1O\n",
       "JbuwSPGs4nl5PnpBAAAAFEGexEURLCP/AAhxHNu8TpVNxOaAAAAAEgGe43RH/wANfUnFqpzlqANL\n",
       "wAAAABEBnuVqR/8ADX4v0NVFqaNLwQAAAClBmupJqEFsmUwIX//+jLAAGoWO65AA45NN+3iehcbg\n",
       "lF9jMR1Y5XpHwAAAABNBnwhFFSwj/wAIat8lvlH2b/VNAAAAEwGfJ3RH/wANWCNf2Z8lO+0A0vAA\n",
       "AAASAZ8pakf/AA1qU9QzNwK1czS9AAAAQEGbLkmoQWyZTAhX//44QABndVcsHFFAn4yn1/IDEzZN\n",
       "15CUTu4iLiGa+PpTZPPnXFrc8XJzoqCehP9Hdora2bkAAAAUQZ9MRRUsI/8ACGv4iPFbvx0/9s8A\n",
       "AAATAZ9rdEf/AA1+CMZutlBVmtjYEQAAABIBn21qR/8ADTPtMLpFplqJTcAAAAAZQZtxSahBbJlM\n",
       "CP/8hAAF9etXWuM39q7FTQAAABRBn49FFSwj/wAIDmY2mEkPgrBHXQAAABEBn7BqR/8ADS4v0NVF\n",
       "qaNNwAAAEJ5tb292AAAAbG12aGQAAAAAAAAAAAAAAAAAAAPoAAAXcAABAAABAAAAAAAAAAAAAAAA\n",
       "AQAAAAAAAAAAAAAAAAAAAAEAAAAAAAAAAAAAAAAAAEAAAAAAAAAAAAAAAAAAAAAAAAAAAAAAAAAA\n",
       "AAAAAAACAAAPyHRyYWsAAABcdGtoZAAAAAMAAAAAAAAAAAAAAAEAAAAAAAAXcAAAAAAAAAAAAAAA\n",
       "AAAAAAAAAQAAAAAAAAAAAAAAAAAAAAEAAAAAAAAAAAAAAAAAAEAAAAABsAAAASAAAAAAACRlZHRz\n",
       "AAAAHGVsc3QAAAAAAAAAAQAAF3AAAAIAAAEAAAAAD0BtZGlhAAAAIG1kaGQAAAAAAAAAAAAAAAAA\n",
       "ADIAAAEsAFXEAAAAAAAtaGRscgAAAAAAAAAAdmlkZQAAAAAAAAAAAAAAAFZpZGVvSGFuZGxlcgAA\n",
       "AA7rbWluZgAAABR2bWhkAAAAAQAAAAAAAAAAAAAAJGRpbmYAAAAcZHJlZgAAAAAAAAABAAAADHVy\n",
       "bCAAAAABAAAOq3N0YmwAAAC3c3RzZAAAAAAAAAABAAAAp2F2YzEAAAAAAAAAAQAAAAAAAAAAAAAA\n",
       "AAAAAAABsAEgAEgAAABIAAAAAAAAAAEAAAAAAAAAAAAAAAAAAAAAAAAAAAAAAAAAAAAAAAAAAAAY\n",
       "//8AAAA1YXZjQwFkAB7/4QAYZ2QAHqzZQbCWhAAAAwAEAAADAZA8WLZYAQAGaOvjyyLA/fj4AAAA\n",
       "ABx1dWlka2hA8l8kT8W6OaUbzwMj8wAAAAAAAAAYc3R0cwAAAAAAAAABAAABLAAAAQAAAAAYc3Rz\n",
       "cwAAAAAAAAACAAAAAQAAAPsAAAjIY3R0cwAAAAAAAAEXAAAAAQAAAgAAAAABAAAFAAAAAAEAAAIA\n",
       "AAAAAQAAAAAAAAABAAABAAAAAAEAAAUAAAAAAQAAAgAAAAABAAAAAAAAAAEAAAEAAAAAAQAABQAA\n",
       "AAABAAACAAAAAAEAAAAAAAAAAQAAAQAAAAABAAAFAAAAAAEAAAIAAAAAAQAAAAAAAAABAAABAAAA\n",
       "AAEAAAUAAAAAAQAAAgAAAAABAAAAAAAAAAEAAAEAAAAAAQAABQAAAAABAAACAAAAAAEAAAAAAAAA\n",
       "AQAAAQAAAAABAAAFAAAAAAEAAAIAAAAAAQAAAAAAAAABAAABAAAAAAEAAAUAAAAAAQAAAgAAAAAB\n",
       "AAAAAAAAAAEAAAEAAAAAAQAABAAAAAACAAABAAAAAAEAAAUAAAAAAQAAAgAAAAABAAAAAAAAAAEA\n",
       "AAEAAAAAAQAAAwAAAAABAAABAAAAAAEAAAUAAAAAAQAAAgAAAAABAAAAAAAAAAEAAAEAAAAAAQAA\n",
       "AwAAAAABAAABAAAAAAEAAAUAAAAAAQAAAgAAAAABAAAAAAAAAAEAAAEAAAAAAQAAAwAAAAABAAAB\n",
       "AAAAAAEAAAUAAAAAAQAAAgAAAAABAAAAAAAAAAEAAAEAAAAAAQAABAAAAAACAAABAAAAAAEAAAQA\n",
       "AAAAAgAAAQAAAAABAAAEAAAAAAIAAAEAAAAAAQAABQAAAAABAAACAAAAAAEAAAAAAAAAAQAAAQAA\n",
       "AAABAAAFAAAAAAEAAAIAAAAAAQAAAAAAAAABAAABAAAAAAEAAAUAAAAAAQAAAgAAAAABAAAAAAAA\n",
       "AAEAAAEAAAAAAQAABQAAAAABAAACAAAAAAEAAAAAAAAAAQAAAQAAAAABAAAFAAAAAAEAAAIAAAAA\n",
       "AQAAAAAAAAABAAABAAAAAAEAAAUAAAAAAQAAAgAAAAABAAAAAAAAAAEAAAEAAAAAAQAABQAAAAAB\n",
       "AAACAAAAAAEAAAAAAAAAAQAAAQAAAAABAAAFAAAAAAEAAAIAAAAAAQAAAAAAAAABAAABAAAAAAEA\n",
       "AAUAAAAAAQAAAgAAAAABAAAAAAAAAAEAAAEAAAAAAQAABQAAAAABAAACAAAAAAEAAAAAAAAAAQAA\n",
       "AQAAAAABAAAFAAAAAAEAAAIAAAAAAQAAAAAAAAABAAABAAAAAAEAAAUAAAAAAQAAAgAAAAABAAAA\n",
       "AAAAAAEAAAEAAAAAAQAABQAAAAABAAACAAAAAAEAAAAAAAAAAQAAAQAAAAABAAAFAAAAAAEAAAIA\n",
       "AAAAAQAAAAAAAAABAAABAAAAAAEAAAUAAAAAAQAAAgAAAAABAAAAAAAAAAEAAAEAAAAAAQAABQAA\n",
       "AAABAAACAAAAAAEAAAAAAAAAAQAAAQAAAAABAAAFAAAAAAEAAAIAAAAAAQAAAAAAAAABAAABAAAA\n",
       "AAEAAAIAAAAAAQAABQAAAAABAAACAAAAAAEAAAAAAAAAAQAAAQAAAAABAAAEAAAAAAIAAAEAAAAA\n",
       "AQAAAgAAAAABAAADAAAAAAEAAAEAAAAAAQAAAwAAAAABAAABAAAAAAEAAAMAAAAAAQAAAQAAAAAB\n",
       "AAAEAAAAAAIAAAEAAAAAAQAABQAAAAABAAACAAAAAAEAAAAAAAAAAQAAAQAAAAABAAAEAAAAAAIA\n",
       "AAEAAAAAAQAABAAAAAACAAABAAAAAAEAAAUAAAAAAQAAAgAAAAABAAAAAAAAAAEAAAEAAAAAAQAA\n",
       "BAAAAAACAAABAAAAAAEAAAMAAAAAAQAAAQAAAAABAAAEAAAAAAIAAAEAAAAAAQAABQAAAAABAAAC\n",
       "AAAAAAEAAAAAAAAAAQAAAQAAAAABAAAFAAAAAAEAAAIAAAAAAQAAAAAAAAABAAABAAAAAAEAAAUA\n",
       "AAAAAQAAAgAAAAABAAAAAAAAAAEAAAEAAAAAAQAABQAAAAABAAACAAAAAAEAAAAAAAAAAQAAAQAA\n",
       "AAABAAAFAAAAAAEAAAIAAAAAAQAAAAAAAAABAAABAAAAAAEAAAUAAAAAAQAAAgAAAAABAAAAAAAA\n",
       "AAEAAAEAAAAAAQAABQAAAAABAAACAAAAAAEAAAAAAAAAAQAAAQAAAAABAAAEAAAAAAIAAAEAAAAA\n",
       "AQAAAwAAAAABAAABAAAAAAEAAAIAAAAAAQAAAwAAAAABAAABAAAAAAEAAAQAAAAAAgAAAQAAAAAB\n",
       "AAAEAAAAAAIAAAEAAAAAAQAABAAAAAACAAABAAAAAAEAAAMAAAAAAQAAAQAAAAABAAAEAAAAAAIA\n",
       "AAEAAAAAAQAABQAAAAABAAACAAAAAAEAAAAAAAAAAQAAAQAAAAABAAAFAAAAAAEAAAIAAAAAAQAA\n",
       "AAAAAAABAAABAAAAAAEAAAMAAAAAAQAAAQAAAAABAAAEAAAAAAIAAAEAAAAAAQAAAwAAAAABAAAB\n",
       "AAAAAAEAAAUAAAAAAQAAAgAAAAABAAAAAAAAAAEAAAEAAAAAAQAABQAAAAABAAACAAAAAAEAAAAA\n",
       "AAAAAQAAAQAAAAABAAADAAAAAAEAAAEAAAAAAQAAAgAAAAABAAAFAAAAAAEAAAIAAAAAAQAAAAAA\n",
       "AAABAAABAAAAAAEAAAUAAAAAAQAAAgAAAAABAAAAAAAAAAEAAAEAAAAAAQAABQAAAAABAAACAAAA\n",
       "AAEAAAAAAAAAAQAAAQAAAAABAAAFAAAAAAEAAAIAAAAAAQAAAAAAAAABAAABAAAAAAEAAAQAAAAA\n",
       "AgAAAQAAAAABAAADAAAAAAEAAAEAAAAAAQAAAwAAAAABAAABAAAAAAEAAAIAAAAAAQAAAwAAAAAB\n",
       "AAABAAAAAAQAAAIAAAAAAQAABQAAAAABAAACAAAAAAEAAAAAAAAAAQAAAQAAAAABAAAFAAAAAAEA\n",
       "AAIAAAAAAQAAAAAAAAABAAABAAAAAAEAAAUAAAAAAQAAAgAAAAABAAAAAAAAAAEAAAEAAAAAAQAA\n",
       "BQAAAAABAAACAAAAAAEAAAAAAAAAAQAAAQAAAAABAAAEAAAAAAIAAAEAAAAAHHN0c2MAAAAAAAAA\n",
       "AQAAAAEAAAEsAAAAAQAABMRzdHN6AAAAAAAAAAAAAAEsAAAM4gAAAL0AAAA6AAAAMQAAAB8AAABH\n",
       "AAAAJgAAACAAAAAcAAAAIwAAACEAAAAbAAAAHAAAAB0AAAAbAAAAGAAAABYAAAAjAAAAIAAAABoA\n",
       "AAAaAAAAKQAAAB8AAAAcAAAAHAAAACcAAAAiAAAAHAAAAB0AAAAkAAAAHwAAABwAAAAcAAAAMQAA\n",
       "ACQAAAAdAAAAKAAAACAAAAAcAAAAHAAAACsAAAAfAAAAKgAAACQAAAAcAAAAHwAAADoAAAAiAAAA\n",
       "IAAAACAAAAAcAAAAHAAAAEwAAAAgAAAAUgAAAD8AAAAtAAAAJgAAAFYAAAAeAAAAGQAAAGEAAAAu\n",
       "AAAAHQAAAE4AAAAxAAAAJwAAAEQAAAAYAAAAFQAAABMAAAAXAAAAFQAAABIAAAATAAAAFwAAABUA\n",
       "AAASAAAAEwAAABcAAAAVAAAAEgAAABMAAAAXAAAAFQAAABIAAAATAAAAFwAAABUAAAASAAAAEwAA\n",
       "ABcAAAAVAAAAEgAAABMAAAAXAAAAFQAAABIAAAATAAAAFwAAABUAAAASAAAAEwAAABcAAAAVAAAA\n",
       "EgAAABMAAAAXAAAAFQAAABIAAAATAAAAFwAAABUAAAASAAAAEwAAABcAAAAVAAAAEgAAABMAAAAX\n",
       "AAAAFQAAABIAAAATAAAAFwAAABUAAAASAAAAEwAAABcAAAAVAAAAEgAAABMAAABnAAAAKgAAABIA\n",
       "AAAjAAAATAAAAHQAAAAuAAAAHQAAABgAAABLAAAAIAAAAB4AAABPAAAAOQAAACsAAAAuAAAAGAAA\n",
       "ACgAAAAXAAAALQAAAB8AAAAZAAAAQQAAACAAAAAYAAAAGAAAADAAAAAeAAAAFwAAAC8AAAAbAAAA\n",
       "FwAAADcAAAAeAAAAFgAAABcAAAAxAAAAIAAAABgAAAAwAAAAGwAAADwAAAAaAAAAFQAAADcAAAAc\n",
       "AAAAFwAAABUAAAA2AAAAHQAAABcAAAAVAAAANwAAAB8AAAAXAAAAFwAAADsAAAAdAAAAFwAAABUA\n",
       "AAAzAAAAHQAAABcAAAAVAAAALwAAAB0AAAAXAAAAFQAAAEcAAAAcAAAAFwAAABUAAAA9AAAAHQAA\n",
       "ABUAAAA1AAAAGwAAADUAAAA2AAAAFQAAACcAAAAaAAAAFQAAAC8AAAAaAAAAFgAAACwAAAAZAAAA\n",
       "FwAAACEAAAAVAAAAKwAAABkAAAAXAAAALgAAABoAAAAVAAAAFwAAACcAAAAcAAAAGgAAABYAAABC\n",
       "AAAAIAAAADsAAAAVAAAAIgAAACgAAAATAAAAKwAAABQAAAAUAAAADwAAABcAAAARAAAADwAAAA8A\n",
       "AAAZAAAADwAACqkAAACWAAAAKQAAAB0AAAAcAAAAXQAAACoAAAAfAAAAHQAAAFwAAAAjAAAAHAAA\n",
       "AB0AAABdAAAAIAAAAB0AAAAYAAAANgAAAB0AAAAZAAAARAAAAB0AAAAyAAAAGAAAACoAAAArAAAA\n",
       "EwAAACoAAAAqAAAAKAAAADIAAAA6AAAAGgAAABcAAAAWAAAAJAAAABgAAAAWAAAAFQAAAC0AAAAX\n",
       "AAAAFwAAABYAAABEAAAAGAAAABcAAAAWAAAAHQAAABgAAAAVAAAAFHN0Y28AAAAAAAAAAQAAADAA\n",
       "AABidWR0YQAAAFptZXRhAAAAAAAAACFoZGxyAAAAAAAAAABtZGlyYXBwbAAAAAAAAAAAAAAAAC1p\n",
       "bHN0AAAAJal0b28AAAAdZGF0YQAAAAEAAAAATGF2ZjU4LjQ1LjEwMA==\n",
       "\">\n",
       "  Your browser does not support the video tag.\n",
       "</video>"
      ],
      "text/plain": [
       "<IPython.core.display.HTML object>"
      ]
     },
     "metadata": {},
     "output_type": "display_data"
    }
   ],
   "source": [
    "from IPython import display\n",
    "video=anim.to_html5_video()\n",
    "html=display.HTML(video)\n",
    "display.display(html)\n",
    "plt.close()"
   ]
  },
  {
   "cell_type": "markdown",
   "metadata": {},
   "source": [
    "# Simulated vs reference behaviour for reference function A sin(wt)"
   ]
  },
  {
   "cell_type": "code",
   "execution_count": 43,
   "metadata": {},
   "outputs": [
    {
     "data": {
      "image/png": "[encoded data removed]",
      "text/plain": [
       "<Figure size 576x504 with 1 Axes>"
      ]
     },
     "metadata": {
      "needs_background": "light"
     },
     "output_type": "display_data"
    }
   ],
   "source": [
    "p,v=call_state()\n",
    "x=np.arange(0,1000,0.3)\n",
    "y=x_ref(x)\n",
    "plt.figure(figsize=(8,7))\n",
    "plt.plot(x,p,label=\"simulated behaviour of spring\")\n",
    "plt.plot(x,y,label=\"reference behaviour for spring\")\n",
    "plt.xlabel(\"time\")\n",
    "plt.ylabel(\"amplitude\")\n",
    "plt.legend()\n",
    "plt.show()"
   ]
  },
  {
   "cell_type": "markdown",
   "metadata": {},
   "source": [
    "# Q 7 response"
   ]
  },
  {
   "cell_type": "code",
   "execution_count": 20,
   "metadata": {},
   "outputs": [
    {
     "data": {
      "image/png": "[encoded data removed]",
      "text/plain": [
       "<Figure size 432x288 with 1 Axes>"
      ]
     },
     "metadata": {
      "needs_background": "light"
     },
     "output_type": "display_data"
    }
   ],
   "source": [
    "import matplotlib.pyplot as plt\n",
    "x=np.linspace(0,30,1000)\n",
    "y=1-3*np.exp(-1*x)+2*np.exp(-1.5*x)\n",
    "plt.xlabel(\"time\")\n",
    "plt.ylabel(\"Amplitude\")\n",
    "plt.title(\"step response\")\n",
    "plt.plot(x,y)\n",
    "plt.plot([0, 30.0] , [1, 1])\n",
    "plt.show()"
   ]
  },
  {
   "cell_type": "markdown",
   "metadata": {},
   "source": [
    "# Q 8 response"
   ]
  },
  {
   "cell_type": "code",
   "execution_count": 39,
   "metadata": {},
   "outputs": [
    {
     "data": {
      "image/png": "[encoded data removed]",
      "text/plain": [
       "<Figure size 432x288 with 1 Axes>"
      ]
     },
     "metadata": {
      "needs_background": "light"
     },
     "output_type": "display_data"
    }
   ],
   "source": [
    "import matplotlib.pyplot as plt\n",
    "x=np.linspace(0,30,1000)\n",
    "y=1+np.exp(-1.1*x*0.707)*np.sin(1.1*x*0.707)\n",
    "plt.xlabel(\"time\")\n",
    "plt.ylabel(\"Amplitude\")\n",
    "plt.title(\"step response\")\n",
    "plt.plot(x,y)\n",
    "plt.plot([0, 30.0] , [1, 1])\n",
    "plt.show()"
   ]
  },
  {
   "cell_type": "code",
   "execution_count": null,
   "metadata": {},
   "outputs": [],
   "source": []
  }
 ],
 "metadata": {
  "kernelspec": {
   "display_name": "Python 3",
   "language": "python",
   "name": "python3"
  },
  "language_info": {
   "codemirror_mode": {
    "name": "ipython",
    "version": 3
   },
   "file_extension": ".py",
   "mimetype": "text/x-python",
   "name": "python",
   "nbconvert_exporter": "python",
   "pygments_lexer": "ipython3",
   "version": "3.7.6"
  }
 },
 "nbformat": 4,
 "nbformat_minor": 4
}
