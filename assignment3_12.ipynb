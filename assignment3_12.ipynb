{
 "cells": [
  {
   "cell_type": "markdown",
   "metadata": {},
   "source": [
    "# Control Systems : Assignment 3"
   ]
  },
  {
   "cell_type": "markdown",
   "metadata": {},
   "source": [
    "# Import numpy as np"
   ]
  },
  {
   "cell_type": "code",
   "execution_count": 71,
   "metadata": {},
   "outputs": [],
   "source": [
    "import numpy as np\n",
    "from numpy.linalg import inv\n",
    "import matplotlib.pyplot as plt\n",
    "import numpy.linalg as ln"
   ]
  },
  {
   "cell_type": "markdown",
   "metadata": {},
   "source": [
    "# The external force function , can be modellled as per your requirement"
   ]
  },
  {
   "cell_type": "code",
   "execution_count": 72,
   "metadata": {},
   "outputs": [],
   "source": [
    "def f1(t):\n",
    "    return(1)"
   ]
  },
  {
   "cell_type": "markdown",
   "metadata": {},
   "source": [
    "# PID control implemented below"
   ]
  },
  {
   "cell_type": "code",
   "execution_count": 73,
   "metadata": {},
   "outputs": [],
   "source": [
    "m = 4.333\n",
    "k = 2.551\n",
    "b =0.442\n",
    "h=0.1\n",
    "sigma=0.05 # dirty derivative gain\n",
    "beta=(2*sigma-h)/(2*sigma+h)\n",
    "A=np.array([[0,1,0],[0.58,-0.102,0],[-1,0,0]])\n",
    "B=np.array([[0],[1/m],[0]])"
   ]
  },
  {
   "cell_type": "code",
   "execution_count": 74,
   "metadata": {},
   "outputs": [
    {
     "data": {
      "text/plain": [
       "array([[[ 0.        ],\n",
       "        [ 0.23078698],\n",
       "        [ 0.        ]],\n",
       "\n",
       "       [[ 0.23078698],\n",
       "        [-0.02354027],\n",
       "        [ 0.        ]],\n",
       "\n",
       "       [[-0.02354027],\n",
       "        [ 0.13625756],\n",
       "        [-0.23078698]]])"
      ]
     },
     "execution_count": 74,
     "metadata": {},
     "output_type": "execute_result"
    }
   ],
   "source": [
    "np.array([B,A@B,A@A@B])"
   ]
  },
  {
   "cell_type": "code",
   "execution_count": 75,
   "metadata": {},
   "outputs": [],
   "source": [
    "C_AB=np.array([[0.0,0.23,-0.023],[0.23,-0.023,0.13],[0.0,0.0,-0.23]]) # copied from above\n",
    "aA=np.array([0.253,-0.047,-0.012])\n",
    "AA=np.array([[1,0.0253,-0.047],[0,1,0.0253],[0,0,1]])"
   ]
  },
  {
   "cell_type": "code",
   "execution_count": 76,
   "metadata": {},
   "outputs": [
    {
     "name": "stdout",
     "output_type": "stream",
     "text": [
      "controllable\n"
     ]
    }
   ],
   "source": [
    "if ln.det(C_AB)!=0:\n",
    "    print(\"controllable\")\n",
    "else:\n",
    "    print(\"non controllable\")"
   ]
  },
  {
   "cell_type": "code",
   "execution_count": 77,
   "metadata": {},
   "outputs": [],
   "source": [
    "alpha=np.array([1.44,0.439,-0.059])#to be found from polynomial for desired roots."
   ]
  },
  {
   "cell_type": "code",
   "execution_count": 78,
   "metadata": {},
   "outputs": [],
   "source": [
    "K=(alpha-aA)@ln.inv(AA)@ln.inv(C_AB)\n",
    "KI=K[2]\n",
    "K=K[:2]"
   ]
  },
  {
   "cell_type": "code",
   "execution_count": 79,
   "metadata": {},
   "outputs": [
    {
     "data": {
      "text/plain": [
       "(array([2.49856043, 5.16086957]), 2.6791007245576552)"
      ]
     },
     "execution_count": 79,
     "metadata": {},
     "output_type": "execute_result"
    }
   ],
   "source": [
    "K,KI"
   ]
  },
  {
   "cell_type": "code",
   "execution_count": 117,
   "metadata": {},
   "outputs": [],
   "source": [
    "global ie,e_dot\n",
    "ie=0.0\n",
    "e_dot=0\n",
    "import random as rn\n",
    "def F(y,t):\n",
    "    global ie\n",
    "    global e_dot\n",
    "    ie_new =0\n",
    "    KI=4.2\n",
    "    m =5.3331*(rn.random()*(0.4)+0.8)\n",
    "    k =2.5511*(rn.random()*(0.4)+0.8)\n",
    "    b =0.4421*(rn.random()*(0.4)+0.8)\n",
    "    K=np.array([2.49856043, 5.16086957]) # just an copy of K \n",
    "    pos=y[1]\n",
    "    vel=y[0]\n",
    "    # force limit\n",
    "    force_limit=6 \n",
    "    #feedback linearized force\n",
    "    force_fb=f1(t)\n",
    "    # equlibrium force around pos=0\n",
    "    x_equi=0\n",
    "    error=(x_ref(t)-pos)\n",
    "    if t>0.1:\n",
    "        ie_new=ie+error*h*0.5\n",
    "    e_dot=(1-beta)*(ie_new-ie)/h+e_dot*beta\n",
    "    K=np.array(K)\n",
    "    force_e=-K@np.array([pos,vel])+KI*error\n",
    "    #total force \n",
    "    force=force_e+force_fb\n",
    "    #saturate force \n",
    "    if abs(force)>force_limit:\n",
    "        force=force_limit*np.sign(force)\n",
    "        # integrator anti-windup\n",
    "        ie=ie+(force_limit-force)/KI\n",
    "    return(np.array([force,0]))"
   ]
  },
  {
   "cell_type": "markdown",
   "metadata": {},
   "source": [
    "# Reference motion of mass"
   ]
  },
  {
   "cell_type": "code",
   "execution_count": 45,
   "metadata": {},
   "outputs": [],
   "source": [
    "def x_ref(t):\n",
    "    if (t%100<=49):\n",
    "        return(-1)\n",
    "    else:\n",
    "        return(1)"
   ]
  },
  {
   "cell_type": "markdown",
   "metadata": {},
   "source": [
    "# Solving for X''"
   ]
  },
  {
   "cell_type": "code",
   "execution_count": 47,
   "metadata": {},
   "outputs": [],
   "source": [
    "def f(y,t):\n",
    "    # physical constants of the system\n",
    "    m = 4.333\n",
    "    k = 2.551\n",
    "    b =0.442\n",
    "    A=np.array([[m,0],[0,1]])\n",
    "    B=np.array([[b,k],[-1,0]])\n",
    "    return(np.dot(inv(A),F(y,t)-np.dot(B,y)))"
   ]
  },
  {
   "cell_type": "markdown",
   "metadata": {},
   "source": [
    "# Function for rk4 implementation"
   ]
  },
  {
   "cell_type": "code",
   "execution_count": 48,
   "metadata": {},
   "outputs": [],
   "source": [
    "def rk4(y,t,dt):\n",
    "    k1=f(y,t)\n",
    "    k2=f(y*k1*0.5*dt,t+dt*0.5)\n",
    "    k3=f(y*k2*0.5*dt,t+dt*0.5)\n",
    "    k4=f(y+k3*dt,t+dt)\n",
    "    return(dt * (k1 + 2*k2 + 2*k3 + k4) /6)"
   ]
  },
  {
   "cell_type": "markdown",
   "metadata": {},
   "source": [
    "# Function to call state"
   ]
  },
  {
   "cell_type": "code",
   "execution_count": 49,
   "metadata": {},
   "outputs": [],
   "source": [
    "def call_state():   \n",
    "    # initializations matrices\n",
    "    v_data=[]\n",
    "    p_data=[]\n",
    "    y=np.array([0.1,0])\n",
    "    h=0.1  # dt used during simulation\n",
    "    time=np.arange(0,1000,h)\n",
    "    state=[]\n",
    "    for t in time:\n",
    "        y=y+rk4(y,t,h)\n",
    "        state.append(y)\n",
    "        v_data.append(y[0])\n",
    "        p_data.append(y[1])\n",
    "    return(p_data,v_data)"
   ]
  },
  {
   "cell_type": "markdown",
   "metadata": {},
   "source": [
    "#  Function for Animation"
   ]
  },
  {
   "cell_type": "code",
   "execution_count": 112,
   "metadata": {},
   "outputs": [
    {
     "data": {
      "image/png": "[encoded data removed]",
      "text/plain": [
       "<Figure size 432x288 with 1 Axes>"
      ]
     },
     "metadata": {
      "needs_background": "light"
     },
     "output_type": "display_data"
    }
   ],
   "source": [
    "# initialization of plot , line and point objects\n",
    "fig = plt.figure() \n",
    "ax = plt.axes(xlim=(-3, 3), ylim=(-1, 1)) \n",
    "point, = ax.plot(0, 0,marker=\"o\",color=\"green\",markersize=15) \n",
    "line, = ax.plot([],[],lw=2)\n",
    "wall, = ax.plot([],[],lw=2)\n",
    "def init():\n",
    "    line.set_data([], []) \n",
    "    point.set_data([],[])\n",
    "    wall.set_data([], []) \n",
    "    return point, line,wall\n",
    "# update the animation with each frame\n",
    "def animate(frame):\n",
    "    p,v=call_state()\n",
    "    point.set_data([p[frame]],[0])\n",
    "    line.set_data(np.linspace(-3,p[frame],100),np.zeros(100))\n",
    "    wall.set_data(-3*np.ones(100),np.linspace(-0.5,0.5,100))\n",
    "    return point,line,wall"
   ]
  },
  {
   "cell_type": "code",
   "execution_count": 113,
   "metadata": {},
   "outputs": [],
   "source": [
    "from matplotlib.animation import FuncAnimation\n",
    "anim = FuncAnimation(fig, animate,init_func=init,frames=300, interval=20, blit=False)"
   ]
  },
  {
   "cell_type": "code",
   "execution_count": 114,
   "metadata": {},
   "outputs": [
    {
     "data": {
      "text/html": [
       "<video width=\"432\" height=\"288\" controls autoplay loop>\n",
       "  <source type=\"video/mp4\" src=\"data:video/mp4;base64,AAAAIGZ0eXBNNFYgAAACAE00ViBpc29taXNvMmF2YzEAAAAIZnJlZQAAN5ttZGF0AAACoAYF//+c\n",
       "3EXpvebZSLeWLNgg2SPu73gyNjQgLSBjb3JlIDE2MSAtIEguMjY0L01QRUctNCBBVkMgY29kZWMg\n",
       "LSBDb3B5bGVmdCAyMDAzLTIwMjAgLSBodHRwOi8vd3d3LnZpZGVvbGFuLm9yZy94MjY0Lmh0bWwg\n",
       "LSBvcHRpb25zOiBjYWJhYz0xIHJlZj0zIGRlYmxvY2s9MTowOjAgYW5hbHlzZT0weDM6MHgxMTMg\n",
       "bWU9aGV4IHN1Ym1lPTcgcHN5PTEgcHN5X3JkPTEuMDA6MC4wMCBtaXhlZF9yZWY9MSBtZV9yYW5n\n",
       "ZT0xNiBjaHJvbWFfbWU9MSB0cmVsbGlzPTEgOHg4ZGN0PTEgY3FtPTAgZGVhZHpvbmU9MjEsMTEg\n",
       "ZmFzdF9wc2tpcD0xIGNocm9tYV9xcF9vZmZzZXQ9LTIgdGhyZWFkcz05IGxvb2thaGVhZF90aHJl\n",
       "YWRzPTEgc2xpY2VkX3RocmVhZHM9MCBucj0wIGRlY2ltYXRlPTEgaW50ZXJsYWNlZD0wIGJsdXJh\n",
       "eV9jb21wYXQ9MCBjb25zdHJhaW5lZF9pbnRyYT0wIGJmcmFtZXM9MyBiX3B5cmFtaWQ9MiBiX2Fk\n",
       "YXB0PTEgYl9iaWFzPTAgZGlyZWN0PTEgd2VpZ2h0Yj0xIG9wZW5fZ29wPTAgd2VpZ2h0cD0yIGtl\n",
       "eWludD0yNTAga2V5aW50X21pbj0yNSBzY2VuZWN1dD00MCBpbnRyYV9yZWZyZXNoPTAgcmNfbG9v\n",
       "a2FoZWFkPTQwIHJjPWNyZiBtYnRyZWU9MSBjcmY9MjMuMCBxY29tcD0wLjYwIHFwbWluPTAgcXBt\n",
       "YXg9NjkgcXBzdGVwPTQgaXBfcmF0aW89MS40MCBhcT0xOjEuMDAAgAAACg5liIQAM//+9uy+BTX9\n",
       "n9CXESzF2kpwPiqkgIB3NMAAAAMAAHkV/BJk/UBjgE9PENePgpDNT839j310YcizNuh0in0i0Mbz\n",
       "OTWhWX3NbJXvepQaiKoE54k3yY4YcDEKCAl9h3WTnm7rHGJuxgAAAwBBFq/99Y7yky4nln9bI6J2\n",
       "7BUpiqQ2LxuhsN2X6YxsPuScW5fm3UmuM7HYV8wVT1y9BPE1GywiEtO1kq/m+ft+daVt/yEjyoqu\n",
       "C7ZlmK8HwuH6l5cUmwvGr1v/7J5SCTlrPMGlu5voch9GmiNQx34Yd7MT0ilroSZz/HX9OWW0ON6R\n",
       "bFJ5dVHfsFqthuMYiIW/lWW5iFRqJyjbA7YAAIihs5hOdUhTOXOd/kQ1cWK5geYr0fO5RUAE3kg6\n",
       "QyI1nzU7GR0int7VlWmSyYhcbC3sHiK77EDVuFkhjeaHj+Sz2p3IWmI0AU7fJmUvbnVQHH3IQfOo\n",
       "czQ3gPWRfLH3k8b7INeiSWYPh9M1NnlbfDiqgSwOX80UBXXpgSLI2pzKdbZx+QCRN0DHL3oJvfvf\n",
       "c2939Vb/SDH06IMaCAAk4wI13Iq9gJU+XjmoPUJbr1/ER95sahBwhB7Bdd2902VNaVwSzEx5fkBT\n",
       "L+IV/ide1XGxu4sR/qCoEfYfbvnQnAAPcNZ0D5dcV36NGDyilfKVGQhgeS+3a7CLIqZ++dKl+pey\n",
       "BBB38DBDHKHUyVbcPqIT2wTufaRLmM/ydFCAkXdvbvXciDUwlmqHRiaVm5mx/W45GKL1BkSohsTv\n",
       "GKw20831mRTDMvsI1Twh11pb43jLT6RIpnRNuros5iJGkQNTXRhnRX/zIOgkd3kJqin8LcnHyVwi\n",
       "sEJJ35iphH3HrZZEfICaOlyrrSoeO6Z0nQhCsNwIAhBPNreIaTgSEEAp48TJuDvV9eELW4Pm4dHC\n",
       "Qe1UgCQ6mMmzsP0wuJUMJLYN6d3h7NlLS4GkshPHWK9sKcJ3DuHMf4qDN9hMXCucblGAnxnIB2+N\n",
       "ox0h+YGvi00TX6m8tO7QKstYesvWHz3kgIGOBivdUWzIOG9dnfWPbiOLL/KwzUVP90+I+46VQQbJ\n",
       "Wz1H185W4RcLcBCh3Yf7cfDY3i65lOkGZj+w2eMyP19GxOJFdNlwkZIuI8Cs3WciCESB2pJ+psDP\n",
       "8uPrqu46dF1VSAVRrmb4xTR/tJjqGZBYEzX3Ize+yO17QhF14wguadyG7p2jyXqMqVZZCsFkiJy6\n",
       "YQ49uT5+TyvDTBJccf+f71gY7cn723sP6XXm+3pCGxu85ad4gn+s8te2dUvQQKqK44Wae426Oiof\n",
       "qpVjCaNSMwTpa8zOevrme7+HOMipN5KRONWtbc8T01ieR3JVyfnqKcB2BedvHCiE9Pn4hPftK9ob\n",
       "NIGRkajIFfEgmNkF5bJurG128TB1zlFqbcApPp9u2HoG2B8+lzZDI64rkwPeSulp1qxnjA/yQF82\n",
       "ANSPS5zQO6nKZ5hbr6D9HTXFaHBiPF3KVGMNVJJSOno4cpNFvff36DK+/fXDNSCatQtrXt9u9R/5\n",
       "H3jLrbFwIjonFrVLdVOOACfRFl57mosbIGuRRWAaZqq7ytIf/HSOah0tJBguy/6Iut1ladRsq/D4\n",
       "2Pi3ipLJ5ts0W2upnxLnjpSVPcj7KCwc9BZjexaU869Z5XZqkuLdRm3VaBFNoFJ7Pi2FTpouzS+n\n",
       "ECsbjuOzKFCnX5Kr7G7Z7pGcz0eI0nWTpluot1psRoviwC1TtLOGgp09hymRZXfqlYlHL/Yq7bLW\n",
       "RpSf7Kl+v6fOEN0D/F4+BqYJjOV5GomEi+mXDuyQYdHdxXJfwRqnG5GSuv78+upOEmtObhWJc34W\n",
       "KZxmWh4g48lUCv76/MmT0kvTcsHdOGRF/Dhg5zXigEm6KhJFVg83JgtV38e4hhM1eWVIFRfgnkV3\n",
       "rRsy6YXiq5qC7TScNzJVBFFNCC5YU/XPbztik6yBvVB9EcXjrBAdMDvGXE0Xs32FG6VlH6oXx73o\n",
       "EXsVV94U+Q0hJjF24ITC8FTvI3MH0brHe69So4THt6V4RRCt4vN/dFJvIm47ai0hYfwTdnMEJsBZ\n",
       "8sHeqR5od5+KHMHUnZJlgIZSmiYIqM/GuYHkWhuHfySGvWD0rd6B0cVGqbpsY5GR5g461TESiQE9\n",
       "mw/3iDnhNWaYgZrCcaaZ85HwICjcDrPHmi0UskVBO+n0QjoTd+IwEKcpk9xRBTLoJppRb7+8661M\n",
       "Z/LBinOPxuFgU9ioKR2cBSmewweS0woYiyN/66U97sTS8bUUOZer4l7v/p9km/m3C9MSNdqGEYi6\n",
       "c3escfOT82XakvAwsYCBHml6GvueOY9ooYFvmjwsTrfe3u/xf1wX5fe+cpn+g4Kh+Q/MFHaesDMO\n",
       "9oUwOek4NX4vCCDERbP0w4iz9B8whyBW6+feWaNdKffKXXJ4Ddz4rZy6BxLpC7XQw8a1KYsHgxQo\n",
       "uHe58bMlwOm1MGM9lADq+T9j9DHHiNK2sBIIiJCJJFanX5njcfjfw7WulpoAgvE0RN6D7uIIeSV0\n",
       "vvzMCk1HvIZ6688QFaX4qX+IV/4+OVJ7LLii1cDlkuW0oeOzQhMkht3KcRmBzfrlYygkO/TPGYkq\n",
       "b0nRxfnnFIoXewkAl3i6OYo9F161I0DqiElfgdUTgosk1pdLkpAKYuH9tHQWYAf/HBSNzmOiZW/2\n",
       "k5ZfJw8VRihrqFoYiKDEEzKmraPPCc61KGg+7TF8NPBACnimMSfwJFnkec9iBaDPU2CDAD2xp2HH\n",
       "8EiLoBi6yhciKZ5BRK+wlvp1xF0ZvjGd/6p/mV3Agn3FaR7OyID79AGSGqCHy+O6p+WRJO7EV7W8\n",
       "zgJaYERxmOhIF4K6xk4bUDuM4xOY7hJHp82cB/e4Y+BGUbWBftbd0o3m3HDc+5lZNhSLa2TFPv0m\n",
       "lQ7R4n+/BiG5q/C/TsyDYuWDrBM3QBYGgngaBudKo/yVxE0xhnuzNWDtzmye8XKuPuZ2bvm4IIKY\n",
       "VXkDhOzCDtjBrzAOgbzcIgQBDuripwyFme7u/K5uGY+UnW8ZlmxPPC5qaaWygcWhId/et8bpTWS6\n",
       "6WQg4SpTVQOzTNO6f9CJZhP6X07yqtwJMbj+SV1eB2xgalkV0K9yBwJcuc11g0GmcztSVweNKxgZ\n",
       "3tXmu3w/2+UqmkjJovBQjsuJ3pJliOFNPgB3z8KdpyaqceWFDotkeiH4KCyoc48ntdKP+C86t9cI\n",
       "/Tnu7NgqV/oozBB8z5dj4wone6//MHmclQD+PnA9xfYCv4NwWns9tJA6aA/926lqqqs3Z3nN9F95\n",
       "BDoQNfkewv47Ljqd72Ce5pH3XplZ0SQ1GPH/+Joo3SdCn/BeEgdxnPgk/apevOGI7cG+ltN1phRO\n",
       "ZNGB1yNWtCW9fOAH5uInvPRJY99A3cVOjGC/FbxSAgtIRFk1/WXDtgTG5E8Ava1hBqgU3UkAAADf\n",
       "QZokbEM//p4Qf+LEwaHIila6qGCtp+cmAAADALW4Fc0AmHOCp+OPpD6Iif+921TMBiOizsi30s7L\n",
       "/eyT2lFjc5W5Gkuj8rWdQfaKe1W1LsCLJxpZaQfBAvP5wmfyXVBJ7XMCXryF+3xeZBShUJeneG5J\n",
       "WwhMQdtD5pjucVmTkU+0Ew/cp9O/uQ/ddubOxEFEk5hV1fJT/U5CuPq3EyPZmlmw8qeFmHP7AgII\n",
       "0Uw5ZJJ8YA0jgYokbz2Hdj4xU9x7cug+Lu72XuosQv5zL0pt6+EMlMWxBSsJ8gZ4cPsCIAAAADJB\n",
       "nkJ4hH8FM94lob2/F2GIxQAANxpI/taMseDJKDgDVmXkZ1YVW/CCkGec7BjpvuAktQAAACkBnmF0\n",
       "R/8H4n6wpmZ07cQAAAMAkImtSqFkgVav3dgoC1SMYkgrYATRFwAAABQBnmNqR/8H6jS6YBbuDn6x\n",
       "EbcRwQAAAClBmmhJqEFomUwIX//+jLAAFcDAr1E6urm6fz12eQ57Hase012hV7IagQAAAB5BnoZF\n",
       "ESwj/wKOFAPbj3CiLrKcS1pDoAPQ29ioZmEAAAAWAZ6ldEf/A/MU1YQuqhsYFVkY58sNtwAAABYB\n",
       "nqdqR/8D9QAQmzNVJe5ItMPMhkwYAAAAMkGarEmoQWyZTAhf//6MsAAV06SzlXX4toDIzlywhK3f\n",
       "tE3/fLrzO6YAS35WjuHO+cnAAAAAG0GeykUVLCP/Ao4UA+fVJhR6QnFTh6QFmYxewQAAABQBnul0\n",
       "R/8D8xTVhC6pzxbImcGWggAAABcBnutqR/8D9QAQmzNgJe5Cs/aUXGbAgAAAACRBmvBJqEFsmUwI\n",
       "X//+jLAAFk9C3AsbNX7cqk65ORZyF/YM7oEAAAAZQZ8ORRUsI/8CjhQD59UmAJy0kZ6p2xaDIwAA\n",
       "ABYBny10R/8D8xTVhC6/zzQYoTjQ14HBAAAAFQGfL2pH/wP1ABCbM2AVv3z/2+WbgAAAACtBmzFJ\n",
       "qEFsmUwIZ//+nhABumJkmUo5T+ACsEjTC4npmhAmfmSFj0M03q5AAAAATEGbVUnhClJlMCGf/p4Q\n",
       "ABasoOBEP9+wD1iXVqLBwvpKf+NP9tRUgrgoVu+B9bYiPksjPL/GVu4m5d++JNy4uQj5VG2Y8Ned\n",
       "rgiqraUAAAAaQZ9zRTRMI/8CjdTh0hhTAHlgb2wqIiYyvfIAAAAVAZ+SdEf/A/MU1YQuwtOlECcG\n",
       "WJXcAAAAFgGflGpH/wP1ABCbM2AVuJu45IY2G/0AAAAnQZuZSahBaJlMCGf//p4QABau9o2VlJSs\n",
       "2BO1f6rIppOunub1+EYOAAAAG0Gft0URLCP/Ao4UA+fVJrDy9kr0c9lvJijxmQAAABcBn9Z0R/8D\n",
       "8xTVhC7Vt9mzj2nXoYZcXwAAABUBn9hqR/8D9QAQmzNrFb98/9vll4AAAAAgQZvdSahBbJlMCGf/\n",
       "/p4QABYa58a2QZwwlSFmqGGUoOEAAAAXQZ/7RRUsI/8CjhQD59UmsPL2Tp6p1l4AAAAVAZ4adEf/\n",
       "A/MU1YQu2OrJFfooTbv/AAAAFQGeHGpH/wP1ABCbM2sVuJu45IK2gQAAADxBmgFJqEFsmUwIZ//+\n",
       "nhAAF1339YLTrtpylQJjhGahpu7ixguia1oFLasxaPtlCNdkx+cQjAD/HYTy6VUAAAAYQZ4/RRUs\n",
       "I/8CjhQD59UnokqkzyVS1UQvAAAAFgGeXnRH/wPzFNWELviNm/+Z2uIneD0AAAAVAZ5Aakf/A/UA\n",
       "EJszeim/fP/b5ZOAAAAAKkGaRUmoQWyZTAhn//6eEAAWquL2fV7I+CRRkLu/fKOFEdJhfLflB+O8\n",
       "kQAAABdBnmNFFSwj/wKOFAPn1Seh5+JsUuULVgAAABQBnoJ0R/8D8xTVhC74ImGvTzVKywAAABQB\n",
       "noRqR/8D9QAQmzN6Oe5ItMO35wAAAD1BmolJqEFsmUwIZ//+nhAAF9eg4EQ/37APWJdWon1zJrdq\n",
       "tDndrI1qbHHL//Zi4Mw3DXswXk29ABB36acXAAAAGUGep0UVLCP/Ao4UA+fVKLnEypNKk0wLwOEA\n",
       "AAAVAZ7GdEf/A/MU1YQu+ATfuJvNUrKAAAAAFgGeyGpH/wP1ABCbM4uv1+5YjF2Ze/AAAAAsQZrN\n",
       "SahBbJlMCGf//p4QABfbWOK3FVcZ4anJF0tkihmF7akxHISKeuXrD8EAAAAZQZ7rRRUsI/8CjhQD\n",
       "59UooefibFLlHBiN6AAAABUBnwp0R/8D8xTVhC8YBN+4m81SrYAAAAAWAZ8Makf/A/UAEJsziim/\n",
       "fP/b6HTJYwAAACtBmxFJqEFsmUwIZ//+nhAAFzreOdQA3QcA9vFfdpHlF9U4JnioDuK+YOdFAAAA\n",
       "GEGfL0UVLCP/Ao4UA+fVKLevBeXET2FoQQAAABQBn050R/8D8xTVhC8UVdYkwXNKtgAAABUBn1Bq\n",
       "R/8D9QAQmzOLewH2wPD8sfAAAAA3QZtVSahBbJlMCGf//p4QABc61idQA1vcukf7/Huz+8tFQFYO\n",
       "7XDIEWvpQE5f8iQww8ANRfoB0QAAABdBn3NFFSwj/wKOFAPn1SijN+f7ScdY+AAAABQBn5J0R/8D\n",
       "8xTVhC8UVdYkwXNKtgAAABQBn5RqR/8D9QAQmzOKOe5ItMO30wAAAC9Bm5lJqEFsmUwIZ//+nhAA\n",
       "F/EY47ADkUEyYChqYYYvynACwqLjBHHGGgA87/bRjAAAABhBn7dFFSwj/wKOFAPn1SmjOIBEhUtV\n",
       "EH0AAAAWAZ/WdEf/A/MU1YQvNFXWHHtOvQitgQAAABQBn9hqR/8D9QAQmzOaOe5ItMO3ugAAACRB\n",
       "m91JqEFsmUwIZ//+nhAAF9YBVMotJ5cqIlOPThIpfWr/XPcAAAAXQZ/7RRUsI/8CjhQD59UppHBe\n",
       "A9U6xcAAAAATAZ4adEf/A/MU1YQvOJFjeNd7oQAAABMBnhxqR/8D9QAQmzOac8w8tvdBAAAALEGa\n",
       "AUmoQWyZTAhn//6eEAAX1gFP70/f+4TodphsXa1ZHneuzgJgGcT5TMQ1AAAAFUGeP0UVLCP/Ao4U\n",
       "A+fVKaiKua4sXAAAABQBnl50R/8D8xTVhC84ImGvTzVKpwAAAA8BnkBqR/8D9QAQmzFwrYAAAAAj\n",
       "QZpFSahBbJlMCGf//p4QABfWAU/vTUSBaizLHWFGZWFCPYEAAAAXQZ5jRRUsI/8CjhQD59UppHBe\n",
       "A9U6xcAAAAATAZ6CdEf/A/MU1YQvNLiYFVd7oQAAABMBnoRqR/8D9QAQmzOac8w8tvdBAAAAE0Ga\n",
       "iUmoQWyZTAhn//6eEAAAB00AAAARQZ6nRRUsI/8CjhQD59UHCtkAAAAOAZ7GdEf/A/MU1YQq4VsA\n",
       "AAAPAZ7Iakf/A/UAEJsxcK2AAAAAI0GazUmoQWyZTAhn//6eEAAYnXP1gtOuVCyOXi+wtEcf6WFJ\n",
       "AAAAEUGe60UVLCP/Ao4UA+fVBwrYAAAADgGfCnRH/wPzFNWEKuFbAAAADwGfDGpH/wP1ABCbMXCt\n",
       "gQAAAC1BmxFJqEFsmUwIZ//+nhAAF9ZAYTbMAcrSBgdcAscXyvTWZGraoU4kDjkeSI8AAAAWQZ8v\n",
       "RRUsI/8CjhQD59Upuc2LQnrFwQAAAA4Bn050R/8D8xTVhCrhWwAAABMBn1BqR/8D9QAQmzOac8w8\n",
       "tvdAAAAAJUGbVUmoQWyZTAhn//6eEAAX1gYv/M/V9ySec3f71gTqHCkcu5kAAAAXQZ9zRRUsI/8C\n",
       "jhQD59UppDhXY9U6xcAAAAATAZ+SdEf/A/MU1YQvOJFjeNd7oAAAABMBn5RqR/8D9QAQmzObsE2t\n",
       "ZiqZAAAAI0GbmUmoQWyZTAhn//6eEAAX1gYv/M1EgWosyx1hRnAugfSwAAAAF0Gft0UVLCP/Ao4U\n",
       "A+fVKaQ4V2PVOsXBAAAAEwGf1nRH/wPzFNWELziRY3jXe6EAAAATAZ/Yakf/A/UAEJszm7BNrWYq\n",
       "mAAAACNBm91JqEFsmUwIZ//+nhAAF9YGL/zNRIFqLMsdYUZwLoH0sQAAABdBn/tFFSwj/wKOFAPn\n",
       "1SmkOFdj1TrFwAAAABMBnhp0R/8D8xTVhC84kWN413uhAAAAEwGeHGpH/wP1ABCbM5pzzDy290EA\n",
       "AABCQZoBSahBbJlMCGf//p4QABfbVpiYp+4BohkFgpf95/6Q4XtpFTLVRrdxItyY9jiUQhexpUXK\n",
       "bOFQ5W6g20D6TF8YAAAAGUGeP0UVLCP/Ao4UA+fVKbe3BggTPFaxQfAAAAAUAZ5edEf/A/MU1YQv\n",
       "NFA1rsFzSqcAAAAUAZ5Aakf/A/UAEJszm7A5hXZq8rYAAAAbQZpFSahBbJlMCGf//p4QABc+7GuL\n",
       "vU5z2pXFAAAAF0GeY0UVLCP/Ao4UA+fVKKMd/y6hlC0IAAAAEwGegnRH/wPzFNWELxS4mBVXfSEA\n",
       "AAAUAZ6Eakf/A/UAEJszijcd6LTDt9MAAAAiQZqJSahBbJlMCGf//p4QABc7Bk3VXUKks0oRbf1K\n",
       "qAM6IQAAABdBnqdFFSwj/wKOFAPn1SikOFdj1TrHwQAAABMBnsZ0R/8D8xTVhC8YkWN4130gAAAA\n",
       "EwGeyGpH/wP1ABCbM4pzzDy2+kAAAAAiQZrNSahBbJlMCGf//p4QABc6xP88dlEgWosyx1hRalJv\n",
       "GQAAABdBnutFFSwj/wKOFAPn1Si4IWixzFHWPgAAABMBnwp0R/8D8xTVhC8UuJgVV30gAAAAFAGf\n",
       "DGpH/wP1ABCbM4o3Hei0w7fTAAAAKkGbEUmoQWyZTAhn//6eEAAXOwYv/hIATdL+7bfUaIjEZ01S\n",
       "4hOI/m904wAAABdBny9FFSwj/wKOFAPn1SikOFdj1TrHwQAAABMBn050R/8D8xTVhC8YkWN4130g\n",
       "AAAAEwGfUGpH/wP1ABCbM4uwTa1mKtgAAAAiQZtVSahBbJlMCGf//p4QABc7Bi/8zUSBaizLHWFF\n",
       "rqD6IQAAABdBn3NFFSwj/wKOFAPn1SikOFdj1TrHwAAAABMBn5J0R/8D8xTVhC8YkWN4130gAAAA\n",
       "EwGflGpH/wP1ABCbM4uwTa1mKtkAAAAiQZuZSahBbJlMCGf//p4QABc7Bi/8zUSBaizLHWFFrqD6\n",
       "IAAAABdBn7dFFSwj/wKOFAPn1SikOFdj1TrHwQAAABMBn9Z0R/8D8xTVhC8YkWN4130hAAAAEwGf\n",
       "2GpH/wP1ABCbM4uwTa1mKtgAAAAqQZvdSahBbJlMCGf//p4QABc7QGE2zAE8yJLdSalxiFm06YVJ\n",
       "dyWuhudBAAAAFkGf+0UVLCP/Ao4UA+fVKLnNi0J6x8AAAAAOAZ4adEf/A/MU1YQq4VsAAAATAZ4c\n",
       "akf/A/UAEJszinPMPLb6QQAAACdBmgFJqEFsmUwIZ//+nhAAF1+Gm4cUwrlV6bjMAGSg2+eDc6CW\n",
       "JnwAAAAWQZ4/RRUsI/8CjhQD59UoqIc3sl2ITgAAABQBnl50R/8D8xTVhC8YkT61ru+WUQAAAA8B\n",
       "nkBqR/8D9QAQmzFwrYAAAAAmQZpFSahBbJlMCGf//p4QABawWta4Ay0qGLmsFJWPw6mV2jVSvIEA\n",
       "AAAWQZ5jRRUsI/8CjhQD59Unuc2LQnrJwAAAAA4BnoJ0R/8D8xTVhCrhWwAAABMBnoRqR/8D9QAQ\n",
       "mzN6c8w8tvzBAAAAE0GaiUmoQWyZTAhn//6eEAAAB00AAAARQZ6nRRUsI/8CjhQD59UHCtkAAAAO\n",
       "AZ7GdEf/A/MU1YQq4VsAAAAPAZ7Iakf/A/UAEJsxcK2AAAAAE0GazUmoQWyZTAhn//6eEAAAB00A\n",
       "AAARQZ7rRRUsI/8CjhQD59UHCtgAAAAOAZ8KdEf/A/MU1YQq4VsAAAAPAZ8Makf/A/UAEJsxcK2B\n",
       "AAAAE0GbEUmoQWyZTAhn//6eEAAAB00AAAARQZ8vRRUsI/8CjhQD59UHCtkAAAAOAZ9OdEf/A/MU\n",
       "1YQq4VsAAAAPAZ9Qakf/A/UAEJsxcK2AAAAAE0GbVUmoQWyZTAhn//6eEAAAB00AAAARQZ9zRRUs\n",
       "I/8CjhQD59UHCtgAAAAOAZ+SdEf/A/MU1YQq4VsAAAAPAZ+Uakf/A/UAEJsxcK2BAAAAE0GbmUmo\n",
       "QWyZTAhn//6eEAAAB0wAAAARQZ+3RRUsI/8CjhQD59UHCtkAAAAOAZ/WdEf/A/MU1YQq4VsAAAAP\n",
       "AZ/Yakf/A/UAEJsxcK2AAAAANEGb3UmoQWyZTAhn//6eEAAXX+4TJro4njnE9U04DAJRzjwoYy/G\n",
       "ELs3XdGPezXKRPtcSZMAAAAVQZ/7RRUsI/8CjhQD59UnqIq5riycAAAAEwGeGnRH/wPzFNWELviR\n",
       "Y3jXfmEAAAAPAZ4cakf/A/UAEJsxcK2BAAAAMEGaAUmoQWyZTAhn//6eEAAXOzerh5C2aE9jSqRt\n",
       "W2AnyIpSTOrDdBchlL1X8FiZ8AAAABdBnj9FFSwj/wKOFAPn1Si5zOjalJBCcAAAAA4Bnl50R/8D\n",
       "8xTVhCrhWwAAABQBnkBqR/8D9QAQmzOLsDmFdmryygAAABtBmkVJqEFsmUwIZ//+nhAAC54dfsvq\n",
       "q3wsyoEAAAARQZ5jRRUsI/8CjhQD59UHCtgAAAAOAZ6CdEf/A/MU1YQq4VsAAAAPAZ6Eakf/A/UA\n",
       "EJsxcK2BAAAAJUGaiUmoQWyZTAhn//6eEAAXOzag+FoAbqpRFll1o1impPSJbjEAAAAWQZ6nRRUs\n",
       "I/8CjhQD59UoqIiI6Wt6bwAAABMBnsZ0R/8D8xTVhC8YkWN4130gAAAAEAGeyGpH/wP1ABCbM2w8\n",
       "RycAAAAhQZrNSahBbJlMCGf//p4QABdAWioPf+bCgEet4qdI6tp3AAAAFkGe60UVLCP/Ao4UA+fV\n",
       "KLnNi0J6x8AAAAAOAZ8KdEf/A/MU1YQq4VsAAAATAZ8Makf/A/UAEJszi7BNrWYq2QAAABNBmxFJ\n",
       "qEFsmUwIZ//+nhAAAAdNAAAAEUGfL0UVLCP/Ao4UA+fVBwrZAAAADgGfTnRH/wPzFNWEKuFbAAAA\n",
       "DwGfUGpH/wP1ABCbMXCtgAAAACVBm1VJqEFsmUwIZ//+nhAAFzs2oPhaALlUoiyy60axTUnpEtxh\n",
       "AAAAFUGfc0UVLCP/Ao4UA+fVKKiKua4sfAAAABMBn5J0R/8D8xTVhC8YkWN4130gAAAADwGflGpH\n",
       "/wP1ABCbMXCtgQAAABNBm5lJqEFsmUwIZ//+nhAAAAdMAAAAEUGft0UVLCP/Ao4UA+fVBwrZAAAA\n",
       "DgGf1nRH/wPzFNWEKuFbAAAADwGf2GpH/wP1ABCbMXCtgAAAADBBm91JqEFsmUwIZ//+nhAAFzs2\n",
       "oPXMAZ8Oi3kkfbm94Qf07UheWZGraoU4j+oguiEAAAAVQZ/7RRUsI/8CjhQD59UoqIq5rix8AAAA\n",
       "EwGeGnRH/wPzFNWELxS4mBVXfSEAAAAPAZ4cakf/A/UAEJsxcK2BAAAAF0GaAUmoQWyZTAhn//6e\n",
       "EAAWPmVtmWFtAAAAE0GeP0UVLCP/Ao4UA+fVJrcEWrAAAAAQAZ5edEf/A/MU1YQu1i1CywAAAA8B\n",
       "nkBqR/8D9QAQmzFwrYAAAAAuQZpFSahBbJlMCGf//p4QABc7NqD4WgCyg6E1FRfNtfK3gkR6+WmG\n",
       "Kku5LXx3OwAAABZBnmNFFSwj/wKOFAPn1Si5zYuKUhvpAAAADgGegnRH/wPzFNWEKuFbAAAAEwGe\n",
       "hGpH/wP1ABCbM4pzzDy2+kEAAAATQZqJSahBbJlMCGf//p4QAAAHTQAAABFBnqdFFSwj/wKOFAPn\n",
       "1QcK2QAAAA4BnsZ0R/8D8xTVhCrhWwAAAA8BnshqR/8D9QAQmzFwrYAAAAATQZrNSahBbJlMCGf/\n",
       "/p4QAAAHTQAAABFBnutFFSwj/wKOFAPn1QcK2AAAAA4Bnwp0R/8D8xTVhCrhWwAAAA8BnwxqR/8D\n",
       "9QAQmzFwrYEAAAATQZsRSahBbJlMCGf//p4QAAAHTQAAABFBny9FFSwj/wKOFAPn1QcK2QAAAA4B\n",
       "n050R/8D8xTVhCrhWwAAAA8Bn1BqR/8D9QAQmzFwrYAAAAATQZtVSahBbJlMCGf//p4QAAAHTQAA\n",
       "ABFBn3NFFSwj/wKOFAPn1QcK2AAAAA4Bn5J0R/8D8xTVhCrhWwAAAA8Bn5RqR/8D9QAQmzFwrYEA\n",
       "AAATQZuZSahBbJlMCGf//p4QAAAHTAAAABFBn7dFFSwj/wKOFAPn1QcK2QAAAA4Bn9Z0R/8D8xTV\n",
       "hCrhWwAAAA8Bn9hqR/8D9QAQmzFwrYAAAAATQZvdSahBbJlMCGf//p4QAAAHTQAAABFBn/tFFSwj\n",
       "/wKOFAPn1QcK2AAAAA4Bnhp0R/8D8xTVhCrhWwAAAA8BnhxqR/8D9QAQmzFwrYEAAAATQZoBSahB\n",
       "bJlMCGf//p4QAAAHTAAAABFBnj9FFSwj/wKOFAPn1QcK2AAAAA4Bnl50R/8D8xTVhCrhWwAAAA8B\n",
       "nkBqR/8D9QAQmzFwrYAAAAAuQZpFSahBbJlMCGf//p4QABc7QWuAMrDKrmocOm9QghpNMBHzn6ap\n",
       "cQnEf0sV0QAAABZBnmNFFSwj/wKOFAPn1Si5zYtCesfAAAAADgGegnRH/wPzFNWEKuFbAAAAEwGe\n",
       "hGpH/wP1ABCbM4pzzDy2+kEAAAATQZqJSahBbJlMCGf//p4QAAAHTQAAABFBnqdFFSwj/wKOFAPn\n",
       "1QcK2QAAAA4BnsZ0R/8D8xTVhCrhWwAAAA8BnshqR/8D9QAQmzFwrYAAAAATQZrNSahBbJlMCGf/\n",
       "/p4QAAAHTQAAABFBnutFFSwj/wKOFAPn1QcK2AAAAA4Bnwp0R/8D8xTVhCrhWwAAAA8BnwxqR/8D\n",
       "9QAQmzFwrYEAAAATQZsRSahBbJlMCGf//p4QAAAHTQAAABFBny9FFSwj/wKOFAPn1QcK2QAAAA4B\n",
       "n050R/8D8xTVhCrhWwAAAA8Bn1BqR/8D9QAQmzFwrYAAAAATQZtVSahBbJlMCGf//p4QAAAHTQAA\n",
       "ABFBn3NFFSwj/wKOFAPn1QcK2AAAAA4Bn5J0R/8D8xTVhCrhWwAAAA8Bn5RqR/8D9QAQmzFwrYEA\n",
       "AAATQZuZSahBbJlMCGf//p4QAAAHTAAAABFBn7dFFSwj/wKOFAPn1QcK2QAAAA4Bn9Z0R/8D8xTV\n",
       "hCrhWwAAAA8Bn9hqR/8D9QAQmzFwrYAAAAtDZYiCAA7//vdOvwKbRZdqA5JXCvbKpCZZuVJrAfKm\n",
       "AAADAAARzbfBdk1iBhgdh5Yn7AWlcfhh0mA6bDsNIr8F+8RDbfwmnIpUgBOqj+R9qbgXvJ335TnR\n",
       "sX8/2DXUVa7xtRIJQ09JCmQYqoCbYbh6Yrt4HWgAAAMAbS6hz3hZmZJB/lUp6zeB7n6++oJfV/bI\n",
       "tsfBJOZkC8JxUDf/l/8z1JlU9p7HuajSNe65MkOZnflZsFQRUXUDJ+o9l+4TAnBCpJBEWzY5ZQVz\n",
       "YsKha+mg0iU2VtJqbRE4uM1pgz438eCCYQgJrc34VfG6Nr86UkJhdT3Wv6L71fBBUE+K8X9cStyq\n",
       "mh+rmBVmcTr03nVC5Q9Z2AzatXVZd7clPzRw1oJExpD8AAO8Cgo+x4h9IVjN/nvLL3/ePJ6VoSdd\n",
       "CLjCsTpbsO3pNlaTw4wKGZv3x8Y/bJJ5iYQu0Tn1EVrhtqwCdzNUyBiGLkEPcNjZScFsaUARUz8o\n",
       "LsAZ6+NkuoSXHFbrpnnqso4rP71Jy2wEdNDuE8qEjVeDX6c981FAaaIMvzu/IGA7/3RLR0wAcWVF\n",
       "PO7G8RSNT5MQ40xDYn+dhp1QlHgWjHi5Uh814FVJBgASIBEiEnbD3iUkSX/EdLU49rZ31TLV8BXQ\n",
       "uD4n7YpgSxn9CX4K57FcqrGkZteHWQkRHgUHr+w76jWdLL5umKuwRzaRz+eAAB0nIf9/rsVhmXPy\n",
       "LjUU8F3gIPj3W4zHtcYN46Z2TVXYk5GKw8aeLoTu678gy84p7ln8Mo3syK3ZuFImcWT3MsjeQbRu\n",
       "QlaWN0z57GZJNly+tSwm8IbjYkOJfktS0BueHOFcie8tn1pEKMUhux57WhiU4M9Rneenlcb2AQHv\n",
       "ywjvEseNbtI+A7jkoduMsug6ciHM+qqVeURVkEExx65Mw/9j0uODbPmVDNAdGRR1Yts38dSvqzlh\n",
       "iLr0qzvoSdcTmRWNv2P9hY3ISABtXcad1cASCJa2nsndGLj+CNInACNRXUQGPyhDLnpLE8sxl9aw\n",
       "PN3oR53VWeY9qqYZo2dY6dhFWx94CE73Li1uklYU1SueAWnmqDUVdpi3zFvbUPb856HIXUJ1s1Rr\n",
       "hVq/2C6nCRSZftVTsBxvhpc7YMCgchlS0hco+ICkiszuEFtw1SgX9TjfdS9UmLuVYGh/2DO8EYL1\n",
       "Fmxo7Z42ThWuus+q2GCaIpsBQPLus7H1sCi3SnwaeBcs5fWfn+tELRqWor0+8VJsPCdIt4QcpEV/\n",
       "EP5L19CI5FE9rt64usQ7asfisnW73EGp/8vGnBhXZaW2c4wTZriYW1tF+gM63bhzFO1GQ2uUNmdB\n",
       "1d/1wEu7OlhTJk+OdJcl0wjGYb3qHeFuGfbMdRcBsv2NY5aEidq13ZUiI0M58DJ+4xen7fyt3s5c\n",
       "v6U5S1OGxe3HO5qI6HW1oAEDUOjJtdSsJbyLT/5/MN2kSRU8rvdgtXsct7t52Maw/lcIYG+jaw43\n",
       "93hYFrW4rmDHKAFOlB2FB6cUTNe5EvjX/Ebf+9sA6MLHAkS0s36no+HO67+ke+P4/n42cDk5QoqL\n",
       "HMfn1nhYew3YKBaAQjKqlAPvpkARyUjrAqAkmsTB3uYzb1YiUkJdAioZEgAXFdVxEyADRuFK5aq1\n",
       "vm3FOH7QyjOBkY7jXu0QuI5cg21WgV1BjjEjaCvscOz8pJ7ElgBBW4lF6hfpdY9xTaSOrd30jUHF\n",
       "9KerHZRVuUK2XKqo2ZRySdIzPXp61A8Oz8fdNBgTQ1+uoTF7a1sZOu9/kRfGyD+1vqIRl+i6ESRw\n",
       "b1Tl2TlvfR/+ItwZqYZPMY2reco4R2+R6WMp/IB20RR5Ma9I7v10l4ois6Q20cAIjW7fem70EuU8\n",
       "xI2dI51HMBT3uRfE6OmEzFpDKQ50GRzlRjzlICewZYdR8+HR4v4gDss4CUbaYvfpawjMjjKFJZ+0\n",
       "krNiiK3DjzNPXTCxoOLlyMT7WggzEpnX4iMPIICE7iX55D+6mSR7Y69axHAbU+t5Xqs0nDZe0rSd\n",
       "XM27eeTYsm6GY4+UHr9+YY36oEOvi5UhZHW+TL8Een4xASe2sy69/pyAIggvA5453r4hqEDXvvj5\n",
       "4082TpuLJdmAquiHyLdz3sr6mRJDrS/5Tdxk090T4/UO/ur6WOPT44yJ1oWtscLl5bkAX/jcQzGq\n",
       "pVeYLOKr+J2LHP6tPqgLi4HOahOm5+NREvSwGfaPLDWVuKNYSlsKVZuQSDEWPGT4wVcBsCkIT+Ne\n",
       "lNuLwFKhPQm8cuxqn+gkK6C0NEnBJ5jRdJxQmnQhDzkVVvtFmKwpIiknFA44hhWBY2qdQ8XEU1K/\n",
       "7MRXXTwFv2e4ZeT0MSyTuLvAo1djW2g6/8PBTtVqrBgpW84yeXdc5LJ4IWXUbIYsMQoXP2dhPVFT\n",
       "rtIS6mZU5mMwzYG7yuvlsdgGin7+v81qarOXiUTLv40o0mcvyCfx7NK2QyIom2pJP8Ix63KQmCK+\n",
       "dxaMazjKIjmSCua8FgILDzvbWehwEvxjlAVRKyVBOe+D3CetQ9GBJv9F4mSrFF75jtI9q/XBzyvg\n",
       "TeCX98MJukABVnPP8TK//eozLvc0a5Pojn/2Vvn8CvlD+E4cUxhrYOh1KjN+OmcPV6WrGamaaDIy\n",
       "R2K1JLZc1mEq1dk5POJ7eWhYCyFmXuh0c/r1a66bRQLACZSSCTG9yx6+xi8Fc61fXC5UWqmxIL+p\n",
       "uyuLdEET0vHY4+yXVPa9BmJU7IL47LwrsGTTceYSZLnXHYkrsmliSKO/4gxoIgNo1aL2MhUw3rhv\n",
       "XM96pB5yoKvM6BXYYB9FC2i4Nw4VhjdwI2qAmY1gF8XFfXdaTXneGNLP7n8IceKJNs75TyfXZhsw\n",
       "4kwze+OdShN8Q1Qz8Z/06treovrJ3yDcrFl9AC/6Tzlw5zAo2uShNpmSBeclEoATy5VhnFC2G5NC\n",
       "mDNLfpbO/FN36ldHBoEh3iFdvHVfG7l2RukhlLbnRtvTBHoUA+g6nxTOXJdVOvP5p38Khxo9utzK\n",
       "SDgAzV61NHyxCSKiOF8Kji8PTiEEBkNrhR1C1H7GJrrfqoLhMm9O18EoQcde7GCrPzhbe63idq67\n",
       "u/djMItmup8pmgzeR9U5x4YRbFRTycETCohj7ABA29alfs/BbRjckGwwPDorsr4fqYkqoKWoN/HD\n",
       "maVSJeEpa+AyNhW958EuY7SUmP8l5IRYY6MoNG88lFlnlebynI5N8IVr071YrOWqXhrXRn7GpKKb\n",
       "9oJFir/V1bi86sFwfgrC2SkmOTOFeZgSp+caBgIfWWCtkNj8GaA3eft/X9BiwCXSl3FK/KT7a/rx\n",
       "43sOQG8+PQlxcdfRCTPCYqmk4Q98ziSah24kYj6AgnwAPXxmcyezFBfQymyuXuBjUu9Sj448O0Yb\n",
       "aQLGtZFCCHjqcqE//9c5KRVumIsIna/42UrHpJXcDIAwr/E0fFh8Uo/jKZ/6jQ7C2/MaOWDwAwX0\n",
       "8cZXcujQ3HUDXovf7tu/OeYjcL5QQf3/sw3iXB9O+sVksIBH+zo/1s/+/+zZI1aAf9ZMO1ibpNGV\n",
       "rwU7VOfHQoYWAe4CuFyJ3hsgaPi0lQP5ry6sC9x1urP/kQ16zO5Eoo3hMzmGYRtC+yvGLG/OcsG7\n",
       "RHTR4Tu6qlPCGdNfOH5VeAxveZ3JqYcj368aBBNxmLgHwvtXPuig/8E7Jpi9PC8QuASvNqHlUw0A\n",
       "eO8v7Iuv8mpxRJiTf+Cq1cDQFcxiBlHhRrUDVgdjwXHWEohEWldN/i0Zwsgkgpo3idUSqb/kEgFD\n",
       "b9Xe1HiTTlrUwiypX5qQvJ5nWZwCJk44jyQio3xQZ4kgwCde9Qk20+ryEaNmL31OAO30metZJpEB\n",
       "EYtBAAAAa0GaJGxDP/6eEAeyu2QAnc4Bxs1Hk3lgopLi52HWGOgOOCesaoq6FLkBuuzqHMiMqJ3f\n",
       "8rRZJAU2b2VJ7R9DpigQ8fNEHjP6Y2VOq2GzHsP88UtDMwrjYUfJyRmtO/8L0LSu5TG6lhvbFTWA\n",
       "AAAAF0GeQniP/wBxM2j6wZ3GXLDSALKxReohAAAAEgGeYXRH/wBxSYTsIJFeojb7VwAAABIBnmNq\n",
       "R/8AOL3uUUu+5kQNiIAAAAATQZpoSahBaJlMCGf//p4QAAAHTAAAABdBnoZFESwj/wAjSsnW5dNW\n",
       "WmpuHGzV0QAAABIBnqV0R/8AOJFOLVKsmVBmFOgAAAASAZ6nakf/ADiwAcmGFJ0INoinAAAAE0Ga\n",
       "rEmoQWyZTAhn//6eEAAAB0wAAAAVQZ7KRRUsI/8AI8VAbnqnSpYhvjrpAAAAEgGe6XRH/wA4kU4t\n",
       "UqyZUGYU6QAAABIBnutqR/8AOLAByYYUnQg2iKcAAAATQZrwSahBbJlMCGf//p4QAAAHTQAAABVB\n",
       "nw5FFSwj/wAjxUBueqdKliG+OugAAAASAZ8tdEf/ADiRTi1SrJlQZhToAAAAEgGfL2pH/wA4sAHJ\n",
       "hhSdCDaIpwAAABNBmzRJqEFsmUwIZ//+nhAAAAdMAAAAFUGfUkUVLCP/ACPFQG56p0qWIb466AAA\n",
       "ABIBn3F0R/8AOJFOLVKsmVBmFOkAAAASAZ9zakf/ADiwAcmGFJ0INoinAAAAE0GbeEmoQWyZTAhn\n",
       "//6eEAAAB00AAAAVQZ+WRRUsI/8AI8VAbnqnSpYhvjroAAAAEgGftXRH/wA4kU4tUqyZUGYU6AAA\n",
       "ABIBn7dqR/8AOLAByYYUnQg2iKcAAAATQZu8SahBbJlMCGf//p4QAAAHTAAAABVBn9pFFSwj/wAj\n",
       "xUBueqdKliG+OugAAAASAZ/5dEf/ADiRTi1SrJlQZhTpAAAAEgGf+2pH/wA4sAHJhhSdCDaIpgAA\n",
       "ABNBm+BJqEFsmUwIX//+jLAAAAdVAAAAFUGeHkUVLCP/ACPFQG56p0qWIb466QAAABIBnj10R/8A\n",
       "OJFOLVKsmVBmFOgAAAASAZ4/akf/ADiwAcmGFJ0INoinAAAAE0GaJEmoQWyZTAhf//6MsAAAB1QA\n",
       "AAAVQZ5CRRUsI/8AI8VAbnqnSpYhvjrpAAAAEgGeYXRH/wA4kU4tUqyZUGYU6QAAABIBnmNqR/8A\n",
       "OLAByYYUnQg2iKYAAAATQZpoSahBbJlMCF///oywAAAHVAAAABVBnoZFFSwj/wAjxUBueqdKliG+\n",
       "OukAAAASAZ6ldEf/ADiRTi1SrJlQZhToAAAAEgGep2pH/wA4sAHJhhSdCDaIpwAAABNBmqxJqEFs\n",
       "mUwIV//+OEAAABxwAAAAFUGeykUVLCP/ACPFQG56p0qWIb466QAAABIBnul0R/8AOJFOLVKsmVBm\n",
       "FOkAAAASAZ7rakf/ADiwAcmGFJ0INoinAAAAFEGa8EmoQWyZTAhH//3hAAADAG9BAAAAFUGfDkUV\n",
       "LCP/ACPFQG56p0qWIb466AAAABIBny10R/8AOJFOLVKsmVBmFOgAAAASAZ8vakf/ADiwAcmGFJ0I\n",
       "NoinAAAAEkGbMUmoQWyZTAj//IQAAAMBswAAEUZtb292AAAAbG12aGQAAAAAAAAAAAAAAAAAAAPo\n",
       "AAAXcAABAAABAAAAAAAAAAAAAAAAAQAAAAAAAAAAAAAAAAAAAAEAAAAAAAAAAAAAAAAAAEAAAAAA\n",
       "AAAAAAAAAAAAAAAAAAAAAAAAAAAAAAAAAAACAAAQcHRyYWsAAABcdGtoZAAAAAMAAAAAAAAAAAAA\n",
       "AAEAAAAAAAAXcAAAAAAAAAAAAAAAAAAAAAAAAQAAAAAAAAAAAAAAAAAAAAEAAAAAAAAAAAAAAAAA\n",
       "AEAAAAABsAAAASAAAAAAACRlZHRzAAAAHGVsc3QAAAAAAAAAAQAAF3AAAAIAAAEAAAAAD+htZGlh\n",
       "AAAAIG1kaGQAAAAAAAAAAAAAAAAAADIAAAEsAFXEAAAAAAAtaGRscgAAAAAAAAAAdmlkZQAAAAAA\n",
       "AAAAAAAAAFZpZGVvSGFuZGxlcgAAAA+TbWluZgAAABR2bWhkAAAAAQAAAAAAAAAAAAAAJGRpbmYA\n",
       "AAAcZHJlZgAAAAAAAAABAAAADHVybCAAAAABAAAPU3N0YmwAAAC3c3RzZAAAAAAAAAABAAAAp2F2\n",
       "YzEAAAAAAAAAAQAAAAAAAAAAAAAAAAAAAAABsAEgAEgAAABIAAAAAAAAAAEAAAAAAAAAAAAAAAAA\n",
       "AAAAAAAAAAAAAAAAAAAAAAAAAAAY//8AAAA1YXZjQwFkAB7/4QAYZ2QAHqzZQbCWhAAAAwAEAAAD\n",
       "AZA8WLZYAQAGaOvjyyLA/fj4AAAAABx1dWlka2hA8l8kT8W6OaUbzwMj8wAAAAAAAAAYc3R0cwAA\n",
       "AAAAAAABAAABLAAAAQAAAAAYc3RzcwAAAAAAAAACAAAAAQAAAPsAAAlwY3R0cwAAAAAAAAEsAAAA\n",
       "AQAAAgAAAAABAAAFAAAAAAEAAAIAAAAAAQAAAAAAAAABAAABAAAAAAEAAAUAAAAAAQAAAgAAAAAB\n",
       "AAAAAAAAAAEAAAEAAAAAAQAABQAAAAABAAACAAAAAAEAAAAAAAAAAQAAAQAAAAABAAAFAAAAAAEA\n",
       "AAIAAAAAAQAAAAAAAAABAAABAAAAAAEAAAIAAAAAAQAABQAAAAABAAACAAAAAAEAAAAAAAAAAQAA\n",
       "AQAAAAABAAAFAAAAAAEAAAIAAAAAAQAAAAAAAAABAAABAAAAAAEAAAUAAAAAAQAAAgAAAAABAAAA\n",
       "AAAAAAEAAAEAAAAAAQAABQAAAAABAAACAAAAAAEAAAAAAAAAAQAAAQAAAAABAAAFAAAAAAEAAAIA\n",
       "AAAAAQAAAAAAAAABAAABAAAAAAEAAAUAAAAAAQAAAgAAAAABAAAAAAAAAAEAAAEAAAAAAQAABQAA\n",
       "AAABAAACAAAAAAEAAAAAAAAAAQAAAQAAAAABAAAFAAAAAAEAAAIAAAAAAQAAAAAAAAABAAABAAAA\n",
       "AAEAAAUAAAAAAQAAAgAAAAABAAAAAAAAAAEAAAEAAAAAAQAABQAAAAABAAACAAAAAAEAAAAAAAAA\n",
       "AQAAAQAAAAABAAAFAAAAAAEAAAIAAAAAAQAAAAAAAAABAAABAAAAAAEAAAUAAAAAAQAAAgAAAAAB\n",
       "AAAAAAAAAAEAAAEAAAAAAQAABQAAAAABAAACAAAAAAEAAAAAAAAAAQAAAQAAAAABAAAFAAAAAAEA\n",
       "AAIAAAAAAQAAAAAAAAABAAABAAAAAAEAAAUAAAAAAQAAAgAAAAABAAAAAAAAAAEAAAEAAAAAAQAA\n",
       "BQAAAAABAAACAAAAAAEAAAAAAAAAAQAAAQAAAAABAAAFAAAAAAEAAAIAAAAAAQAAAAAAAAABAAAB\n",
       "AAAAAAEAAAUAAAAAAQAAAgAAAAABAAAAAAAAAAEAAAEAAAAAAQAABQAAAAABAAACAAAAAAEAAAAA\n",
       "AAAAAQAAAQAAAAABAAAFAAAAAAEAAAIAAAAAAQAAAAAAAAABAAABAAAAAAEAAAUAAAAAAQAAAgAA\n",
       "AAABAAAAAAAAAAEAAAEAAAAAAQAABQAAAAABAAACAAAAAAEAAAAAAAAAAQAAAQAAAAABAAAFAAAA\n",
       "AAEAAAIAAAAAAQAAAAAAAAABAAABAAAAAAEAAAUAAAAAAQAAAgAAAAABAAAAAAAAAAEAAAEAAAAA\n",
       "AQAABQAAAAABAAACAAAAAAEAAAAAAAAAAQAAAQAAAAABAAAFAAAAAAEAAAIAAAAAAQAAAAAAAAAB\n",
       "AAABAAAAAAEAAAUAAAAAAQAAAgAAAAABAAAAAAAAAAEAAAEAAAAAAQAABQAAAAABAAACAAAAAAEA\n",
       "AAAAAAAAAQAAAQAAAAABAAAFAAAAAAEAAAIAAAAAAQAAAAAAAAABAAABAAAAAAEAAAUAAAAAAQAA\n",
       "AgAAAAABAAAAAAAAAAEAAAEAAAAAAQAABQAAAAABAAACAAAAAAEAAAAAAAAAAQAAAQAAAAABAAAF\n",
       "AAAAAAEAAAIAAAAAAQAAAAAAAAABAAABAAAAAAEAAAUAAAAAAQAAAgAAAAABAAAAAAAAAAEAAAEA\n",
       "AAAAAQAABQAAAAABAAACAAAAAAEAAAAAAAAAAQAAAQAAAAABAAAFAAAAAAEAAAIAAAAAAQAAAAAA\n",
       "AAABAAABAAAAAAEAAAUAAAAAAQAAAgAAAAABAAAAAAAAAAEAAAEAAAAAAQAABQAAAAABAAACAAAA\n",
       "AAEAAAAAAAAAAQAAAQAAAAABAAAFAAAAAAEAAAIAAAAAAQAAAAAAAAABAAABAAAAAAEAAAUAAAAA\n",
       "AQAAAgAAAAABAAAAAAAAAAEAAAEAAAAAAQAABQAAAAABAAACAAAAAAEAAAAAAAAAAQAAAQAAAAAB\n",
       "AAAFAAAAAAEAAAIAAAAAAQAAAAAAAAABAAABAAAAAAEAAAUAAAAAAQAAAgAAAAABAAAAAAAAAAEA\n",
       "AAEAAAAAAQAABQAAAAABAAACAAAAAAEAAAAAAAAAAQAAAQAAAAABAAAFAAAAAAEAAAIAAAAAAQAA\n",
       "AAAAAAABAAABAAAAAAEAAAUAAAAAAQAAAgAAAAABAAAAAAAAAAEAAAEAAAAAAQAABQAAAAABAAAC\n",
       "AAAAAAEAAAAAAAAAAQAAAQAAAAABAAAFAAAAAAEAAAIAAAAAAQAAAAAAAAABAAABAAAAAAEAAAUA\n",
       "AAAAAQAAAgAAAAABAAAAAAAAAAEAAAEAAAAAAQAABQAAAAABAAACAAAAAAEAAAAAAAAAAQAAAQAA\n",
       "AAABAAAFAAAAAAEAAAIAAAAAAQAAAAAAAAABAAABAAAAAAEAAAUAAAAAAQAAAgAAAAABAAAAAAAA\n",
       "AAEAAAEAAAAAAQAABQAAAAABAAACAAAAAAEAAAAAAAAAAQAAAQAAAAABAAAFAAAAAAEAAAIAAAAA\n",
       "AQAAAAAAAAABAAABAAAAAAEAAAUAAAAAAQAAAgAAAAABAAAAAAAAAAEAAAEAAAAAAQAABQAAAAAB\n",
       "AAACAAAAAAEAAAAAAAAAAQAAAQAAAAABAAAFAAAAAAEAAAIAAAAAAQAAAAAAAAABAAABAAAAAAEA\n",
       "AAUAAAAAAQAAAgAAAAABAAAAAAAAAAEAAAEAAAAAAQAABQAAAAABAAACAAAAAAEAAAAAAAAAAQAA\n",
       "AQAAAAABAAACAAAAAAEAAAUAAAAAAQAAAgAAAAABAAAAAAAAAAEAAAEAAAAAAQAABQAAAAABAAAC\n",
       "AAAAAAEAAAAAAAAAAQAAAQAAAAABAAAFAAAAAAEAAAIAAAAAAQAAAAAAAAABAAABAAAAAAEAAAUA\n",
       "AAAAAQAAAgAAAAABAAAAAAAAAAEAAAEAAAAAAQAABQAAAAABAAACAAAAAAEAAAAAAAAAAQAAAQAA\n",
       "AAABAAAFAAAAAAEAAAIAAAAAAQAAAAAAAAABAAABAAAAAAEAAAUAAAAAAQAAAgAAAAABAAAAAAAA\n",
       "AAEAAAEAAAAAAQAABQAAAAABAAACAAAAAAEAAAAAAAAAAQAAAQAAAAABAAAFAAAAAAEAAAIAAAAA\n",
       "AQAAAAAAAAABAAABAAAAAAEAAAUAAAAAAQAAAgAAAAABAAAAAAAAAAEAAAEAAAAAAQAABQAAAAAB\n",
       "AAACAAAAAAEAAAAAAAAAAQAAAQAAAAABAAAFAAAAAAEAAAIAAAAAAQAAAAAAAAABAAABAAAAAAEA\n",
       "AAIAAAAAHHN0c2MAAAAAAAAAAQAAAAEAAAEsAAAAAQAABMRzdHN6AAAAAAAAAAAAAAEsAAAMtgAA\n",
       "AOMAAAA2AAAALQAAABgAAAAtAAAAIgAAABoAAAAaAAAANgAAAB8AAAAYAAAAGwAAACgAAAAdAAAA\n",
       "GgAAABkAAAAvAAAAUAAAAB4AAAAZAAAAGgAAACsAAAAfAAAAGwAAABkAAAAkAAAAGwAAABkAAAAZ\n",
       "AAAAQAAAABwAAAAaAAAAGQAAAC4AAAAbAAAAGAAAABgAAABBAAAAHQAAABkAAAAaAAAAMAAAAB0A\n",
       "AAAZAAAAGgAAAC8AAAAcAAAAGAAAABkAAAA7AAAAGwAAABgAAAAYAAAAMwAAABwAAAAaAAAAGAAA\n",
       "ACgAAAAbAAAAFwAAABcAAAAwAAAAGQAAABgAAAATAAAAJwAAABsAAAAXAAAAFwAAABcAAAAVAAAA\n",
       "EgAAABMAAAAnAAAAFQAAABIAAAATAAAAMQAAABoAAAASAAAAFwAAACkAAAAbAAAAFwAAABcAAAAn\n",
       "AAAAGwAAABcAAAAXAAAAJwAAABsAAAAXAAAAFwAAAEYAAAAdAAAAGAAAABgAAAAfAAAAGwAAABcA\n",
       "AAAYAAAAJgAAABsAAAAXAAAAFwAAACYAAAAbAAAAFwAAABgAAAAuAAAAGwAAABcAAAAXAAAAJgAA\n",
       "ABsAAAAXAAAAFwAAACYAAAAbAAAAFwAAABcAAAAuAAAAGgAAABIAAAAXAAAAKwAAABoAAAAYAAAA\n",
       "EwAAACoAAAAaAAAAEgAAABcAAAAXAAAAFQAAABIAAAATAAAAFwAAABUAAAASAAAAEwAAABcAAAAV\n",
       "AAAAEgAAABMAAAAXAAAAFQAAABIAAAATAAAAFwAAABUAAAASAAAAEwAAADgAAAAZAAAAFwAAABMA\n",
       "AAA0AAAAGwAAABIAAAAYAAAAHwAAABUAAAASAAAAEwAAACkAAAAaAAAAFwAAABQAAAAlAAAAGgAA\n",
       "ABIAAAAXAAAAFwAAABUAAAASAAAAEwAAACkAAAAZAAAAFwAAABMAAAAXAAAAFQAAABIAAAATAAAA\n",
       "NAAAABkAAAAXAAAAEwAAABsAAAAXAAAAFAAAABMAAAAyAAAAGgAAABIAAAAXAAAAFwAAABUAAAAS\n",
       "AAAAEwAAABcAAAAVAAAAEgAAABMAAAAXAAAAFQAAABIAAAATAAAAFwAAABUAAAASAAAAEwAAABcA\n",
       "AAAVAAAAEgAAABMAAAAXAAAAFQAAABIAAAATAAAAFwAAABUAAAASAAAAEwAAADIAAAAaAAAAEgAA\n",
       "ABcAAAAXAAAAFQAAABIAAAATAAAAFwAAABUAAAASAAAAEwAAABcAAAAVAAAAEgAAABMAAAAXAAAA\n",
       "FQAAABIAAAATAAAAFwAAABUAAAASAAAAEwAAC0cAAABvAAAAGwAAABYAAAAWAAAAFwAAABsAAAAW\n",
       "AAAAFgAAABcAAAAZAAAAFgAAABYAAAAXAAAAGQAAABYAAAAWAAAAFwAAABkAAAAWAAAAFgAAABcA\n",
       "AAAZAAAAFgAAABYAAAAXAAAAGQAAABYAAAAWAAAAFwAAABkAAAAWAAAAFgAAABcAAAAZAAAAFgAA\n",
       "ABYAAAAXAAAAGQAAABYAAAAWAAAAFwAAABkAAAAWAAAAFgAAABgAAAAZAAAAFgAAABYAAAAWAAAA\n",
       "FHN0Y28AAAAAAAAAAQAAADAAAABidWR0YQAAAFptZXRhAAAAAAAAACFoZGxyAAAAAAAAAABtZGly\n",
       "YXBwbAAAAAAAAAAAAAAAAC1pbHN0AAAAJal0b28AAAAdZGF0YQAAAAEAAAAATGF2ZjU4LjQ1LjEw\n",
       "MA==\n",
       "\">\n",
       "  Your browser does not support the video tag.\n",
       "</video>"
      ],
      "text/plain": [
       "<IPython.core.display.HTML object>"
      ]
     },
     "metadata": {},
     "output_type": "display_data"
    }
   ],
   "source": [
    "from IPython import display\n",
    "video=anim.to_html5_video()\n",
    "html=display.HTML(video)\n",
    "display.display(html)\n",
    "plt.close()"
   ]
  },
  {
   "cell_type": "markdown",
   "metadata": {},
   "source": [
    "# Simulated vs reference behaviour"
   ]
  },
  {
   "cell_type": "code",
   "execution_count": 118,
   "metadata": {},
   "outputs": [
    {
     "data": {
      "image/png": "[encoded data removed]",
      "text/plain": [
       "<Figure size 576x504 with 1 Axes>"
      ]
     },
     "metadata": {
      "needs_background": "light"
     },
     "output_type": "display_data"
    }
   ],
   "source": [
    "p,v=call_state()\n",
    "x=np.arange(0,1000,0.1)\n",
    "y=[x_ref(i) for i in x ]\n",
    "plt.figure(figsize=(8,7))\n",
    "plt.plot(x,p,label=\"simulated behaviour of spring\")\n",
    "plt.plot(x,y,label=\"reference behaviour for spring\")\n",
    "plt.xlabel(\"time\")\n",
    "plt.ylabel(\"amplitude\")\n",
    "plt.legend() \n",
    "plt.show()"
   ]
  },
  {
   "cell_type": "code",
   "execution_count": null,
   "metadata": {},
   "outputs": [],
   "source": []
  }
 ],
 "metadata": {
  "kernelspec": {
   "display_name": "Python 3",
   "language": "python",
   "name": "python3"
  },
  "language_info": {
   "codemirror_mode": {
    "name": "ipython",
    "version": 3
   },
   "file_extension": ".py",
   "mimetype": "text/x-python",
   "name": "python",
   "nbconvert_exporter": "python",
   "pygments_lexer": "ipython3",
   "version": "3.7.6"
  }
 },
 "nbformat": 4,
 "nbformat_minor": 4
}
